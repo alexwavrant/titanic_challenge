{
 "cells": [
  {
   "cell_type": "markdown",
   "source": [
    "## Step 0: Why EDA?\n",
    "\n",
    "Not all data comes in a neat little package ready to be modelled by the latest and greatest machine learning models.\n",
    "\n",
    "Most of the time, you'll get a dataset you don't know much about. So before you can make any solid predictions, you'll to find out more.\n",
    "\n",
    "This is where EDA comes in.\n",
    "\n",
    "The main thing to remember is the first word. Exploratory. You're trying to figure out more about the data so you can build a model the best way you can.\n",
    "\n",
    "You'll usually do this when you first look at a dataset but it'll continually happen as you learn more. EDA is an iterative process. There's no one way to do it either. It'll vary with each new dataset but there are some things you'll find yourself doing more often, we'll talk about those in this notebook."
   ],
   "metadata": {
    "collapsed": false,
    "pycharm": {
     "name": "#%% md\n"
    }
   }
  },
  {
   "cell_type": "markdown",
   "source": [
    "## Step 1: Download the data\n",
    "\n",
    "You can download the data for this notebook here: https://www.kaggle.com/c/titanic/data"
   ],
   "metadata": {
    "collapsed": false,
    "pycharm": {
     "name": "#%% md\n"
    }
   }
  },
  {
   "cell_type": "markdown",
   "source": [
    "## Step 2: Work through the notebook\n",
    "\n",
    "First we will import all the relevant dependencies we need."
   ],
   "metadata": {
    "collapsed": false,
    "pycharm": {
     "name": "#%% md\n"
    }
   }
  },
  {
   "cell_type": "code",
   "execution_count": 685,
   "outputs": [],
   "source": [
    "# Python imports\n",
    "import math, time, random, datetime\n",
    "\n",
    "# Data manipulation\n",
    "import pandas as pd\n",
    "import numpy as np\n",
    "\n",
    "# Visualisation\n",
    "import matplotlib.pyplot as plt\n",
    "import missingno\n",
    "import seaborn as sns\n",
    "\n",
    "# Preprocessing\n",
    "from sklearn.preprocessing import OneHotEncoder, LabelEncoder, label_binarize\n",
    "from sklearn.model_selection import train_test_split\n",
    "from sklearn import model_selection, tree, preprocessing, metrics, linear_model\n",
    "from sklearn.svm import LinearSVC\n",
    "from sklearn.ensemble import GradientBoostingClassifier\n",
    "from sklearn.neighbors import KNeighborsClassifier\n",
    "from sklearn.naive_bayes import GaussianNB\n",
    "from sklearn.linear_model import LinearRegression, LogisticRegression, SGDClassifier\n",
    "from sklearn.tree import DecisionTreeClassifier\n",
    "from catboost import CatBoostClassifier, Pool, cv"
   ],
   "metadata": {
    "collapsed": false,
    "pycharm": {
     "name": "#%%\n"
    }
   }
  },
  {
   "cell_type": "code",
   "execution_count": 686,
   "outputs": [],
   "source": [
    "# Import training and testing data\n",
    "train = pd.read_csv(\"train.csv\")\n",
    "test = pd.read_csv(\"test.csv\")\n",
    "gender_submission = pd.read_csv('gender_submission.csv') # This is an example of what a submission should look like"
   ],
   "metadata": {
    "collapsed": false,
    "pycharm": {
     "name": "#%%\n"
    }
   }
  },
  {
   "cell_type": "code",
   "execution_count": 687,
   "outputs": [
    {
     "data": {
      "text/plain": "   PassengerId  Survived  Pclass  \\\n0            1         0       3   \n1            2         1       1   \n2            3         1       3   \n3            4         1       1   \n4            5         0       3   \n\n                                                Name     Sex Age  SibSp  \\\n0                            Braund, Mr. Owen Harris    male  22      1   \n1  Cumings, Mrs. John Bradley (Florence Briggs Th...  female  38      1   \n2                             Heikkinen, Miss. Laina  female  26      0   \n3       Futrelle, Mrs. Jacques Heath (Lily May Peel)  female  35      1   \n4                           Allen, Mr. William Henry    male  35      0   \n\n   Parch            Ticket     Fare Cabin Embarked  \n0      0         A/5 21171   7.2500   NaN        S  \n1      0          PC 17599  71.2833   C85        C  \n2      0  STON/O2. 3101282   7.9250   NaN        S  \n3      0            113803  53.1000  C123        S  \n4      0            373450   8.0500   NaN        S  ",
      "text/html": "<div>\n<style scoped>\n    .dataframe tbody tr th:only-of-type {\n        vertical-align: middle;\n    }\n\n    .dataframe tbody tr th {\n        vertical-align: top;\n    }\n\n    .dataframe thead th {\n        text-align: right;\n    }\n</style>\n<table border=\"1\" class=\"dataframe\">\n  <thead>\n    <tr style=\"text-align: right;\">\n      <th></th>\n      <th>PassengerId</th>\n      <th>Survived</th>\n      <th>Pclass</th>\n      <th>Name</th>\n      <th>Sex</th>\n      <th>Age</th>\n      <th>SibSp</th>\n      <th>Parch</th>\n      <th>Ticket</th>\n      <th>Fare</th>\n      <th>Cabin</th>\n      <th>Embarked</th>\n    </tr>\n  </thead>\n  <tbody>\n    <tr>\n      <th>0</th>\n      <td>1</td>\n      <td>0</td>\n      <td>3</td>\n      <td>Braund, Mr. Owen Harris</td>\n      <td>male</td>\n      <td>22</td>\n      <td>1</td>\n      <td>0</td>\n      <td>A/5 21171</td>\n      <td>7.2500</td>\n      <td>NaN</td>\n      <td>S</td>\n    </tr>\n    <tr>\n      <th>1</th>\n      <td>2</td>\n      <td>1</td>\n      <td>1</td>\n      <td>Cumings, Mrs. John Bradley (Florence Briggs Th...</td>\n      <td>female</td>\n      <td>38</td>\n      <td>1</td>\n      <td>0</td>\n      <td>PC 17599</td>\n      <td>71.2833</td>\n      <td>C85</td>\n      <td>C</td>\n    </tr>\n    <tr>\n      <th>2</th>\n      <td>3</td>\n      <td>1</td>\n      <td>3</td>\n      <td>Heikkinen, Miss. Laina</td>\n      <td>female</td>\n      <td>26</td>\n      <td>0</td>\n      <td>0</td>\n      <td>STON/O2. 3101282</td>\n      <td>7.9250</td>\n      <td>NaN</td>\n      <td>S</td>\n    </tr>\n    <tr>\n      <th>3</th>\n      <td>4</td>\n      <td>1</td>\n      <td>1</td>\n      <td>Futrelle, Mrs. Jacques Heath (Lily May Peel)</td>\n      <td>female</td>\n      <td>35</td>\n      <td>1</td>\n      <td>0</td>\n      <td>113803</td>\n      <td>53.1000</td>\n      <td>C123</td>\n      <td>S</td>\n    </tr>\n    <tr>\n      <th>4</th>\n      <td>5</td>\n      <td>0</td>\n      <td>3</td>\n      <td>Allen, Mr. William Henry</td>\n      <td>male</td>\n      <td>35</td>\n      <td>0</td>\n      <td>0</td>\n      <td>373450</td>\n      <td>8.0500</td>\n      <td>NaN</td>\n      <td>S</td>\n    </tr>\n  </tbody>\n</table>\n</div>"
     },
     "execution_count": 687,
     "metadata": {},
     "output_type": "execute_result"
    }
   ],
   "source": [
    "# View the training data\n",
    "train.head()"
   ],
   "metadata": {
    "collapsed": false,
    "pycharm": {
     "name": "#%%\n"
    }
   }
  },
  {
   "cell_type": "code",
   "execution_count": 688,
   "outputs": [
    {
     "data": {
      "text/plain": "   PassengerId  Pclass                                          Name     Sex  \\\n0          892       3                              Kelly, Mr. James    male   \n1          893       3              Wilkes, Mrs. James (Ellen Needs)  female   \n2          894       2                     Myles, Mr. Thomas Francis    male   \n3          895       3                              Wirz, Mr. Albert    male   \n4          896       3  Hirvonen, Mrs. Alexander (Helga E Lindqvist)  female   \n\n    Age  SibSp  Parch   Ticket     Fare Cabin Embarked  \n0  34.5      0      0   330911   7.8292   NaN        Q  \n1  47.0      1      0   363272   7.0000   NaN        S  \n2  62.0      0      0   240276   9.6875   NaN        Q  \n3  27.0      0      0   315154   8.6625   NaN        S  \n4  22.0      1      1  3101298  12.2875   NaN        S  ",
      "text/html": "<div>\n<style scoped>\n    .dataframe tbody tr th:only-of-type {\n        vertical-align: middle;\n    }\n\n    .dataframe tbody tr th {\n        vertical-align: top;\n    }\n\n    .dataframe thead th {\n        text-align: right;\n    }\n</style>\n<table border=\"1\" class=\"dataframe\">\n  <thead>\n    <tr style=\"text-align: right;\">\n      <th></th>\n      <th>PassengerId</th>\n      <th>Pclass</th>\n      <th>Name</th>\n      <th>Sex</th>\n      <th>Age</th>\n      <th>SibSp</th>\n      <th>Parch</th>\n      <th>Ticket</th>\n      <th>Fare</th>\n      <th>Cabin</th>\n      <th>Embarked</th>\n    </tr>\n  </thead>\n  <tbody>\n    <tr>\n      <th>0</th>\n      <td>892</td>\n      <td>3</td>\n      <td>Kelly, Mr. James</td>\n      <td>male</td>\n      <td>34.5</td>\n      <td>0</td>\n      <td>0</td>\n      <td>330911</td>\n      <td>7.8292</td>\n      <td>NaN</td>\n      <td>Q</td>\n    </tr>\n    <tr>\n      <th>1</th>\n      <td>893</td>\n      <td>3</td>\n      <td>Wilkes, Mrs. James (Ellen Needs)</td>\n      <td>female</td>\n      <td>47.0</td>\n      <td>1</td>\n      <td>0</td>\n      <td>363272</td>\n      <td>7.0000</td>\n      <td>NaN</td>\n      <td>S</td>\n    </tr>\n    <tr>\n      <th>2</th>\n      <td>894</td>\n      <td>2</td>\n      <td>Myles, Mr. Thomas Francis</td>\n      <td>male</td>\n      <td>62.0</td>\n      <td>0</td>\n      <td>0</td>\n      <td>240276</td>\n      <td>9.6875</td>\n      <td>NaN</td>\n      <td>Q</td>\n    </tr>\n    <tr>\n      <th>3</th>\n      <td>895</td>\n      <td>3</td>\n      <td>Wirz, Mr. Albert</td>\n      <td>male</td>\n      <td>27.0</td>\n      <td>0</td>\n      <td>0</td>\n      <td>315154</td>\n      <td>8.6625</td>\n      <td>NaN</td>\n      <td>S</td>\n    </tr>\n    <tr>\n      <th>4</th>\n      <td>896</td>\n      <td>3</td>\n      <td>Hirvonen, Mrs. Alexander (Helga E Lindqvist)</td>\n      <td>female</td>\n      <td>22.0</td>\n      <td>1</td>\n      <td>1</td>\n      <td>3101298</td>\n      <td>12.2875</td>\n      <td>NaN</td>\n      <td>S</td>\n    </tr>\n  </tbody>\n</table>\n</div>"
     },
     "execution_count": 688,
     "metadata": {},
     "output_type": "execute_result"
    }
   ],
   "source": [
    "# View the test data (same columns as the training data)\n",
    "test.head()"
   ],
   "metadata": {
    "collapsed": false,
    "pycharm": {
     "name": "#%%\n"
    }
   }
  },
  {
   "cell_type": "code",
   "execution_count": 689,
   "outputs": [
    {
     "data": {
      "text/plain": "   PassengerId  Survived\n0          892         0\n1          893         1\n2          894         0\n3          895         0\n4          896         1",
      "text/html": "<div>\n<style scoped>\n    .dataframe tbody tr th:only-of-type {\n        vertical-align: middle;\n    }\n\n    .dataframe tbody tr th {\n        vertical-align: top;\n    }\n\n    .dataframe thead th {\n        text-align: right;\n    }\n</style>\n<table border=\"1\" class=\"dataframe\">\n  <thead>\n    <tr style=\"text-align: right;\">\n      <th></th>\n      <th>PassengerId</th>\n      <th>Survived</th>\n    </tr>\n  </thead>\n  <tbody>\n    <tr>\n      <th>0</th>\n      <td>892</td>\n      <td>0</td>\n    </tr>\n    <tr>\n      <th>1</th>\n      <td>893</td>\n      <td>1</td>\n    </tr>\n    <tr>\n      <th>2</th>\n      <td>894</td>\n      <td>0</td>\n    </tr>\n    <tr>\n      <th>3</th>\n      <td>895</td>\n      <td>0</td>\n    </tr>\n    <tr>\n      <th>4</th>\n      <td>896</td>\n      <td>1</td>\n    </tr>\n  </tbody>\n</table>\n</div>"
     },
     "execution_count": 689,
     "metadata": {},
     "output_type": "execute_result"
    }
   ],
   "source": [
    "# View the example submission dataframe\n",
    "gender_submission.head()"
   ],
   "metadata": {
    "collapsed": false,
    "pycharm": {
     "name": "#%%\n"
    }
   }
  },
  {
   "cell_type": "markdown",
   "source": [
    "## Data Descriptions\n",
    "**Survival:** 0 = No, 1 = Yes\n",
    "\n",
    "**pclass (Ticket class):** 1 = 1st, 2 = 2nd, 3 = 3rd\n",
    "\n",
    "**sex:** Sex\n",
    "\n",
    "**Age:** Age in years\n",
    "\n",
    "**sibsp:** number of siblings/spouses aboard the Titanic\n",
    "\n",
    "**parch:** number of parents/children aboard the Titanic\n",
    "\n",
    "**ticket:** Ticket number\n",
    "\n",
    "**fare:** Passenger fare\n",
    "\n",
    "**cabin:** Cabin number\n",
    "\n",
    "**embarked:** Port of Embarkation, C = Cherbourg, Q = Queenstown, S = Southampton"
   ],
   "metadata": {
    "collapsed": false,
    "pycharm": {
     "name": "#%% md\n"
    }
   }
  },
  {
   "cell_type": "code",
   "execution_count": 690,
   "outputs": [
    {
     "data": {
      "text/plain": "       PassengerId    Survived      Pclass       SibSp       Parch        Fare\ncount   891.000000  891.000000  891.000000  891.000000  891.000000  891.000000\nmean    446.000000    0.383838    2.308642    0.523008    0.381594   32.204208\nstd     257.353842    0.486592    0.836071    1.102743    0.806057   49.693429\nmin       1.000000    0.000000    1.000000    0.000000    0.000000    0.000000\n25%     223.500000    0.000000    2.000000    0.000000    0.000000    7.910400\n50%     446.000000    0.000000    3.000000    0.000000    0.000000   14.454200\n75%     668.500000    1.000000    3.000000    1.000000    0.000000   31.000000\nmax     891.000000    1.000000    3.000000    8.000000    6.000000  512.329200",
      "text/html": "<div>\n<style scoped>\n    .dataframe tbody tr th:only-of-type {\n        vertical-align: middle;\n    }\n\n    .dataframe tbody tr th {\n        vertical-align: top;\n    }\n\n    .dataframe thead th {\n        text-align: right;\n    }\n</style>\n<table border=\"1\" class=\"dataframe\">\n  <thead>\n    <tr style=\"text-align: right;\">\n      <th></th>\n      <th>PassengerId</th>\n      <th>Survived</th>\n      <th>Pclass</th>\n      <th>SibSp</th>\n      <th>Parch</th>\n      <th>Fare</th>\n    </tr>\n  </thead>\n  <tbody>\n    <tr>\n      <th>count</th>\n      <td>891.000000</td>\n      <td>891.000000</td>\n      <td>891.000000</td>\n      <td>891.000000</td>\n      <td>891.000000</td>\n      <td>891.000000</td>\n    </tr>\n    <tr>\n      <th>mean</th>\n      <td>446.000000</td>\n      <td>0.383838</td>\n      <td>2.308642</td>\n      <td>0.523008</td>\n      <td>0.381594</td>\n      <td>32.204208</td>\n    </tr>\n    <tr>\n      <th>std</th>\n      <td>257.353842</td>\n      <td>0.486592</td>\n      <td>0.836071</td>\n      <td>1.102743</td>\n      <td>0.806057</td>\n      <td>49.693429</td>\n    </tr>\n    <tr>\n      <th>min</th>\n      <td>1.000000</td>\n      <td>0.000000</td>\n      <td>1.000000</td>\n      <td>0.000000</td>\n      <td>0.000000</td>\n      <td>0.000000</td>\n    </tr>\n    <tr>\n      <th>25%</th>\n      <td>223.500000</td>\n      <td>0.000000</td>\n      <td>2.000000</td>\n      <td>0.000000</td>\n      <td>0.000000</td>\n      <td>7.910400</td>\n    </tr>\n    <tr>\n      <th>50%</th>\n      <td>446.000000</td>\n      <td>0.000000</td>\n      <td>3.000000</td>\n      <td>0.000000</td>\n      <td>0.000000</td>\n      <td>14.454200</td>\n    </tr>\n    <tr>\n      <th>75%</th>\n      <td>668.500000</td>\n      <td>1.000000</td>\n      <td>3.000000</td>\n      <td>1.000000</td>\n      <td>0.000000</td>\n      <td>31.000000</td>\n    </tr>\n    <tr>\n      <th>max</th>\n      <td>891.000000</td>\n      <td>1.000000</td>\n      <td>3.000000</td>\n      <td>8.000000</td>\n      <td>6.000000</td>\n      <td>512.329200</td>\n    </tr>\n  </tbody>\n</table>\n</div>"
     },
     "execution_count": 690,
     "metadata": {},
     "output_type": "execute_result"
    }
   ],
   "source": [
    "train.describe()"
   ],
   "metadata": {
    "collapsed": false,
    "pycharm": {
     "name": "#%%\n"
    }
   }
  },
  {
   "cell_type": "markdown",
   "source": [
    "## What missing values are there?\n",
    "What are the holes in our data?\n",
    "\n",
    "These are rows which are missing a value or have NaN instead of something like the rest of the column."
   ],
   "metadata": {
    "collapsed": false,
    "pycharm": {
     "name": "#%% md\n"
    }
   }
  },
  {
   "cell_type": "code",
   "execution_count": 691,
   "outputs": [
    {
     "data": {
      "text/plain": "<AxesSubplot:>"
     },
     "execution_count": 691,
     "metadata": {},
     "output_type": "execute_result"
    },
    {
     "data": {
      "text/plain": "<Figure size 2160x720 with 2 Axes>",
      "image/png": "[encoded data removed]"
     },
     "metadata": {},
     "output_type": "display_data"
    }
   ],
   "source": [
    "# Plot graphic or missing values\n",
    "# figsize is jsut used to choose the size of the displayed figure (30x10 pixels in our case)\n",
    "missingno.matrix(train, figsize=(30,10))"
   ],
   "metadata": {
    "collapsed": false,
    "pycharm": {
     "name": "#%%\n"
    }
   }
  },
  {
   "cell_type": "markdown",
   "source": [
    "We can clearly see some missing values here. Especially in the cabin column.\n",
    "\n",
    "It's important to visualise missing values early so we know where the major holes are in your dataset.\n",
    "\n",
    "Knowing this information will help with your EDA and figuring out what kind of data cleaning and preprocessing is needed."
   ],
   "metadata": {
    "collapsed": false,
    "pycharm": {
     "name": "#%% md\n"
    }
   }
  },
  {
   "cell_type": "code",
   "execution_count": 692,
   "outputs": [
    {
     "name": "stdout",
     "output_type": "stream",
     "text": [
      "Number of missing values or NaN values for each column:\n"
     ]
    },
    {
     "data": {
      "text/plain": "{'PassengerId': 0,\n 'Survived': 0,\n 'Pclass': 0,\n 'Name': 0,\n 'Sex': 0,\n 'Age': 177,\n 'SibSp': 0,\n 'Parch': 0,\n 'Ticket': 0,\n 'Fare': 0,\n 'Cabin': 687,\n 'Embarked': 2}"
     },
     "execution_count": 692,
     "metadata": {},
     "output_type": "execute_result"
    }
   ],
   "source": [
    "def find_missing_values(df, columns):\n",
    "    \"\"\"\n",
    "    Find number of rows where certain columns are missing values.\n",
    "    :param df: Target dataframe.\n",
    "    :param columns: List of columns.\n",
    "    :return: A dictionary of the number of rows missing for each column.\n",
    "    \"\"\"\n",
    "    missing_vals = {}\n",
    "    print(\"Number of missing values or NaN values for each column:\")\n",
    "    df_length = len(df)\n",
    "\n",
    "    for column in columns:\n",
    "        total_column_values = df[column].value_counts().sum()\n",
    "        missing_vals[column] = df_length - total_column_values\n",
    "    return missing_vals\n",
    "missing_values = find_missing_values(train, columns=train.columns)\n",
    "missing_values"
   ],
   "metadata": {
    "collapsed": false,
    "pycharm": {
     "name": "#%%\n"
    }
   }
  },
  {
   "cell_type": "markdown",
   "source": [
    "## To perform our data analysis, let's create two new dataframes\n",
    "We'll create one for exploring discretised continuous variables (continuous variables which have been sorted into some kind of category) and another for exploring continuous variables."
   ],
   "metadata": {
    "collapsed": false,
    "pycharm": {
     "name": "#%% md\n"
    }
   }
  },
  {
   "cell_type": "code",
   "execution_count": 693,
   "outputs": [],
   "source": [
    "df_bin = pd.DataFrame() # for discretised continuous variables (categorical variables)\n",
    "df_con = pd.DataFrame() # for continuous variables"
   ],
   "metadata": {
    "collapsed": false,
    "pycharm": {
     "name": "#%%\n"
    }
   }
  },
  {
   "cell_type": "markdown",
   "source": [
    "## What types are in the dataframe?\n",
    "As a general rule of thumb, features with a datatype of object could be considered categorical features. And those which are floats or ints (numbers) could be considered numerical features.\n",
    "\n",
    "However, as we dig deeper, we might find features which are numerical may actually be categorical.\n",
    "\n",
    "The goal for the next few steps is to figure out how best to process the data so our machine learning model can learn from it.\n",
    "\n",
    "Ideally, all the features will be encoded into a numerical value of some kind."
   ],
   "metadata": {
    "collapsed": false,
    "pycharm": {
     "name": "#%% md\n"
    }
   }
  },
  {
   "cell_type": "code",
   "execution_count": 694,
   "outputs": [
    {
     "data": {
      "text/plain": "PassengerId      int64\nSurvived         int64\nPclass           int64\nName            object\nSex             object\nAge             object\nSibSp            int64\nParch            int64\nTicket          object\nFare           float64\nCabin           object\nEmbarked        object\ndtype: object"
     },
     "execution_count": 694,
     "metadata": {},
     "output_type": "execute_result"
    }
   ],
   "source": [
    "# Different data types im the dataset\n",
    "train.dtypes"
   ],
   "metadata": {
    "collapsed": false,
    "pycharm": {
     "name": "#%%\n"
    }
   }
  },
  {
   "cell_type": "markdown",
   "source": [
    "## Let's explore each of these features individually\n",
    "We'll go through each column iteratively and see which ones to use in our first models. Some may need more preprocessing than others to get ready."
   ],
   "metadata": {
    "collapsed": false,
    "pycharm": {
     "name": "#%% md\n"
    }
   }
  },
  {
   "cell_type": "code",
   "execution_count": 695,
   "outputs": [
    {
     "data": {
      "text/plain": "   PassengerId  Survived  Pclass  \\\n0            1         0       3   \n1            2         1       1   \n2            3         1       3   \n3            4         1       1   \n4            5         0       3   \n\n                                                Name     Sex Age  SibSp  \\\n0                            Braund, Mr. Owen Harris    male  22      1   \n1  Cumings, Mrs. John Bradley (Florence Briggs Th...  female  38      1   \n2                             Heikkinen, Miss. Laina  female  26      0   \n3       Futrelle, Mrs. Jacques Heath (Lily May Peel)  female  35      1   \n4                           Allen, Mr. William Henry    male  35      0   \n\n   Parch            Ticket     Fare Cabin Embarked  \n0      0         A/5 21171   7.2500   NaN        S  \n1      0          PC 17599  71.2833   C85        C  \n2      0  STON/O2. 3101282   7.9250   NaN        S  \n3      0            113803  53.1000  C123        S  \n4      0            373450   8.0500   NaN        S  ",
      "text/html": "<div>\n<style scoped>\n    .dataframe tbody tr th:only-of-type {\n        vertical-align: middle;\n    }\n\n    .dataframe tbody tr th {\n        vertical-align: top;\n    }\n\n    .dataframe thead th {\n        text-align: right;\n    }\n</style>\n<table border=\"1\" class=\"dataframe\">\n  <thead>\n    <tr style=\"text-align: right;\">\n      <th></th>\n      <th>PassengerId</th>\n      <th>Survived</th>\n      <th>Pclass</th>\n      <th>Name</th>\n      <th>Sex</th>\n      <th>Age</th>\n      <th>SibSp</th>\n      <th>Parch</th>\n      <th>Ticket</th>\n      <th>Fare</th>\n      <th>Cabin</th>\n      <th>Embarked</th>\n    </tr>\n  </thead>\n  <tbody>\n    <tr>\n      <th>0</th>\n      <td>1</td>\n      <td>0</td>\n      <td>3</td>\n      <td>Braund, Mr. Owen Harris</td>\n      <td>male</td>\n      <td>22</td>\n      <td>1</td>\n      <td>0</td>\n      <td>A/5 21171</td>\n      <td>7.2500</td>\n      <td>NaN</td>\n      <td>S</td>\n    </tr>\n    <tr>\n      <th>1</th>\n      <td>2</td>\n      <td>1</td>\n      <td>1</td>\n      <td>Cumings, Mrs. John Bradley (Florence Briggs Th...</td>\n      <td>female</td>\n      <td>38</td>\n      <td>1</td>\n      <td>0</td>\n      <td>PC 17599</td>\n      <td>71.2833</td>\n      <td>C85</td>\n      <td>C</td>\n    </tr>\n    <tr>\n      <th>2</th>\n      <td>3</td>\n      <td>1</td>\n      <td>3</td>\n      <td>Heikkinen, Miss. Laina</td>\n      <td>female</td>\n      <td>26</td>\n      <td>0</td>\n      <td>0</td>\n      <td>STON/O2. 3101282</td>\n      <td>7.9250</td>\n      <td>NaN</td>\n      <td>S</td>\n    </tr>\n    <tr>\n      <th>3</th>\n      <td>4</td>\n      <td>1</td>\n      <td>1</td>\n      <td>Futrelle, Mrs. Jacques Heath (Lily May Peel)</td>\n      <td>female</td>\n      <td>35</td>\n      <td>1</td>\n      <td>0</td>\n      <td>113803</td>\n      <td>53.1000</td>\n      <td>C123</td>\n      <td>S</td>\n    </tr>\n    <tr>\n      <th>4</th>\n      <td>5</td>\n      <td>0</td>\n      <td>3</td>\n      <td>Allen, Mr. William Henry</td>\n      <td>male</td>\n      <td>35</td>\n      <td>0</td>\n      <td>0</td>\n      <td>373450</td>\n      <td>8.0500</td>\n      <td>NaN</td>\n      <td>S</td>\n    </tr>\n  </tbody>\n</table>\n</div>"
     },
     "execution_count": 695,
     "metadata": {},
     "output_type": "execute_result"
    }
   ],
   "source": [
    "train.head()"
   ],
   "metadata": {
    "collapsed": false,
    "pycharm": {
     "name": "#%%\n"
    }
   }
  },
  {
   "cell_type": "markdown",
   "source": [
    "### Target Feature: Survived\n",
    "Description: Whether the passenger survived or not.\n",
    "\n",
    "Key: 0 = did not survive, 1 = survived\n",
    "\n",
    "This is the variable we want our machine learning model to predict based off all the others."
   ],
   "metadata": {
    "collapsed": false,
    "pycharm": {
     "name": "#%% md\n"
    }
   }
  },
  {
   "cell_type": "code",
   "execution_count": 696,
   "outputs": [
    {
     "name": "stdout",
     "output_type": "stream",
     "text": [
      "0    549\n",
      "1    342\n",
      "Name: Survived, dtype: int64\n"
     ]
    },
    {
     "data": {
      "text/plain": "<Figure size 1440x72 with 1 Axes>",
      "image/png": "[encoded data removed]"
     },
     "metadata": {},
     "output_type": "display_data"
    }
   ],
   "source": [
    "# How many people survived?\n",
    "fig = plt.figure(figsize=(20,1))\n",
    "sns.countplot(y='Survived', data=train)\n",
    "print(train.Survived.value_counts())"
   ],
   "metadata": {
    "collapsed": false,
    "pycharm": {
     "name": "#%%\n"
    }
   }
  },
  {
   "cell_type": "code",
   "execution_count": 697,
   "outputs": [],
   "source": [
    "# Let's add this to our subset dataframes\n",
    "df_bin['Survived'] = train['Survived']\n",
    "df_con['Survived'] = train['Survived']"
   ],
   "metadata": {
    "collapsed": false,
    "pycharm": {
     "name": "#%%\n"
    }
   }
  },
  {
   "cell_type": "code",
   "execution_count": 698,
   "outputs": [
    {
     "data": {
      "text/plain": "   Survived\n0         0\n1         1\n2         1\n3         1\n4         0",
      "text/html": "<div>\n<style scoped>\n    .dataframe tbody tr th:only-of-type {\n        vertical-align: middle;\n    }\n\n    .dataframe tbody tr th {\n        vertical-align: top;\n    }\n\n    .dataframe thead th {\n        text-align: right;\n    }\n</style>\n<table border=\"1\" class=\"dataframe\">\n  <thead>\n    <tr style=\"text-align: right;\">\n      <th></th>\n      <th>Survived</th>\n    </tr>\n  </thead>\n  <tbody>\n    <tr>\n      <th>0</th>\n      <td>0</td>\n    </tr>\n    <tr>\n      <th>1</th>\n      <td>1</td>\n    </tr>\n    <tr>\n      <th>2</th>\n      <td>1</td>\n    </tr>\n    <tr>\n      <th>3</th>\n      <td>1</td>\n    </tr>\n    <tr>\n      <th>4</th>\n      <td>0</td>\n    </tr>\n  </tbody>\n</table>\n</div>"
     },
     "execution_count": 698,
     "metadata": {},
     "output_type": "execute_result"
    }
   ],
   "source": [
    "df_bin.head()"
   ],
   "metadata": {
    "collapsed": false,
    "pycharm": {
     "name": "#%%\n"
    }
   }
  },
  {
   "cell_type": "code",
   "execution_count": 699,
   "outputs": [
    {
     "data": {
      "text/plain": "   Survived\n0         0\n1         1\n2         1\n3         1\n4         0",
      "text/html": "<div>\n<style scoped>\n    .dataframe tbody tr th:only-of-type {\n        vertical-align: middle;\n    }\n\n    .dataframe tbody tr th {\n        vertical-align: top;\n    }\n\n    .dataframe thead th {\n        text-align: right;\n    }\n</style>\n<table border=\"1\" class=\"dataframe\">\n  <thead>\n    <tr style=\"text-align: right;\">\n      <th></th>\n      <th>Survived</th>\n    </tr>\n  </thead>\n  <tbody>\n    <tr>\n      <th>0</th>\n      <td>0</td>\n    </tr>\n    <tr>\n      <th>1</th>\n      <td>1</td>\n    </tr>\n    <tr>\n      <th>2</th>\n      <td>1</td>\n    </tr>\n    <tr>\n      <th>3</th>\n      <td>1</td>\n    </tr>\n    <tr>\n      <th>4</th>\n      <td>0</td>\n    </tr>\n  </tbody>\n</table>\n</div>"
     },
     "execution_count": 699,
     "metadata": {},
     "output_type": "execute_result"
    }
   ],
   "source": [
    "df_con.head()"
   ],
   "metadata": {
    "collapsed": false,
    "pycharm": {
     "name": "#%%\n"
    }
   }
  },
  {
   "cell_type": "markdown",
   "source": [
    "### Feature: PClass\n",
    "Description: The ticket class of the passenger.\n",
    "\n",
    "Key: 1 = 1st, 2 = 2nd, 3 = 3rd"
   ],
   "metadata": {
    "collapsed": false,
    "pycharm": {
     "name": "#%% md\n"
    }
   }
  },
  {
   "cell_type": "markdown",
   "source": [
    "#### Let's plot the distribution\n",
    "\n",
    "We will look at the distribution of each feature first if we can to understand what kind of spread there is across the dataset.\n",
    "\n",
    "For example, if there are values which are completely outside of the distribution, we may not want to include them in our model."
   ],
   "metadata": {
    "collapsed": false,
    "pycharm": {
     "name": "#%% md\n"
    }
   }
  },
  {
   "cell_type": "code",
   "execution_count": 700,
   "outputs": [
    {
     "name": "stderr",
     "output_type": "stream",
     "text": [
      "/Users/alexandrewavrant/opt/anaconda3/envs/kaggle/lib/python3.9/site-packages/seaborn/distributions.py:2619: FutureWarning: `distplot` is a deprecated function and will be removed in a future version. Please adapt your code to use either `displot` (a figure-level function with similar flexibility) or `histplot` (an axes-level function for histograms).\n",
      "  warnings.warn(msg, FutureWarning)\n"
     ]
    },
    {
     "data": {
      "text/plain": "<AxesSubplot:xlabel='Pclass', ylabel='Density'>"
     },
     "execution_count": 700,
     "metadata": {},
     "output_type": "execute_result"
    },
    {
     "data": {
      "text/plain": "<Figure size 432x288 with 1 Axes>",
      "image/png": "[encoded data removed]"
     },
     "metadata": {},
     "output_type": "display_data"
    }
   ],
   "source": [
    "sns.distplot(train.Pclass)"
   ],
   "metadata": {
    "collapsed": false,
    "pycharm": {
     "name": "#%%\n"
    }
   }
  },
  {
   "cell_type": "markdown",
   "source": [
    "We can see with this feature, the values are numerical (1, 2 and 3) but they are categories.\n",
    "\n",
    "How do we know this? Because a passenger in Class 3 doesn't necessarily equal a passenger in Class 2 + a passenger in Class 1."
   ],
   "metadata": {
    "collapsed": false,
    "pycharm": {
     "name": "#%% md\n"
    }
   }
  },
  {
   "cell_type": "code",
   "execution_count": 701,
   "outputs": [
    {
     "data": {
      "text/plain": "0"
     },
     "execution_count": 701,
     "metadata": {},
     "output_type": "execute_result"
    }
   ],
   "source": [
    "# How many missing variables does Pclass have?\n",
    "missing_values['Pclass']"
   ],
   "metadata": {
    "collapsed": false,
    "pycharm": {
     "name": "#%%\n"
    }
   }
  },
  {
   "cell_type": "markdown",
   "source": [
    "Since there are no missing values in Pclass, let's add it to our sub dataframes."
   ],
   "metadata": {
    "collapsed": false,
    "pycharm": {
     "name": "#%% md\n"
    }
   }
  },
  {
   "cell_type": "code",
   "execution_count": 702,
   "outputs": [],
   "source": [
    "df_bin['Pclass'] = train['Pclass']\n",
    "df_con['Pclass'] = train['Pclass']"
   ],
   "metadata": {
    "collapsed": false,
    "pycharm": {
     "name": "#%%\n"
    }
   }
  },
  {
   "cell_type": "code",
   "execution_count": 703,
   "outputs": [
    {
     "data": {
      "text/plain": "   Survived  Pclass\n0         0       3\n1         1       1\n2         1       3\n3         1       1\n4         0       3",
      "text/html": "<div>\n<style scoped>\n    .dataframe tbody tr th:only-of-type {\n        vertical-align: middle;\n    }\n\n    .dataframe tbody tr th {\n        vertical-align: top;\n    }\n\n    .dataframe thead th {\n        text-align: right;\n    }\n</style>\n<table border=\"1\" class=\"dataframe\">\n  <thead>\n    <tr style=\"text-align: right;\">\n      <th></th>\n      <th>Survived</th>\n      <th>Pclass</th>\n    </tr>\n  </thead>\n  <tbody>\n    <tr>\n      <th>0</th>\n      <td>0</td>\n      <td>3</td>\n    </tr>\n    <tr>\n      <th>1</th>\n      <td>1</td>\n      <td>1</td>\n    </tr>\n    <tr>\n      <th>2</th>\n      <td>1</td>\n      <td>3</td>\n    </tr>\n    <tr>\n      <th>3</th>\n      <td>1</td>\n      <td>1</td>\n    </tr>\n    <tr>\n      <th>4</th>\n      <td>0</td>\n      <td>3</td>\n    </tr>\n  </tbody>\n</table>\n</div>"
     },
     "execution_count": 703,
     "metadata": {},
     "output_type": "execute_result"
    }
   ],
   "source": [
    "df_con.head()"
   ],
   "metadata": {
    "collapsed": false,
    "pycharm": {
     "name": "#%%\n"
    }
   }
  },
  {
   "cell_type": "markdown",
   "source": [
    "### Feature: Name\n",
    "Description: The name of the passenger."
   ],
   "metadata": {
    "collapsed": false,
    "pycharm": {
     "name": "#%% md\n"
    }
   }
  },
  {
   "cell_type": "code",
   "execution_count": 704,
   "outputs": [
    {
     "data": {
      "text/plain": "Braund, Mr. Owen Harris                     1\nBoulos, Mr. Hanna                           1\nFrolicher-Stehli, Mr. Maxmillian            1\nGilinski, Mr. Eliezer                       1\nMurdlin, Mr. Joseph                         1\n                                           ..\nKelly, Miss. Anna Katherine \"Annie Kate\"    1\nMcCoy, Mr. Bernard                          1\nJohnson, Mr. William Cahoone Jr             1\nKeane, Miss. Nora A                         1\nDooley, Mr. Patrick                         1\nName: Name, Length: 891, dtype: int64"
     },
     "execution_count": 704,
     "metadata": {},
     "output_type": "execute_result"
    }
   ],
   "source": [
    "# How many different names are there?\n",
    "train.Name.value_counts()"
   ],
   "metadata": {
    "collapsed": false,
    "pycharm": {
     "name": "#%%\n"
    }
   }
  },
  {
   "cell_type": "code",
   "execution_count": 705,
   "outputs": [
    {
     "data": {
      "text/plain": "891"
     },
     "execution_count": 705,
     "metadata": {},
     "output_type": "execute_result"
    }
   ],
   "source": [
    "len(train)"
   ],
   "metadata": {
    "collapsed": false,
    "pycharm": {
     "name": "#%%\n"
    }
   }
  },
  {
   "cell_type": "markdown",
   "source": [
    "Every row has a unique name. This is equivalent to the passenger ID. But name could be used differently.\n",
    "\n",
    "Can you think of ways you could reduce the number of different names? Or create new features out of the names?\n",
    "\n",
    "Note: Because of so many different names and to keep this EDA fast, we won't move forward using the name variable."
   ],
   "metadata": {
    "collapsed": false,
    "pycharm": {
     "name": "#%% md\n"
    }
   }
  },
  {
   "cell_type": "markdown",
   "source": [
    "### Feature: Sex\n",
    "Description: The sex of the passenger (male or female)."
   ],
   "metadata": {
    "collapsed": false,
    "pycharm": {
     "name": "#%% md\n"
    }
   }
  },
  {
   "cell_type": "code",
   "execution_count": 706,
   "outputs": [
    {
     "data": {
      "text/plain": "<AxesSubplot:xlabel='count', ylabel='Sex'>"
     },
     "execution_count": 706,
     "metadata": {},
     "output_type": "execute_result"
    },
    {
     "data": {
      "text/plain": "<Figure size 1440x360 with 1 Axes>",
      "image/png": "[encoded data removed]"
     },
     "metadata": {},
     "output_type": "display_data"
    }
   ],
   "source": [
    "# Let's view the distribution of the sex\n",
    "fig = plt.figure(figsize=(20,5))\n",
    "sns.countplot(y='Sex', data=train)"
   ],
   "metadata": {
    "collapsed": false,
    "pycharm": {
     "name": "#%%\n"
    }
   }
  },
  {
   "cell_type": "code",
   "execution_count": 707,
   "outputs": [
    {
     "data": {
      "text/plain": "0"
     },
     "execution_count": 707,
     "metadata": {},
     "output_type": "execute_result"
    }
   ],
   "source": [
    "# Are there any missing values in the Sex column?\n",
    "missing_values['Sex']\n",
    "# train.Sex.isnull().sum()"
   ],
   "metadata": {
    "collapsed": false,
    "pycharm": {
     "name": "#%%\n"
    }
   }
  },
  {
   "cell_type": "markdown",
   "source": [
    "Since this is already binary variable (male or female), let's add it straight to our subset dataframes."
   ],
   "metadata": {
    "collapsed": false,
    "pycharm": {
     "name": "#%% md\n"
    }
   }
  },
  {
   "cell_type": "code",
   "execution_count": 708,
   "outputs": [
    {
     "data": {
      "text/plain": "0      male\n1    female\n2    female\n3    female\n4      male\nName: Sex, dtype: object"
     },
     "execution_count": 708,
     "metadata": {},
     "output_type": "execute_result"
    }
   ],
   "source": [
    "train.Sex.head()"
   ],
   "metadata": {
    "collapsed": false,
    "pycharm": {
     "name": "#%%\n"
    }
   }
  },
  {
   "cell_type": "code",
   "execution_count": 709,
   "outputs": [],
   "source": [
    "# Add Sex to the subset dataframes\n",
    "df_bin['Sex'] = train['Sex']\n",
    "df_bin['Sex'] = np.where(df_bin['Sex'] == 'female', 1, 0)\n",
    "\n",
    "df_con['Sex'] = train['Sex']"
   ],
   "metadata": {
    "collapsed": false,
    "pycharm": {
     "name": "#%%\n"
    }
   }
  },
  {
   "cell_type": "code",
   "execution_count": 710,
   "outputs": [
    {
     "name": "stderr",
     "output_type": "stream",
     "text": [
      "/Users/alexandrewavrant/opt/anaconda3/envs/kaggle/lib/python3.9/site-packages/seaborn/distributions.py:2619: FutureWarning: `distplot` is a deprecated function and will be removed in a future version. Please adapt your code to use either `displot` (a figure-level function with similar flexibility) or `histplot` (an axes-level function for histograms).\n",
      "  warnings.warn(msg, FutureWarning)\n",
      "/Users/alexandrewavrant/opt/anaconda3/envs/kaggle/lib/python3.9/site-packages/seaborn/distributions.py:2619: FutureWarning: `distplot` is a deprecated function and will be removed in a future version. Please adapt your code to use either `displot` (a figure-level function with similar flexibility) or `histplot` (an axes-level function for histograms).\n",
      "  warnings.warn(msg, FutureWarning)\n"
     ]
    },
    {
     "data": {
      "text/plain": "<Figure size 720x720 with 1 Axes>",
      "image/png": "[encoded data removed]"
     },
     "metadata": {},
     "output_type": "display_data"
    }
   ],
   "source": [
    "# How does the Sex variable look compared to Survival?\n",
    "# We can see this because they're both binaries.\n",
    "fig = plt.figure(figsize=(10, 10))\n",
    "sns.distplot(df_bin.loc[df_bin['Survived'] == 1]['Sex'], kde_kws={'label': 'Survived'});\n",
    "sns.distplot(df_bin.loc[df_bin['Survived'] == 0]['Sex'], kde_kws={'label': 'Did not survive'});\n",
    "fig.legend();"
   ],
   "metadata": {
    "collapsed": false,
    "pycharm": {
     "name": "#%%\n"
    }
   }
  },
  {
   "cell_type": "markdown",
   "source": [
    "Not many people survived. But of those who did, more were female."
   ],
   "metadata": {
    "collapsed": false,
    "pycharm": {
     "name": "#%% md\n"
    }
   }
  },
  {
   "cell_type": "markdown",
   "source": [
    "### Feature: Age\n",
    "\n",
    "Description: The age of the passenger."
   ],
   "metadata": {
    "collapsed": false,
    "pycharm": {
     "name": "#%% md\n"
    }
   }
  },
  {
   "cell_type": "code",
   "execution_count": 711,
   "outputs": [
    {
     "data": {
      "text/plain": "177"
     },
     "execution_count": 711,
     "metadata": {},
     "output_type": "execute_result"
    }
   ],
   "source": [
    "# How many missing values does age have?\n",
    "missing_values['Age']"
   ],
   "metadata": {
    "collapsed": false,
    "pycharm": {
     "name": "#%%\n"
    }
   }
  },
  {
   "cell_type": "markdown",
   "source": [
    "Out of a total 891 rows, that's almost one quarter of the dataset.\n",
    "\n",
    "What would you do with these missing values?\n",
    "\n",
    "Could replace them with the average age? What's the pro's and con's of doing this?\n",
    "\n",
    "Or would you get rid of them completely?\n",
    "\n",
    "We won't answer these questions in our initial EDA but this is something we would definitely revisit at a later date."
   ],
   "metadata": {
    "collapsed": false,
    "pycharm": {
     "name": "#%% md\n"
    }
   }
  },
  {
   "cell_type": "code",
   "execution_count": 712,
   "outputs": [],
   "source": [
    "# Once the Age values have been fixed up, we can add them to our sub dataframes.\n",
    "# df_bin['Age'] = pd.cut(train['Age'], 10) # bucketed/binned into different categories\n",
    "# df_con['Age'] = train['Age'] # non-bucketed"
   ],
   "metadata": {
    "collapsed": false,
    "pycharm": {
     "name": "#%%\n"
    }
   }
  },
  {
   "cell_type": "markdown",
   "source": [
    "**Challenge:** How would you fill the missing variables in the Age column?"
   ],
   "metadata": {
    "collapsed": false,
    "pycharm": {
     "name": "#%% md\n"
    }
   }
  },
  {
   "cell_type": "markdown",
   "source": [
    "#### Function to create count and distribution visualisations"
   ],
   "metadata": {
    "collapsed": false,
    "pycharm": {
     "name": "#%% md\n"
    }
   }
  },
  {
   "cell_type": "code",
   "execution_count": 713,
   "outputs": [],
   "source": [
    "def plot_count_dist(data, bin_df, label_column, target_column, figsize=(20, 5), use_bin_df=False):\n",
    "    \"\"\"\n",
    "    Function to plot counts and distributions of a label variable and\n",
    "    target variable side by side.\n",
    "    :param data: target dataframe\n",
    "    :param bin_df: binned dataframe for countplot\n",
    "    :param label_column: binary labelled column\n",
    "    :param target_column: column you want to view counts and distributions\n",
    "    :param figsize: size of figure (width, height)\n",
    "    :param use_bin_df: whether or not to use the bin_df, default False\n",
    "    \"\"\"\n",
    "    if use_bin_df:\n",
    "        fig = plt.figure(figsize=figsize)\n",
    "        plt.subplot(1, 2, 1)\n",
    "        sns.countplot(y=target_column, data=bin_df);\n",
    "        plt.subplot(1, 2, 2)\n",
    "        sns.distplot(data.loc[data[label_column] == 1][target_column],\n",
    "                     kde_kws={\"label\": \"Survived\"});\n",
    "        sns.distplot(data.loc[data[label_column] == 0][target_column],\n",
    "                     kde_kws={\"label\": \"Did not survive\"});\n",
    "        fig.legend()\n",
    "    else:\n",
    "        fig = plt.figure(figsize=figsize)\n",
    "        plt.subplot(1, 2, 1)\n",
    "        sns.countplot(y=target_column, data=data);\n",
    "        plt.subplot(1, 2, 2)\n",
    "        sns.distplot(data.loc[data[label_column] == 1][target_column],\n",
    "                     kde_kws={\"label\": \"Survived\"});\n",
    "        sns.distplot(data.loc[data[label_column] == 0][target_column],\n",
    "                     kde_kws={\"label\": \"Did not survive\"});\n",
    "        fig.legend()"
   ],
   "metadata": {
    "collapsed": false,
    "pycharm": {
     "name": "#%%\n"
    }
   }
  },
  {
   "cell_type": "markdown",
   "source": [
    "### Feature: SibSp\n",
    "Description: The number of siblings/spouses the passenger has aboard the Titanic."
   ],
   "metadata": {
    "collapsed": false,
    "pycharm": {
     "name": "#%% md\n"
    }
   }
  },
  {
   "cell_type": "code",
   "execution_count": 714,
   "outputs": [
    {
     "data": {
      "text/plain": "0"
     },
     "execution_count": 714,
     "metadata": {},
     "output_type": "execute_result"
    }
   ],
   "source": [
    "# How many missing values does SibSp have?\n",
    "missing_values['SibSp']"
   ],
   "metadata": {
    "collapsed": false,
    "pycharm": {
     "name": "#%%\n"
    }
   }
  },
  {
   "cell_type": "code",
   "execution_count": 715,
   "outputs": [
    {
     "data": {
      "text/plain": "0    608\n1    209\n2     28\n4     18\n3     16\n8      7\n5      5\nName: SibSp, dtype: int64"
     },
     "execution_count": 715,
     "metadata": {},
     "output_type": "execute_result"
    }
   ],
   "source": [
    "# What values are there?\n",
    "train.SibSp.value_counts()"
   ],
   "metadata": {
    "collapsed": false,
    "pycharm": {
     "name": "#%%\n"
    }
   }
  },
  {
   "cell_type": "markdown",
   "source": [
    "Let's add SibSp to our subset dataframes and view the distributions."
   ],
   "metadata": {
    "collapsed": false,
    "pycharm": {
     "name": "#%% md\n"
    }
   }
  },
  {
   "cell_type": "code",
   "execution_count": 716,
   "outputs": [],
   "source": [
    "# Add SibSp to subset dataframes\n",
    "df_bin['SibSp'] = train['SibSp']\n",
    "df_con['SibSp'] = train['SibSp']"
   ],
   "metadata": {
    "collapsed": false,
    "pycharm": {
     "name": "#%%\n"
    }
   }
  },
  {
   "cell_type": "code",
   "execution_count": 717,
   "outputs": [
    {
     "name": "stderr",
     "output_type": "stream",
     "text": [
      "/Users/alexandrewavrant/opt/anaconda3/envs/kaggle/lib/python3.9/site-packages/seaborn/distributions.py:2619: FutureWarning: `distplot` is a deprecated function and will be removed in a future version. Please adapt your code to use either `displot` (a figure-level function with similar flexibility) or `histplot` (an axes-level function for histograms).\n",
      "  warnings.warn(msg, FutureWarning)\n",
      "/Users/alexandrewavrant/opt/anaconda3/envs/kaggle/lib/python3.9/site-packages/seaborn/distributions.py:2619: FutureWarning: `distplot` is a deprecated function and will be removed in a future version. Please adapt your code to use either `displot` (a figure-level function with similar flexibility) or `histplot` (an axes-level function for histograms).\n",
      "  warnings.warn(msg, FutureWarning)\n"
     ]
    },
    {
     "data": {
      "text/plain": "<Figure size 1440x720 with 2 Axes>",
      "image/png": "[encoded data removed]"
     },
     "metadata": {},
     "output_type": "display_data"
    }
   ],
   "source": [
    "# Visualise the counts of SibSp and the distribution of the values\n",
    "# against Survived\n",
    "plot_count_dist(data=train,\n",
    "                bin_df=df_bin,\n",
    "                label_column='Survived',\n",
    "                target_column='SibSp',\n",
    "                figsize=(20, 10),\n",
    "                use_bin_df=False)"
   ],
   "metadata": {
    "collapsed": false,
    "pycharm": {
     "name": "#%%\n"
    }
   }
  },
  {
   "cell_type": "markdown",
   "source": [
    "What does the graph on the right tell us?"
   ],
   "metadata": {
    "collapsed": false,
    "pycharm": {
     "name": "#%% md\n"
    }
   }
  },
  {
   "cell_type": "markdown",
   "source": [
    "### Feature: Parch\n",
    "\n",
    "Description: The number of parents/children the passenger has aboard the Titanic.\n",
    "\n",
    "Since this feature is similar to SibSp, we'll do a similar analysis."
   ],
   "metadata": {
    "collapsed": false,
    "pycharm": {
     "name": "#%% md\n"
    }
   }
  },
  {
   "cell_type": "code",
   "execution_count": 718,
   "outputs": [
    {
     "data": {
      "text/plain": "0"
     },
     "execution_count": 718,
     "metadata": {},
     "output_type": "execute_result"
    }
   ],
   "source": [
    "# How many missing values does SibSp have?\n",
    "missing_values['SibSp']"
   ],
   "metadata": {
    "collapsed": false,
    "pycharm": {
     "name": "#%%\n"
    }
   }
  },
  {
   "cell_type": "code",
   "execution_count": 719,
   "outputs": [
    {
     "data": {
      "text/plain": "0    678\n1    118\n2     80\n5      5\n3      5\n4      4\n6      1\nName: Parch, dtype: int64"
     },
     "execution_count": 719,
     "metadata": {},
     "output_type": "execute_result"
    }
   ],
   "source": [
    "train.Parch.value_counts()"
   ],
   "metadata": {
    "collapsed": false,
    "pycharm": {
     "name": "#%%\n"
    }
   }
  },
  {
   "cell_type": "code",
   "execution_count": 720,
   "outputs": [],
   "source": [
    "# Add Parch to subset dataframes\n",
    "df_bin['Parch'] = train['Parch']\n",
    "df_con['Parch'] = train['Parch']"
   ],
   "metadata": {
    "collapsed": false,
    "pycharm": {
     "name": "#%%\n"
    }
   }
  },
  {
   "cell_type": "code",
   "execution_count": 721,
   "outputs": [
    {
     "name": "stderr",
     "output_type": "stream",
     "text": [
      "/Users/alexandrewavrant/opt/anaconda3/envs/kaggle/lib/python3.9/site-packages/seaborn/distributions.py:2619: FutureWarning: `distplot` is a deprecated function and will be removed in a future version. Please adapt your code to use either `displot` (a figure-level function with similar flexibility) or `histplot` (an axes-level function for histograms).\n",
      "  warnings.warn(msg, FutureWarning)\n",
      "/Users/alexandrewavrant/opt/anaconda3/envs/kaggle/lib/python3.9/site-packages/seaborn/distributions.py:2619: FutureWarning: `distplot` is a deprecated function and will be removed in a future version. Please adapt your code to use either `displot` (a figure-level function with similar flexibility) or `histplot` (an axes-level function for histograms).\n",
      "  warnings.warn(msg, FutureWarning)\n"
     ]
    },
    {
     "data": {
      "text/plain": "<Figure size 1440x720 with 2 Axes>",
      "image/png": "[encoded data removed]"
     },
     "metadata": {},
     "output_type": "display_data"
    }
   ],
   "source": [
    "# Visualise the counts of SibSp and the distribution of the values\n",
    "# against Survived\n",
    "plot_count_dist(data=train,\n",
    "                bin_df=df_bin,\n",
    "                label_column='Survived',\n",
    "                target_column='Parch',\n",
    "                figsize=(20, 10),\n",
    "                use_bin_df=False)"
   ],
   "metadata": {
    "collapsed": false,
    "pycharm": {
     "name": "#%%\n"
    }
   }
  },
  {
   "cell_type": "markdown",
   "source": [
    "**What does the graph on the right tell us about Parch?**\n",
    "If you have 1 or 2 parents of children, your chance of survive are higher than if you have none."
   ],
   "metadata": {
    "collapsed": false,
    "pycharm": {
     "name": "#%% md\n"
    }
   }
  },
  {
   "cell_type": "code",
   "execution_count": 722,
   "outputs": [
    {
     "data": {
      "text/plain": "   PassengerId  Survived  Pclass  \\\n0            1         0       3   \n1            2         1       1   \n2            3         1       3   \n3            4         1       1   \n4            5         0       3   \n\n                                                Name     Sex Age  SibSp  \\\n0                            Braund, Mr. Owen Harris    male  22      1   \n1  Cumings, Mrs. John Bradley (Florence Briggs Th...  female  38      1   \n2                             Heikkinen, Miss. Laina  female  26      0   \n3       Futrelle, Mrs. Jacques Heath (Lily May Peel)  female  35      1   \n4                           Allen, Mr. William Henry    male  35      0   \n\n   Parch            Ticket     Fare Cabin Embarked  \n0      0         A/5 21171   7.2500   NaN        S  \n1      0          PC 17599  71.2833   C85        C  \n2      0  STON/O2. 3101282   7.9250   NaN        S  \n3      0            113803  53.1000  C123        S  \n4      0            373450   8.0500   NaN        S  ",
      "text/html": "<div>\n<style scoped>\n    .dataframe tbody tr th:only-of-type {\n        vertical-align: middle;\n    }\n\n    .dataframe tbody tr th {\n        vertical-align: top;\n    }\n\n    .dataframe thead th {\n        text-align: right;\n    }\n</style>\n<table border=\"1\" class=\"dataframe\">\n  <thead>\n    <tr style=\"text-align: right;\">\n      <th></th>\n      <th>PassengerId</th>\n      <th>Survived</th>\n      <th>Pclass</th>\n      <th>Name</th>\n      <th>Sex</th>\n      <th>Age</th>\n      <th>SibSp</th>\n      <th>Parch</th>\n      <th>Ticket</th>\n      <th>Fare</th>\n      <th>Cabin</th>\n      <th>Embarked</th>\n    </tr>\n  </thead>\n  <tbody>\n    <tr>\n      <th>0</th>\n      <td>1</td>\n      <td>0</td>\n      <td>3</td>\n      <td>Braund, Mr. Owen Harris</td>\n      <td>male</td>\n      <td>22</td>\n      <td>1</td>\n      <td>0</td>\n      <td>A/5 21171</td>\n      <td>7.2500</td>\n      <td>NaN</td>\n      <td>S</td>\n    </tr>\n    <tr>\n      <th>1</th>\n      <td>2</td>\n      <td>1</td>\n      <td>1</td>\n      <td>Cumings, Mrs. John Bradley (Florence Briggs Th...</td>\n      <td>female</td>\n      <td>38</td>\n      <td>1</td>\n      <td>0</td>\n      <td>PC 17599</td>\n      <td>71.2833</td>\n      <td>C85</td>\n      <td>C</td>\n    </tr>\n    <tr>\n      <th>2</th>\n      <td>3</td>\n      <td>1</td>\n      <td>3</td>\n      <td>Heikkinen, Miss. Laina</td>\n      <td>female</td>\n      <td>26</td>\n      <td>0</td>\n      <td>0</td>\n      <td>STON/O2. 3101282</td>\n      <td>7.9250</td>\n      <td>NaN</td>\n      <td>S</td>\n    </tr>\n    <tr>\n      <th>3</th>\n      <td>4</td>\n      <td>1</td>\n      <td>1</td>\n      <td>Futrelle, Mrs. Jacques Heath (Lily May Peel)</td>\n      <td>female</td>\n      <td>35</td>\n      <td>1</td>\n      <td>0</td>\n      <td>113803</td>\n      <td>53.1000</td>\n      <td>C123</td>\n      <td>S</td>\n    </tr>\n    <tr>\n      <th>4</th>\n      <td>5</td>\n      <td>0</td>\n      <td>3</td>\n      <td>Allen, Mr. William Henry</td>\n      <td>male</td>\n      <td>35</td>\n      <td>0</td>\n      <td>0</td>\n      <td>373450</td>\n      <td>8.0500</td>\n      <td>NaN</td>\n      <td>S</td>\n    </tr>\n  </tbody>\n</table>\n</div>"
     },
     "execution_count": 722,
     "metadata": {},
     "output_type": "execute_result"
    }
   ],
   "source": [
    "train.head()"
   ],
   "metadata": {
    "collapsed": false,
    "pycharm": {
     "name": "#%%\n"
    }
   }
  },
  {
   "cell_type": "code",
   "execution_count": 723,
   "outputs": [
    {
     "data": {
      "text/plain": "   Survived  Pclass     Sex  SibSp  Parch\n0         0       3    male      1      0\n1         1       1  female      1      0\n2         1       3  female      0      0\n3         1       1  female      1      0\n4         0       3    male      0      0",
      "text/html": "<div>\n<style scoped>\n    .dataframe tbody tr th:only-of-type {\n        vertical-align: middle;\n    }\n\n    .dataframe tbody tr th {\n        vertical-align: top;\n    }\n\n    .dataframe thead th {\n        text-align: right;\n    }\n</style>\n<table border=\"1\" class=\"dataframe\">\n  <thead>\n    <tr style=\"text-align: right;\">\n      <th></th>\n      <th>Survived</th>\n      <th>Pclass</th>\n      <th>Sex</th>\n      <th>SibSp</th>\n      <th>Parch</th>\n    </tr>\n  </thead>\n  <tbody>\n    <tr>\n      <th>0</th>\n      <td>0</td>\n      <td>3</td>\n      <td>male</td>\n      <td>1</td>\n      <td>0</td>\n    </tr>\n    <tr>\n      <th>1</th>\n      <td>1</td>\n      <td>1</td>\n      <td>female</td>\n      <td>1</td>\n      <td>0</td>\n    </tr>\n    <tr>\n      <th>2</th>\n      <td>1</td>\n      <td>3</td>\n      <td>female</td>\n      <td>0</td>\n      <td>0</td>\n    </tr>\n    <tr>\n      <th>3</th>\n      <td>1</td>\n      <td>1</td>\n      <td>female</td>\n      <td>1</td>\n      <td>0</td>\n    </tr>\n    <tr>\n      <th>4</th>\n      <td>0</td>\n      <td>3</td>\n      <td>male</td>\n      <td>0</td>\n      <td>0</td>\n    </tr>\n  </tbody>\n</table>\n</div>"
     },
     "execution_count": 723,
     "metadata": {},
     "output_type": "execute_result"
    }
   ],
   "source": [
    "df_con.head()"
   ],
   "metadata": {
    "collapsed": false,
    "pycharm": {
     "name": "#%%\n"
    }
   }
  },
  {
   "cell_type": "markdown",
   "source": [
    "### Feature: Ticket\n",
    "Description: The ticket number of the boarding passenger."
   ],
   "metadata": {
    "collapsed": false,
    "pycharm": {
     "name": "#%% md\n"
    }
   }
  },
  {
   "cell_type": "code",
   "execution_count": 724,
   "outputs": [
    {
     "data": {
      "text/plain": "0"
     },
     "execution_count": 724,
     "metadata": {},
     "output_type": "execute_result"
    }
   ],
   "source": [
    "missing_values['Ticket']"
   ],
   "metadata": {
    "collapsed": false,
    "pycharm": {
     "name": "#%%\n"
    }
   }
  },
  {
   "cell_type": "code",
   "execution_count": 725,
   "outputs": [
    {
     "data": {
      "text/plain": "<Figure size 432x288 with 1 Axes>",
      "image/png": "[encoded data removed]"
     },
     "metadata": {},
     "output_type": "display_data"
    }
   ],
   "source": [
    "# How many kinds of tickets are there?\n",
    "sns.countplot(y=\"Ticket\", data=train);"
   ],
   "metadata": {
    "collapsed": false,
    "pycharm": {
     "name": "#%%\n"
    }
   }
  },
  {
   "cell_type": "markdown",
   "source": [
    "That doesn't look too good, what about another way of looking at it?"
   ],
   "metadata": {
    "collapsed": false,
    "pycharm": {
     "name": "#%% md\n"
    }
   }
  },
  {
   "cell_type": "code",
   "execution_count": 726,
   "outputs": [
    {
     "data": {
      "text/plain": "347082          7\nCA. 2343        7\n1601            7\n3101295         6\nCA 2144         6\n347088          6\nS.O.C. 14879    5\n382652          5\nLINE            4\nPC 17757        4\n17421           4\n349909          4\n113760          4\n4133            4\n113781          4\nW./C. 6608      4\n2666            4\n19950           4\n347077          4\nC.A. 31921      3\nName: Ticket, dtype: int64"
     },
     "execution_count": 726,
     "metadata": {},
     "output_type": "execute_result"
    }
   ],
   "source": [
    "# How many kinds of tickets are there?\n",
    "train.Ticket.value_counts()[:20]"
   ],
   "metadata": {
    "collapsed": false,
    "pycharm": {
     "name": "#%%\n"
    }
   }
  },
  {
   "cell_type": "code",
   "execution_count": 727,
   "outputs": [
    {
     "name": "stdout",
     "output_type": "stream",
     "text": [
      "There are 681 unique Ticket values.\n"
     ]
    }
   ],
   "source": [
    "# How many unique kinds of Ticket are there?\n",
    "print(f\"There are {len(train.Ticket.unique())} unique Ticket values.\")"
   ],
   "metadata": {
    "collapsed": false,
    "pycharm": {
     "name": "#%%\n"
    }
   }
  },
  {
   "cell_type": "markdown",
   "source": [
    "681 unique values is too many for now. So we won't use Ticket in our subset dataframes.\n",
    "\n",
    "There may be some way to reduce this down.\n",
    "\n",
    "**Challenge:** How could you reduce the Ticket feature? Is it even possible?\n",
    "\n",
    "Hint: It may be similar to what you could do with Name."
   ],
   "metadata": {
    "collapsed": false,
    "pycharm": {
     "name": "#%% md\n"
    }
   }
  },
  {
   "cell_type": "markdown",
   "source": [
    "### Feature: Fare\n",
    "\n",
    "Description: How much the ticket cost."
   ],
   "metadata": {
    "collapsed": false,
    "pycharm": {
     "name": "#%% md\n"
    }
   }
  },
  {
   "cell_type": "code",
   "execution_count": 728,
   "outputs": [
    {
     "data": {
      "text/plain": "0"
     },
     "execution_count": 728,
     "metadata": {},
     "output_type": "execute_result"
    }
   ],
   "source": [
    "# How many missing values does Fare have?\n",
    "missing_values['Fare']"
   ],
   "metadata": {
    "collapsed": false,
    "pycharm": {
     "name": "#%%\n"
    }
   }
  },
  {
   "cell_type": "code",
   "execution_count": 729,
   "outputs": [
    {
     "data": {
      "text/plain": "<AxesSubplot:xlabel='count', ylabel='Fare'>"
     },
     "execution_count": 729,
     "metadata": {},
     "output_type": "execute_result"
    },
    {
     "data": {
      "text/plain": "<Figure size 432x288 with 1 Axes>",
      "image/png": "[encoded data removed]"
     },
     "metadata": {},
     "output_type": "display_data"
    }
   ],
   "source": [
    "sns.countplot(y='Fare', data=train)"
   ],
   "metadata": {
    "collapsed": false,
    "pycharm": {
     "name": "#%%\n"
    }
   }
  },
  {
   "cell_type": "code",
   "execution_count": 730,
   "outputs": [
    {
     "data": {
      "text/plain": "0     7.2500\n1    71.2833\n2     7.9250\n3    53.1000\n4     8.0500\nName: Fare, dtype: float64"
     },
     "execution_count": 730,
     "metadata": {},
     "output_type": "execute_result"
    }
   ],
   "source": [
    "train.Fare.head()"
   ],
   "metadata": {
    "collapsed": false,
    "pycharm": {
     "name": "#%%\n"
    }
   }
  },
  {
   "cell_type": "code",
   "execution_count": 731,
   "outputs": [
    {
     "data": {
      "text/plain": "dtype('float64')"
     },
     "execution_count": 731,
     "metadata": {},
     "output_type": "execute_result"
    }
   ],
   "source": [
    "# What kind of variable is Fare?\n",
    "train.Fare.dtype"
   ],
   "metadata": {
    "collapsed": false,
    "pycharm": {
     "name": "#%%\n"
    }
   }
  },
  {
   "cell_type": "code",
   "execution_count": 732,
   "outputs": [
    {
     "name": "stdout",
     "output_type": "stream",
     "text": [
      "There are 248 unique Fare values.\n"
     ]
    }
   ],
   "source": [
    "# How many unique kinds of Fare are there?\n",
    "print(f\"There are {len(train.Fare.unique())} unique Fare values.\")"
   ],
   "metadata": {
    "collapsed": false,
    "pycharm": {
     "name": "#%%\n"
    }
   }
  },
  {
   "cell_type": "markdown",
   "source": [
    "Because Fare is a float (number) let's add it as it is to our continuous sub dataframe but to add it to our categorical sub dataframe, we'll cut it into bins."
   ],
   "metadata": {
    "collapsed": false,
    "pycharm": {
     "name": "#%% md\n"
    }
   }
  },
  {
   "cell_type": "code",
   "execution_count": 733,
   "outputs": [],
   "source": [
    "df_con['Fare'] = train['Fare']\n",
    "df_bin['Fare'] = pd.cut(x=train['Fare'], bins=5) # discretised"
   ],
   "metadata": {
    "collapsed": false,
    "pycharm": {
     "name": "#%%\n"
    }
   }
  },
  {
   "cell_type": "code",
   "execution_count": 734,
   "outputs": [
    {
     "data": {
      "text/plain": "(-0.512, 102.466]     838\n(102.466, 204.932]     33\n(204.932, 307.398]     17\n(409.863, 512.329]      3\n(307.398, 409.863]      0\nName: Fare, dtype: int64"
     },
     "execution_count": 734,
     "metadata": {},
     "output_type": "execute_result"
    }
   ],
   "source": [
    "df_bin.Fare.value_counts()"
   ],
   "metadata": {
    "collapsed": false,
    "pycharm": {
     "name": "#%%\n"
    }
   }
  },
  {
   "cell_type": "code",
   "execution_count": 735,
   "outputs": [
    {
     "data": {
      "text/plain": "   Survived  Pclass     Sex  SibSp  Parch     Fare\n0         0       3    male      1      0   7.2500\n1         1       1  female      1      0  71.2833\n2         1       3  female      0      0   7.9250\n3         1       1  female      1      0  53.1000\n4         0       3    male      0      0   8.0500",
      "text/html": "<div>\n<style scoped>\n    .dataframe tbody tr th:only-of-type {\n        vertical-align: middle;\n    }\n\n    .dataframe tbody tr th {\n        vertical-align: top;\n    }\n\n    .dataframe thead th {\n        text-align: right;\n    }\n</style>\n<table border=\"1\" class=\"dataframe\">\n  <thead>\n    <tr style=\"text-align: right;\">\n      <th></th>\n      <th>Survived</th>\n      <th>Pclass</th>\n      <th>Sex</th>\n      <th>SibSp</th>\n      <th>Parch</th>\n      <th>Fare</th>\n    </tr>\n  </thead>\n  <tbody>\n    <tr>\n      <th>0</th>\n      <td>0</td>\n      <td>3</td>\n      <td>male</td>\n      <td>1</td>\n      <td>0</td>\n      <td>7.2500</td>\n    </tr>\n    <tr>\n      <th>1</th>\n      <td>1</td>\n      <td>1</td>\n      <td>female</td>\n      <td>1</td>\n      <td>0</td>\n      <td>71.2833</td>\n    </tr>\n    <tr>\n      <th>2</th>\n      <td>1</td>\n      <td>3</td>\n      <td>female</td>\n      <td>0</td>\n      <td>0</td>\n      <td>7.9250</td>\n    </tr>\n    <tr>\n      <th>3</th>\n      <td>1</td>\n      <td>1</td>\n      <td>female</td>\n      <td>1</td>\n      <td>0</td>\n      <td>53.1000</td>\n    </tr>\n    <tr>\n      <th>4</th>\n      <td>0</td>\n      <td>3</td>\n      <td>male</td>\n      <td>0</td>\n      <td>0</td>\n      <td>8.0500</td>\n    </tr>\n  </tbody>\n</table>\n</div>"
     },
     "execution_count": 735,
     "metadata": {},
     "output_type": "execute_result"
    }
   ],
   "source": [
    "df_con.head()"
   ],
   "metadata": {
    "collapsed": false,
    "pycharm": {
     "name": "#%%\n"
    }
   }
  },
  {
   "cell_type": "code",
   "execution_count": 736,
   "outputs": [
    {
     "name": "stderr",
     "output_type": "stream",
     "text": [
      "/Users/alexandrewavrant/opt/anaconda3/envs/kaggle/lib/python3.9/site-packages/seaborn/distributions.py:2619: FutureWarning: `distplot` is a deprecated function and will be removed in a future version. Please adapt your code to use either `displot` (a figure-level function with similar flexibility) or `histplot` (an axes-level function for histograms).\n",
      "  warnings.warn(msg, FutureWarning)\n",
      "/Users/alexandrewavrant/opt/anaconda3/envs/kaggle/lib/python3.9/site-packages/seaborn/distributions.py:2619: FutureWarning: `distplot` is a deprecated function and will be removed in a future version. Please adapt your code to use either `displot` (a figure-level function with similar flexibility) or `histplot` (an axes-level function for histograms).\n",
      "  warnings.warn(msg, FutureWarning)\n"
     ]
    },
    {
     "data": {
      "text/plain": "<Figure size 1440x720 with 2 Axes>",
      "image/png": "[encoded data removed]"
     },
     "metadata": {},
     "output_type": "display_data"
    }
   ],
   "source": [
    "# Visualise the Fare bin counts as well as the Fare distribution versus Survived.\n",
    "plot_count_dist(data=train,\n",
    "                bin_df=df_bin,\n",
    "                label_column='Survived',\n",
    "                target_column='Fare',\n",
    "                figsize=(20,10),\n",
    "                use_bin_df=True)"
   ],
   "metadata": {
    "collapsed": false,
    "pycharm": {
     "name": "#%%\n"
    }
   }
  },
  {
   "cell_type": "markdown",
   "source": [
    "**Challenge:** How would you change the Fare bins?"
   ],
   "metadata": {
    "collapsed": false,
    "pycharm": {
     "name": "#%% md\n"
    }
   }
  },
  {
   "cell_type": "markdown",
   "source": [
    "### Feature: Cabin\n",
    "Description: The cabin number where the passenger was staying."
   ],
   "metadata": {
    "collapsed": false,
    "pycharm": {
     "name": "#%% md\n"
    }
   }
  },
  {
   "cell_type": "code",
   "execution_count": 737,
   "outputs": [
    {
     "data": {
      "text/plain": "687"
     },
     "execution_count": 737,
     "metadata": {},
     "output_type": "execute_result"
    }
   ],
   "source": [
    "# How many missing values does Cabin have?\n",
    "missing_values['Cabin']"
   ],
   "metadata": {
    "collapsed": false,
    "pycharm": {
     "name": "#%%\n"
    }
   }
  },
  {
   "cell_type": "code",
   "execution_count": 738,
   "outputs": [
    {
     "data": {
      "text/plain": "   PassengerId  Survived  Pclass  \\\n0            1         0       3   \n1            2         1       1   \n2            3         1       3   \n3            4         1       1   \n4            5         0       3   \n\n                                                Name     Sex Age  SibSp  \\\n0                            Braund, Mr. Owen Harris    male  22      1   \n1  Cumings, Mrs. John Bradley (Florence Briggs Th...  female  38      1   \n2                             Heikkinen, Miss. Laina  female  26      0   \n3       Futrelle, Mrs. Jacques Heath (Lily May Peel)  female  35      1   \n4                           Allen, Mr. William Henry    male  35      0   \n\n   Parch            Ticket     Fare Cabin Embarked  \n0      0         A/5 21171   7.2500   NaN        S  \n1      0          PC 17599  71.2833   C85        C  \n2      0  STON/O2. 3101282   7.9250   NaN        S  \n3      0            113803  53.1000  C123        S  \n4      0            373450   8.0500   NaN        S  ",
      "text/html": "<div>\n<style scoped>\n    .dataframe tbody tr th:only-of-type {\n        vertical-align: middle;\n    }\n\n    .dataframe tbody tr th {\n        vertical-align: top;\n    }\n\n    .dataframe thead th {\n        text-align: right;\n    }\n</style>\n<table border=\"1\" class=\"dataframe\">\n  <thead>\n    <tr style=\"text-align: right;\">\n      <th></th>\n      <th>PassengerId</th>\n      <th>Survived</th>\n      <th>Pclass</th>\n      <th>Name</th>\n      <th>Sex</th>\n      <th>Age</th>\n      <th>SibSp</th>\n      <th>Parch</th>\n      <th>Ticket</th>\n      <th>Fare</th>\n      <th>Cabin</th>\n      <th>Embarked</th>\n    </tr>\n  </thead>\n  <tbody>\n    <tr>\n      <th>0</th>\n      <td>1</td>\n      <td>0</td>\n      <td>3</td>\n      <td>Braund, Mr. Owen Harris</td>\n      <td>male</td>\n      <td>22</td>\n      <td>1</td>\n      <td>0</td>\n      <td>A/5 21171</td>\n      <td>7.2500</td>\n      <td>NaN</td>\n      <td>S</td>\n    </tr>\n    <tr>\n      <th>1</th>\n      <td>2</td>\n      <td>1</td>\n      <td>1</td>\n      <td>Cumings, Mrs. John Bradley (Florence Briggs Th...</td>\n      <td>female</td>\n      <td>38</td>\n      <td>1</td>\n      <td>0</td>\n      <td>PC 17599</td>\n      <td>71.2833</td>\n      <td>C85</td>\n      <td>C</td>\n    </tr>\n    <tr>\n      <th>2</th>\n      <td>3</td>\n      <td>1</td>\n      <td>3</td>\n      <td>Heikkinen, Miss. Laina</td>\n      <td>female</td>\n      <td>26</td>\n      <td>0</td>\n      <td>0</td>\n      <td>STON/O2. 3101282</td>\n      <td>7.9250</td>\n      <td>NaN</td>\n      <td>S</td>\n    </tr>\n    <tr>\n      <th>3</th>\n      <td>4</td>\n      <td>1</td>\n      <td>1</td>\n      <td>Futrelle, Mrs. Jacques Heath (Lily May Peel)</td>\n      <td>female</td>\n      <td>35</td>\n      <td>1</td>\n      <td>0</td>\n      <td>113803</td>\n      <td>53.1000</td>\n      <td>C123</td>\n      <td>S</td>\n    </tr>\n    <tr>\n      <th>4</th>\n      <td>5</td>\n      <td>0</td>\n      <td>3</td>\n      <td>Allen, Mr. William Henry</td>\n      <td>male</td>\n      <td>35</td>\n      <td>0</td>\n      <td>0</td>\n      <td>373450</td>\n      <td>8.0500</td>\n      <td>NaN</td>\n      <td>S</td>\n    </tr>\n  </tbody>\n</table>\n</div>"
     },
     "execution_count": 738,
     "metadata": {},
     "output_type": "execute_result"
    }
   ],
   "source": [
    "train.head()"
   ],
   "metadata": {
    "collapsed": false,
    "pycharm": {
     "name": "#%%\n"
    }
   }
  },
  {
   "cell_type": "code",
   "execution_count": 739,
   "outputs": [
    {
     "data": {
      "text/plain": "B96 B98        4\nG6             4\nC23 C25 C27    4\nC22 C26        3\nF33            3\n              ..\nE34            1\nC7             1\nC54            1\nE36            1\nC148           1\nName: Cabin, Length: 147, dtype: int64"
     },
     "execution_count": 739,
     "metadata": {},
     "output_type": "execute_result"
    }
   ],
   "source": [
    "# What do the Cabin values look like?\n",
    "train.Cabin.value_counts()"
   ],
   "metadata": {
    "collapsed": false,
    "pycharm": {
     "name": "#%%\n"
    }
   }
  },
  {
   "cell_type": "markdown",
   "source": [
    "Since there are too many missing values, we won't use Cabin for our initial models and won't add it to our sub dataframes.\n",
    "\n",
    "But how could you modify cabin to be more usable?\n",
    "\n",
    "What could you do about the missing values?"
   ],
   "metadata": {
    "collapsed": false,
    "pycharm": {
     "name": "#%% md\n"
    }
   }
  },
  {
   "cell_type": "markdown",
   "source": [
    "### Feature: Embarked\n",
    "\n",
    "Description: The port where the passenger boarded the Titanic.\n",
    "\n",
    "Key: C = Cherbourg, Q = Queenstown, S = Southampton"
   ],
   "metadata": {
    "collapsed": false,
    "pycharm": {
     "name": "#%% md\n"
    }
   }
  },
  {
   "cell_type": "code",
   "execution_count": 740,
   "outputs": [
    {
     "data": {
      "text/plain": "2"
     },
     "execution_count": 740,
     "metadata": {},
     "output_type": "execute_result"
    }
   ],
   "source": [
    "# How many missing values does Embarked have?\n",
    "missing_values['Embarked']"
   ],
   "metadata": {
    "collapsed": false,
    "pycharm": {
     "name": "#%%\n"
    }
   }
  },
  {
   "cell_type": "code",
   "execution_count": 741,
   "outputs": [
    {
     "data": {
      "text/plain": "S    644\nC    168\nQ     77\nName: Embarked, dtype: int64"
     },
     "execution_count": 741,
     "metadata": {},
     "output_type": "execute_result"
    }
   ],
   "source": [
    "# What kind of values are in Embarked?\n",
    "train.Embarked.value_counts()"
   ],
   "metadata": {
    "collapsed": false,
    "pycharm": {
     "name": "#%%\n"
    }
   }
  },
  {
   "cell_type": "markdown",
   "source": [
    "Embarked is a categorical variable because there are 3 categories which a passenger could have boarded on."
   ],
   "metadata": {
    "collapsed": false,
    "pycharm": {
     "name": "#%% md\n"
    }
   }
  },
  {
   "cell_type": "code",
   "execution_count": 742,
   "outputs": [
    {
     "data": {
      "text/plain": "<Figure size 432x288 with 1 Axes>",
      "image/png": "[encoded data removed]"
     },
     "metadata": {},
     "output_type": "display_data"
    }
   ],
   "source": [
    "# What do the counts look like?\n",
    "sns.countplot(y='Embarked', data=train);"
   ],
   "metadata": {
    "collapsed": false,
    "pycharm": {
     "name": "#%%\n"
    }
   }
  },
  {
   "cell_type": "markdown",
   "source": [
    "**How can we deal with the 2 missing values of Embarked?**"
   ],
   "metadata": {
    "collapsed": false,
    "pycharm": {
     "name": "#%% md\n"
    }
   }
  },
  {
   "cell_type": "markdown",
   "source": [
    "One option is to drop the two rows which don't have an Embarked value.\n",
    "\n",
    "Another option would be to randomly assign a value of C, Q or S to each row.\n",
    "\n",
    "What are the pros and cons of each?\n",
    "\n",
    "For now, we will remove those rows."
   ],
   "metadata": {
    "collapsed": false,
    "pycharm": {
     "name": "#%% md\n"
    }
   }
  },
  {
   "cell_type": "code",
   "execution_count": 743,
   "outputs": [],
   "source": [
    "# Add Embarked to sub dataframes\n",
    "df_bin['Embarked'] = train['Embarked']\n",
    "df_con['Embarked'] = train['Embarked']"
   ],
   "metadata": {
    "collapsed": false,
    "pycharm": {
     "name": "#%%\n"
    }
   }
  },
  {
   "cell_type": "code",
   "execution_count": 744,
   "outputs": [
    {
     "name": "stdout",
     "output_type": "stream",
     "text": [
      "891\n",
      "889\n"
     ]
    }
   ],
   "source": [
    "# Remove Embarked rows which are missing values\n",
    "print(len(df_con))\n",
    "df_con = df_con.dropna(subset=['Embarked'])\n",
    "df_bin = df_bin.dropna(subset=['Embarked'])\n",
    "print(len(df_con))"
   ],
   "metadata": {
    "collapsed": false,
    "pycharm": {
     "name": "#%%\n"
    }
   }
  },
  {
   "cell_type": "markdown",
   "source": [
    "We've removed the two rows with missing values for Embarked, now we can add Embarked to our sub dataframes."
   ],
   "metadata": {
    "collapsed": false,
    "pycharm": {
     "name": "#%% md\n"
    }
   }
  },
  {
   "cell_type": "code",
   "execution_count": 745,
   "outputs": [
    {
     "data": {
      "text/plain": "   Survived  Pclass  Sex  SibSp  Parch               Fare Embarked\n0         0       3    0      1      0  (-0.512, 102.466]        S\n1         1       1    1      1      0  (-0.512, 102.466]        C\n2         1       3    1      0      0  (-0.512, 102.466]        S\n3         1       1    1      1      0  (-0.512, 102.466]        S\n4         0       3    0      0      0  (-0.512, 102.466]        S",
      "text/html": "<div>\n<style scoped>\n    .dataframe tbody tr th:only-of-type {\n        vertical-align: middle;\n    }\n\n    .dataframe tbody tr th {\n        vertical-align: top;\n    }\n\n    .dataframe thead th {\n        text-align: right;\n    }\n</style>\n<table border=\"1\" class=\"dataframe\">\n  <thead>\n    <tr style=\"text-align: right;\">\n      <th></th>\n      <th>Survived</th>\n      <th>Pclass</th>\n      <th>Sex</th>\n      <th>SibSp</th>\n      <th>Parch</th>\n      <th>Fare</th>\n      <th>Embarked</th>\n    </tr>\n  </thead>\n  <tbody>\n    <tr>\n      <th>0</th>\n      <td>0</td>\n      <td>3</td>\n      <td>0</td>\n      <td>1</td>\n      <td>0</td>\n      <td>(-0.512, 102.466]</td>\n      <td>S</td>\n    </tr>\n    <tr>\n      <th>1</th>\n      <td>1</td>\n      <td>1</td>\n      <td>1</td>\n      <td>1</td>\n      <td>0</td>\n      <td>(-0.512, 102.466]</td>\n      <td>C</td>\n    </tr>\n    <tr>\n      <th>2</th>\n      <td>1</td>\n      <td>3</td>\n      <td>1</td>\n      <td>0</td>\n      <td>0</td>\n      <td>(-0.512, 102.466]</td>\n      <td>S</td>\n    </tr>\n    <tr>\n      <th>3</th>\n      <td>1</td>\n      <td>1</td>\n      <td>1</td>\n      <td>1</td>\n      <td>0</td>\n      <td>(-0.512, 102.466]</td>\n      <td>S</td>\n    </tr>\n    <tr>\n      <th>4</th>\n      <td>0</td>\n      <td>3</td>\n      <td>0</td>\n      <td>0</td>\n      <td>0</td>\n      <td>(-0.512, 102.466]</td>\n      <td>S</td>\n    </tr>\n  </tbody>\n</table>\n</div>"
     },
     "execution_count": 745,
     "metadata": {},
     "output_type": "execute_result"
    }
   ],
   "source": [
    "df_bin.head()"
   ],
   "metadata": {
    "collapsed": false,
    "pycharm": {
     "name": "#%%\n"
    }
   }
  },
  {
   "cell_type": "code",
   "execution_count": 746,
   "outputs": [
    {
     "data": {
      "text/plain": "   Survived  Pclass     Sex  SibSp  Parch     Fare Embarked\n0         0       3    male      1      0   7.2500        S\n1         1       1  female      1      0  71.2833        C\n2         1       3  female      0      0   7.9250        S\n3         1       1  female      1      0  53.1000        S\n4         0       3    male      0      0   8.0500        S",
      "text/html": "<div>\n<style scoped>\n    .dataframe tbody tr th:only-of-type {\n        vertical-align: middle;\n    }\n\n    .dataframe tbody tr th {\n        vertical-align: top;\n    }\n\n    .dataframe thead th {\n        text-align: right;\n    }\n</style>\n<table border=\"1\" class=\"dataframe\">\n  <thead>\n    <tr style=\"text-align: right;\">\n      <th></th>\n      <th>Survived</th>\n      <th>Pclass</th>\n      <th>Sex</th>\n      <th>SibSp</th>\n      <th>Parch</th>\n      <th>Fare</th>\n      <th>Embarked</th>\n    </tr>\n  </thead>\n  <tbody>\n    <tr>\n      <th>0</th>\n      <td>0</td>\n      <td>3</td>\n      <td>male</td>\n      <td>1</td>\n      <td>0</td>\n      <td>7.2500</td>\n      <td>S</td>\n    </tr>\n    <tr>\n      <th>1</th>\n      <td>1</td>\n      <td>1</td>\n      <td>female</td>\n      <td>1</td>\n      <td>0</td>\n      <td>71.2833</td>\n      <td>C</td>\n    </tr>\n    <tr>\n      <th>2</th>\n      <td>1</td>\n      <td>3</td>\n      <td>female</td>\n      <td>0</td>\n      <td>0</td>\n      <td>7.9250</td>\n      <td>S</td>\n    </tr>\n    <tr>\n      <th>3</th>\n      <td>1</td>\n      <td>1</td>\n      <td>female</td>\n      <td>1</td>\n      <td>0</td>\n      <td>53.1000</td>\n      <td>S</td>\n    </tr>\n    <tr>\n      <th>4</th>\n      <td>0</td>\n      <td>3</td>\n      <td>male</td>\n      <td>0</td>\n      <td>0</td>\n      <td>8.0500</td>\n      <td>S</td>\n    </tr>\n  </tbody>\n</table>\n</div>"
     },
     "execution_count": 746,
     "metadata": {},
     "output_type": "execute_result"
    }
   ],
   "source": [
    "df_con.head()"
   ],
   "metadata": {
    "collapsed": false,
    "pycharm": {
     "name": "#%%\n"
    }
   }
  },
  {
   "cell_type": "markdown",
   "source": [
    "## Feature Encoding\n",
    "Now we have our two sub dataframes ready. We can encode the features so they're ready to be used with our machine learning models.\n",
    "\n",
    "We will encode our binned dataframe (df_bin) with one-hot encoding and our continuous dataframe (df_con) with the label encoding function from sklearn."
   ],
   "metadata": {
    "collapsed": false,
    "pycharm": {
     "name": "#%% md\n"
    }
   }
  },
  {
   "cell_type": "markdown",
   "source": [
    "**What does \"one-hot encode\" mean?**\n",
    "Creating an new dataframe that is going to give things a 0 to what it isn't and a 1 to what is."
   ],
   "metadata": {
    "collapsed": false,
    "pycharm": {
     "name": "#%% md\n"
    }
   }
  },
  {
   "cell_type": "code",
   "execution_count": 747,
   "outputs": [
    {
     "data": {
      "text/plain": "   Survived  Pclass_1  Pclass_2  Pclass_3  Sex_0  Sex_1  SibSp_0  SibSp_1  \\\n0         0         0         0         1      1      0        0        1   \n1         1         1         0         0      0      1        0        1   \n2         1         0         0         1      0      1        1        0   \n3         1         1         0         0      0      1        0        1   \n4         0         0         0         1      1      0        1        0   \n\n   SibSp_2  SibSp_3  ...  Parch_5  Parch_6  Fare_(-0.512, 102.466]  \\\n0        0        0  ...        0        0                       1   \n1        0        0  ...        0        0                       1   \n2        0        0  ...        0        0                       1   \n3        0        0  ...        0        0                       1   \n4        0        0  ...        0        0                       1   \n\n   Fare_(102.466, 204.932]  Fare_(204.932, 307.398]  Fare_(307.398, 409.863]  \\\n0                        0                        0                        0   \n1                        0                        0                        0   \n2                        0                        0                        0   \n3                        0                        0                        0   \n4                        0                        0                        0   \n\n   Fare_(409.863, 512.329]  Embarked_C  Embarked_Q  Embarked_S  \n0                        0           0           0           1  \n1                        0           1           0           0  \n2                        0           0           0           1  \n3                        0           0           0           1  \n4                        0           0           0           1  \n\n[5 rows x 28 columns]",
      "text/html": "<div>\n<style scoped>\n    .dataframe tbody tr th:only-of-type {\n        vertical-align: middle;\n    }\n\n    .dataframe tbody tr th {\n        vertical-align: top;\n    }\n\n    .dataframe thead th {\n        text-align: right;\n    }\n</style>\n<table border=\"1\" class=\"dataframe\">\n  <thead>\n    <tr style=\"text-align: right;\">\n      <th></th>\n      <th>Survived</th>\n      <th>Pclass_1</th>\n      <th>Pclass_2</th>\n      <th>Pclass_3</th>\n      <th>Sex_0</th>\n      <th>Sex_1</th>\n      <th>SibSp_0</th>\n      <th>SibSp_1</th>\n      <th>SibSp_2</th>\n      <th>SibSp_3</th>\n      <th>...</th>\n      <th>Parch_5</th>\n      <th>Parch_6</th>\n      <th>Fare_(-0.512, 102.466]</th>\n      <th>Fare_(102.466, 204.932]</th>\n      <th>Fare_(204.932, 307.398]</th>\n      <th>Fare_(307.398, 409.863]</th>\n      <th>Fare_(409.863, 512.329]</th>\n      <th>Embarked_C</th>\n      <th>Embarked_Q</th>\n      <th>Embarked_S</th>\n    </tr>\n  </thead>\n  <tbody>\n    <tr>\n      <th>0</th>\n      <td>0</td>\n      <td>0</td>\n      <td>0</td>\n      <td>1</td>\n      <td>1</td>\n      <td>0</td>\n      <td>0</td>\n      <td>1</td>\n      <td>0</td>\n      <td>0</td>\n      <td>...</td>\n      <td>0</td>\n      <td>0</td>\n      <td>1</td>\n      <td>0</td>\n      <td>0</td>\n      <td>0</td>\n      <td>0</td>\n      <td>0</td>\n      <td>0</td>\n      <td>1</td>\n    </tr>\n    <tr>\n      <th>1</th>\n      <td>1</td>\n      <td>1</td>\n      <td>0</td>\n      <td>0</td>\n      <td>0</td>\n      <td>1</td>\n      <td>0</td>\n      <td>1</td>\n      <td>0</td>\n      <td>0</td>\n      <td>...</td>\n      <td>0</td>\n      <td>0</td>\n      <td>1</td>\n      <td>0</td>\n      <td>0</td>\n      <td>0</td>\n      <td>0</td>\n      <td>1</td>\n      <td>0</td>\n      <td>0</td>\n    </tr>\n    <tr>\n      <th>2</th>\n      <td>1</td>\n      <td>0</td>\n      <td>0</td>\n      <td>1</td>\n      <td>0</td>\n      <td>1</td>\n      <td>1</td>\n      <td>0</td>\n      <td>0</td>\n      <td>0</td>\n      <td>...</td>\n      <td>0</td>\n      <td>0</td>\n      <td>1</td>\n      <td>0</td>\n      <td>0</td>\n      <td>0</td>\n      <td>0</td>\n      <td>0</td>\n      <td>0</td>\n      <td>1</td>\n    </tr>\n    <tr>\n      <th>3</th>\n      <td>1</td>\n      <td>1</td>\n      <td>0</td>\n      <td>0</td>\n      <td>0</td>\n      <td>1</td>\n      <td>0</td>\n      <td>1</td>\n      <td>0</td>\n      <td>0</td>\n      <td>...</td>\n      <td>0</td>\n      <td>0</td>\n      <td>1</td>\n      <td>0</td>\n      <td>0</td>\n      <td>0</td>\n      <td>0</td>\n      <td>0</td>\n      <td>0</td>\n      <td>1</td>\n    </tr>\n    <tr>\n      <th>4</th>\n      <td>0</td>\n      <td>0</td>\n      <td>0</td>\n      <td>1</td>\n      <td>1</td>\n      <td>0</td>\n      <td>1</td>\n      <td>0</td>\n      <td>0</td>\n      <td>0</td>\n      <td>...</td>\n      <td>0</td>\n      <td>0</td>\n      <td>1</td>\n      <td>0</td>\n      <td>0</td>\n      <td>0</td>\n      <td>0</td>\n      <td>0</td>\n      <td>0</td>\n      <td>1</td>\n    </tr>\n  </tbody>\n</table>\n<p>5 rows × 28 columns</p>\n</div>"
     },
     "execution_count": 747,
     "metadata": {},
     "output_type": "execute_result"
    }
   ],
   "source": [
    "# One-hot encode binned variables\n",
    "one_hot_cols = df_bin.columns.tolist()\n",
    "one_hot_cols.remove('Survived')\n",
    "df_bin_enc = pd.get_dummies(df_bin, columns=one_hot_cols)\n",
    "\n",
    "df_bin_enc.head()"
   ],
   "metadata": {
    "collapsed": false,
    "pycharm": {
     "name": "#%%\n"
    }
   }
  },
  {
   "cell_type": "code",
   "execution_count": 748,
   "outputs": [],
   "source": [
    "# One hot encode the categorical columns\n",
    "df_embarked_one_hot = pd.get_dummies(df_con['Embarked'],\n",
    "                                     prefix='embarked')\n",
    "\n",
    "df_sex_one_hot = pd.get_dummies(df_con['Sex'],\n",
    "                                prefix='sex')\n",
    "\n",
    "df_plcass_one_hot = pd.get_dummies(df_con['Pclass'],\n",
    "                                   prefix='pclass')"
   ],
   "metadata": {
    "collapsed": false,
    "pycharm": {
     "name": "#%%\n"
    }
   }
  },
  {
   "cell_type": "code",
   "execution_count": 749,
   "outputs": [],
   "source": [
    "# Combine the one hot encoded columns with df_con_enc\n",
    "df_con_enc = pd.concat([df_con,\n",
    "                        df_embarked_one_hot,\n",
    "                        df_sex_one_hot,\n",
    "                        df_plcass_one_hot], axis=1)\n",
    "\n",
    "# Drop the original categorical columns (because now they've been one hot encoded)\n",
    "df_con_enc = df_con_enc.drop(['Pclass', 'Sex', 'Embarked'], axis=1)"
   ],
   "metadata": {
    "collapsed": false,
    "pycharm": {
     "name": "#%%\n"
    }
   }
  },
  {
   "cell_type": "code",
   "execution_count": 750,
   "outputs": [
    {
     "data": {
      "text/plain": "    Survived  SibSp  Parch     Fare  embarked_C  embarked_Q  embarked_S  \\\n0          0      1      0   7.2500           0           0           1   \n1          1      1      0  71.2833           1           0           0   \n2          1      0      0   7.9250           0           0           1   \n3          1      1      0  53.1000           0           0           1   \n4          0      0      0   8.0500           0           0           1   \n5          0      0      0   8.4583           0           1           0   \n6          0      0      0  51.8625           0           0           1   \n7          0      3      1  21.0750           0           0           1   \n8          1      0      2  11.1333           0           0           1   \n9          1      1      0  30.0708           1           0           0   \n10         1      1      1  16.7000           0           0           1   \n11         1      0      0  26.5500           0           0           1   \n12         0      0      0   8.0500           0           0           1   \n13         0      1      5  31.2750           0           0           1   \n14         0      0      0   7.8542           0           0           1   \n15         1      0      0  16.0000           0           0           1   \n16         0      4      1  29.1250           0           1           0   \n17         1      0      0  13.0000           0           0           1   \n18         0      1      0  18.0000           0           0           1   \n19         1      0      0   7.2250           1           0           0   \n\n    sex_female  sex_male  pclass_1  pclass_2  pclass_3  \n0            0         1         0         0         1  \n1            1         0         1         0         0  \n2            1         0         0         0         1  \n3            1         0         1         0         0  \n4            0         1         0         0         1  \n5            0         1         0         0         1  \n6            0         1         1         0         0  \n7            0         1         0         0         1  \n8            1         0         0         0         1  \n9            1         0         0         1         0  \n10           1         0         0         0         1  \n11           1         0         1         0         0  \n12           0         1         0         0         1  \n13           0         1         0         0         1  \n14           1         0         0         0         1  \n15           1         0         0         1         0  \n16           0         1         0         0         1  \n17           0         1         0         1         0  \n18           1         0         0         0         1  \n19           1         0         0         0         1  ",
      "text/html": "<div>\n<style scoped>\n    .dataframe tbody tr th:only-of-type {\n        vertical-align: middle;\n    }\n\n    .dataframe tbody tr th {\n        vertical-align: top;\n    }\n\n    .dataframe thead th {\n        text-align: right;\n    }\n</style>\n<table border=\"1\" class=\"dataframe\">\n  <thead>\n    <tr style=\"text-align: right;\">\n      <th></th>\n      <th>Survived</th>\n      <th>SibSp</th>\n      <th>Parch</th>\n      <th>Fare</th>\n      <th>embarked_C</th>\n      <th>embarked_Q</th>\n      <th>embarked_S</th>\n      <th>sex_female</th>\n      <th>sex_male</th>\n      <th>pclass_1</th>\n      <th>pclass_2</th>\n      <th>pclass_3</th>\n    </tr>\n  </thead>\n  <tbody>\n    <tr>\n      <th>0</th>\n      <td>0</td>\n      <td>1</td>\n      <td>0</td>\n      <td>7.2500</td>\n      <td>0</td>\n      <td>0</td>\n      <td>1</td>\n      <td>0</td>\n      <td>1</td>\n      <td>0</td>\n      <td>0</td>\n      <td>1</td>\n    </tr>\n    <tr>\n      <th>1</th>\n      <td>1</td>\n      <td>1</td>\n      <td>0</td>\n      <td>71.2833</td>\n      <td>1</td>\n      <td>0</td>\n      <td>0</td>\n      <td>1</td>\n      <td>0</td>\n      <td>1</td>\n      <td>0</td>\n      <td>0</td>\n    </tr>\n    <tr>\n      <th>2</th>\n      <td>1</td>\n      <td>0</td>\n      <td>0</td>\n      <td>7.9250</td>\n      <td>0</td>\n      <td>0</td>\n      <td>1</td>\n      <td>1</td>\n      <td>0</td>\n      <td>0</td>\n      <td>0</td>\n      <td>1</td>\n    </tr>\n    <tr>\n      <th>3</th>\n      <td>1</td>\n      <td>1</td>\n      <td>0</td>\n      <td>53.1000</td>\n      <td>0</td>\n      <td>0</td>\n      <td>1</td>\n      <td>1</td>\n      <td>0</td>\n      <td>1</td>\n      <td>0</td>\n      <td>0</td>\n    </tr>\n    <tr>\n      <th>4</th>\n      <td>0</td>\n      <td>0</td>\n      <td>0</td>\n      <td>8.0500</td>\n      <td>0</td>\n      <td>0</td>\n      <td>1</td>\n      <td>0</td>\n      <td>1</td>\n      <td>0</td>\n      <td>0</td>\n      <td>1</td>\n    </tr>\n    <tr>\n      <th>5</th>\n      <td>0</td>\n      <td>0</td>\n      <td>0</td>\n      <td>8.4583</td>\n      <td>0</td>\n      <td>1</td>\n      <td>0</td>\n      <td>0</td>\n      <td>1</td>\n      <td>0</td>\n      <td>0</td>\n      <td>1</td>\n    </tr>\n    <tr>\n      <th>6</th>\n      <td>0</td>\n      <td>0</td>\n      <td>0</td>\n      <td>51.8625</td>\n      <td>0</td>\n      <td>0</td>\n      <td>1</td>\n      <td>0</td>\n      <td>1</td>\n      <td>1</td>\n      <td>0</td>\n      <td>0</td>\n    </tr>\n    <tr>\n      <th>7</th>\n      <td>0</td>\n      <td>3</td>\n      <td>1</td>\n      <td>21.0750</td>\n      <td>0</td>\n      <td>0</td>\n      <td>1</td>\n      <td>0</td>\n      <td>1</td>\n      <td>0</td>\n      <td>0</td>\n      <td>1</td>\n    </tr>\n    <tr>\n      <th>8</th>\n      <td>1</td>\n      <td>0</td>\n      <td>2</td>\n      <td>11.1333</td>\n      <td>0</td>\n      <td>0</td>\n      <td>1</td>\n      <td>1</td>\n      <td>0</td>\n      <td>0</td>\n      <td>0</td>\n      <td>1</td>\n    </tr>\n    <tr>\n      <th>9</th>\n      <td>1</td>\n      <td>1</td>\n      <td>0</td>\n      <td>30.0708</td>\n      <td>1</td>\n      <td>0</td>\n      <td>0</td>\n      <td>1</td>\n      <td>0</td>\n      <td>0</td>\n      <td>1</td>\n      <td>0</td>\n    </tr>\n    <tr>\n      <th>10</th>\n      <td>1</td>\n      <td>1</td>\n      <td>1</td>\n      <td>16.7000</td>\n      <td>0</td>\n      <td>0</td>\n      <td>1</td>\n      <td>1</td>\n      <td>0</td>\n      <td>0</td>\n      <td>0</td>\n      <td>1</td>\n    </tr>\n    <tr>\n      <th>11</th>\n      <td>1</td>\n      <td>0</td>\n      <td>0</td>\n      <td>26.5500</td>\n      <td>0</td>\n      <td>0</td>\n      <td>1</td>\n      <td>1</td>\n      <td>0</td>\n      <td>1</td>\n      <td>0</td>\n      <td>0</td>\n    </tr>\n    <tr>\n      <th>12</th>\n      <td>0</td>\n      <td>0</td>\n      <td>0</td>\n      <td>8.0500</td>\n      <td>0</td>\n      <td>0</td>\n      <td>1</td>\n      <td>0</td>\n      <td>1</td>\n      <td>0</td>\n      <td>0</td>\n      <td>1</td>\n    </tr>\n    <tr>\n      <th>13</th>\n      <td>0</td>\n      <td>1</td>\n      <td>5</td>\n      <td>31.2750</td>\n      <td>0</td>\n      <td>0</td>\n      <td>1</td>\n      <td>0</td>\n      <td>1</td>\n      <td>0</td>\n      <td>0</td>\n      <td>1</td>\n    </tr>\n    <tr>\n      <th>14</th>\n      <td>0</td>\n      <td>0</td>\n      <td>0</td>\n      <td>7.8542</td>\n      <td>0</td>\n      <td>0</td>\n      <td>1</td>\n      <td>1</td>\n      <td>0</td>\n      <td>0</td>\n      <td>0</td>\n      <td>1</td>\n    </tr>\n    <tr>\n      <th>15</th>\n      <td>1</td>\n      <td>0</td>\n      <td>0</td>\n      <td>16.0000</td>\n      <td>0</td>\n      <td>0</td>\n      <td>1</td>\n      <td>1</td>\n      <td>0</td>\n      <td>0</td>\n      <td>1</td>\n      <td>0</td>\n    </tr>\n    <tr>\n      <th>16</th>\n      <td>0</td>\n      <td>4</td>\n      <td>1</td>\n      <td>29.1250</td>\n      <td>0</td>\n      <td>1</td>\n      <td>0</td>\n      <td>0</td>\n      <td>1</td>\n      <td>0</td>\n      <td>0</td>\n      <td>1</td>\n    </tr>\n    <tr>\n      <th>17</th>\n      <td>1</td>\n      <td>0</td>\n      <td>0</td>\n      <td>13.0000</td>\n      <td>0</td>\n      <td>0</td>\n      <td>1</td>\n      <td>0</td>\n      <td>1</td>\n      <td>0</td>\n      <td>1</td>\n      <td>0</td>\n    </tr>\n    <tr>\n      <th>18</th>\n      <td>0</td>\n      <td>1</td>\n      <td>0</td>\n      <td>18.0000</td>\n      <td>0</td>\n      <td>0</td>\n      <td>1</td>\n      <td>1</td>\n      <td>0</td>\n      <td>0</td>\n      <td>0</td>\n      <td>1</td>\n    </tr>\n    <tr>\n      <th>19</th>\n      <td>1</td>\n      <td>0</td>\n      <td>0</td>\n      <td>7.2250</td>\n      <td>1</td>\n      <td>0</td>\n      <td>0</td>\n      <td>1</td>\n      <td>0</td>\n      <td>0</td>\n      <td>0</td>\n      <td>1</td>\n    </tr>\n  </tbody>\n</table>\n</div>"
     },
     "execution_count": 750,
     "metadata": {},
     "output_type": "execute_result"
    }
   ],
   "source": [
    "# Let's look at df_con_enc\n",
    "df_con_enc.head(20)"
   ],
   "metadata": {
    "collapsed": false,
    "pycharm": {
     "name": "#%%\n"
    }
   }
  },
  {
   "cell_type": "markdown",
   "source": [
    "## Start Building Machine Learning Models\n",
    "\n",
    "Now our data has been manipulating and converted to numbers, we can run a series of different machine learning algorithms over it to find which yield the best results."
   ],
   "metadata": {
    "collapsed": false,
    "pycharm": {
     "name": "#%% md\n"
    }
   }
  },
  {
   "cell_type": "markdown",
   "source": [
    "## Let's seperate the data"
   ],
   "metadata": {
    "collapsed": false,
    "pycharm": {
     "name": "#%% md\n"
    }
   }
  },
  {
   "cell_type": "code",
   "execution_count": 751,
   "outputs": [],
   "source": [
    "# Seclect the dataframe we want to use first for predictions\n",
    "selected_df = df_con_enc"
   ],
   "metadata": {
    "collapsed": false,
    "pycharm": {
     "name": "#%%\n"
    }
   }
  },
  {
   "cell_type": "code",
   "execution_count": 752,
   "outputs": [
    {
     "data": {
      "text/plain": "   Survived  SibSp  Parch     Fare  embarked_C  embarked_Q  embarked_S  \\\n0         0      1      0   7.2500           0           0           1   \n1         1      1      0  71.2833           1           0           0   \n2         1      0      0   7.9250           0           0           1   \n3         1      1      0  53.1000           0           0           1   \n4         0      0      0   8.0500           0           0           1   \n\n   sex_female  sex_male  pclass_1  pclass_2  pclass_3  \n0           0         1         0         0         1  \n1           1         0         1         0         0  \n2           1         0         0         0         1  \n3           1         0         1         0         0  \n4           0         1         0         0         1  ",
      "text/html": "<div>\n<style scoped>\n    .dataframe tbody tr th:only-of-type {\n        vertical-align: middle;\n    }\n\n    .dataframe tbody tr th {\n        vertical-align: top;\n    }\n\n    .dataframe thead th {\n        text-align: right;\n    }\n</style>\n<table border=\"1\" class=\"dataframe\">\n  <thead>\n    <tr style=\"text-align: right;\">\n      <th></th>\n      <th>Survived</th>\n      <th>SibSp</th>\n      <th>Parch</th>\n      <th>Fare</th>\n      <th>embarked_C</th>\n      <th>embarked_Q</th>\n      <th>embarked_S</th>\n      <th>sex_female</th>\n      <th>sex_male</th>\n      <th>pclass_1</th>\n      <th>pclass_2</th>\n      <th>pclass_3</th>\n    </tr>\n  </thead>\n  <tbody>\n    <tr>\n      <th>0</th>\n      <td>0</td>\n      <td>1</td>\n      <td>0</td>\n      <td>7.2500</td>\n      <td>0</td>\n      <td>0</td>\n      <td>1</td>\n      <td>0</td>\n      <td>1</td>\n      <td>0</td>\n      <td>0</td>\n      <td>1</td>\n    </tr>\n    <tr>\n      <th>1</th>\n      <td>1</td>\n      <td>1</td>\n      <td>0</td>\n      <td>71.2833</td>\n      <td>1</td>\n      <td>0</td>\n      <td>0</td>\n      <td>1</td>\n      <td>0</td>\n      <td>1</td>\n      <td>0</td>\n      <td>0</td>\n    </tr>\n    <tr>\n      <th>2</th>\n      <td>1</td>\n      <td>0</td>\n      <td>0</td>\n      <td>7.9250</td>\n      <td>0</td>\n      <td>0</td>\n      <td>1</td>\n      <td>1</td>\n      <td>0</td>\n      <td>0</td>\n      <td>0</td>\n      <td>1</td>\n    </tr>\n    <tr>\n      <th>3</th>\n      <td>1</td>\n      <td>1</td>\n      <td>0</td>\n      <td>53.1000</td>\n      <td>0</td>\n      <td>0</td>\n      <td>1</td>\n      <td>1</td>\n      <td>0</td>\n      <td>1</td>\n      <td>0</td>\n      <td>0</td>\n    </tr>\n    <tr>\n      <th>4</th>\n      <td>0</td>\n      <td>0</td>\n      <td>0</td>\n      <td>8.0500</td>\n      <td>0</td>\n      <td>0</td>\n      <td>1</td>\n      <td>0</td>\n      <td>1</td>\n      <td>0</td>\n      <td>0</td>\n      <td>1</td>\n    </tr>\n  </tbody>\n</table>\n</div>"
     },
     "execution_count": 752,
     "metadata": {},
     "output_type": "execute_result"
    }
   ],
   "source": [
    "selected_df.head()"
   ],
   "metadata": {
    "collapsed": false,
    "pycharm": {
     "name": "#%%\n"
    }
   }
  },
  {
   "cell_type": "code",
   "execution_count": 753,
   "outputs": [],
   "source": [
    "# Split the dataframe into data and labels\n",
    "X_train = selected_df.drop(['Survived'], axis=1) # data\n",
    "y_train = selected_df.Survived # labels"
   ],
   "metadata": {
    "collapsed": false,
    "pycharm": {
     "name": "#%%\n"
    }
   }
  },
  {
   "cell_type": "code",
   "execution_count": 754,
   "outputs": [
    {
     "data": {
      "text/plain": "(889, 11)"
     },
     "execution_count": 754,
     "metadata": {},
     "output_type": "execute_result"
    }
   ],
   "source": [
    "# Shape of the data\n",
    "X_train.shape"
   ],
   "metadata": {
    "collapsed": false,
    "pycharm": {
     "name": "#%%\n"
    }
   }
  },
  {
   "cell_type": "code",
   "execution_count": 755,
   "outputs": [
    {
     "data": {
      "text/plain": "   SibSp  Parch     Fare  embarked_C  embarked_Q  embarked_S  sex_female  \\\n0      1      0   7.2500           0           0           1           0   \n1      1      0  71.2833           1           0           0           1   \n2      0      0   7.9250           0           0           1           1   \n3      1      0  53.1000           0           0           1           1   \n4      0      0   8.0500           0           0           1           0   \n\n   sex_male  pclass_1  pclass_2  pclass_3  \n0         1         0         0         1  \n1         0         1         0         0  \n2         0         0         0         1  \n3         0         1         0         0  \n4         1         0         0         1  ",
      "text/html": "<div>\n<style scoped>\n    .dataframe tbody tr th:only-of-type {\n        vertical-align: middle;\n    }\n\n    .dataframe tbody tr th {\n        vertical-align: top;\n    }\n\n    .dataframe thead th {\n        text-align: right;\n    }\n</style>\n<table border=\"1\" class=\"dataframe\">\n  <thead>\n    <tr style=\"text-align: right;\">\n      <th></th>\n      <th>SibSp</th>\n      <th>Parch</th>\n      <th>Fare</th>\n      <th>embarked_C</th>\n      <th>embarked_Q</th>\n      <th>embarked_S</th>\n      <th>sex_female</th>\n      <th>sex_male</th>\n      <th>pclass_1</th>\n      <th>pclass_2</th>\n      <th>pclass_3</th>\n    </tr>\n  </thead>\n  <tbody>\n    <tr>\n      <th>0</th>\n      <td>1</td>\n      <td>0</td>\n      <td>7.2500</td>\n      <td>0</td>\n      <td>0</td>\n      <td>1</td>\n      <td>0</td>\n      <td>1</td>\n      <td>0</td>\n      <td>0</td>\n      <td>1</td>\n    </tr>\n    <tr>\n      <th>1</th>\n      <td>1</td>\n      <td>0</td>\n      <td>71.2833</td>\n      <td>1</td>\n      <td>0</td>\n      <td>0</td>\n      <td>1</td>\n      <td>0</td>\n      <td>1</td>\n      <td>0</td>\n      <td>0</td>\n    </tr>\n    <tr>\n      <th>2</th>\n      <td>0</td>\n      <td>0</td>\n      <td>7.9250</td>\n      <td>0</td>\n      <td>0</td>\n      <td>1</td>\n      <td>1</td>\n      <td>0</td>\n      <td>0</td>\n      <td>0</td>\n      <td>1</td>\n    </tr>\n    <tr>\n      <th>3</th>\n      <td>1</td>\n      <td>0</td>\n      <td>53.1000</td>\n      <td>0</td>\n      <td>0</td>\n      <td>1</td>\n      <td>1</td>\n      <td>0</td>\n      <td>1</td>\n      <td>0</td>\n      <td>0</td>\n    </tr>\n    <tr>\n      <th>4</th>\n      <td>0</td>\n      <td>0</td>\n      <td>8.0500</td>\n      <td>0</td>\n      <td>0</td>\n      <td>1</td>\n      <td>0</td>\n      <td>1</td>\n      <td>0</td>\n      <td>0</td>\n      <td>1</td>\n    </tr>\n  </tbody>\n</table>\n</div>"
     },
     "execution_count": 755,
     "metadata": {},
     "output_type": "execute_result"
    }
   ],
   "source": [
    "X_train.head()"
   ],
   "metadata": {
    "collapsed": false,
    "pycharm": {
     "name": "#%%\n"
    }
   }
  },
  {
   "cell_type": "code",
   "execution_count": 756,
   "outputs": [
    {
     "data": {
      "text/plain": "(889,)"
     },
     "execution_count": 756,
     "metadata": {},
     "output_type": "execute_result"
    }
   ],
   "source": [
    "# Shape of the labels\n",
    "y_train.shape"
   ],
   "metadata": {
    "collapsed": false,
    "pycharm": {
     "name": "#%%\n"
    }
   }
  },
  {
   "cell_type": "markdown",
   "source": [
    "## Define a function to fit machine learning algorithms\n",
    "\n",
    "Since many of the algorithms we will use are from the sklearn library, they all take similar (practically the same) inputs and produce similar outputs.\n",
    "\n",
    "To prevent writing code multiple times, we will functionise fitting the model and returning the accuracy scores."
   ],
   "metadata": {
    "collapsed": false,
    "pycharm": {
     "name": "#%% md\n"
    }
   }
  },
  {
   "cell_type": "code",
   "execution_count": 757,
   "outputs": [],
   "source": [
    "# Function that runs the requested algorithm and returns the accuracy metrics\n",
    "def fit_ml_algo(algo, X_train, y_train, cv):\n",
    "\n",
    "    # One Pass\n",
    "    model = algo.fit(X_train, y_train)\n",
    "    acc = round(model.score(X_train, y_train) * 100, 2)\n",
    "\n",
    "    # Cross Validation\n",
    "    train_pred = model_selection.cross_val_predict(algo,\n",
    "                                                  X_train,\n",
    "                                                  y_train,\n",
    "                                                  cv=cv,\n",
    "                                                  n_jobs = -1)\n",
    "\n",
    "    # Cross-validation accuracy metric\n",
    "    acc_cv = round(metrics.accuracy_score(y_train, train_pred) * 100, 2)\n",
    "\n",
    "    return train_pred, acc, acc_cv"
   ],
   "metadata": {
    "collapsed": false,
    "pycharm": {
     "name": "#%%\n"
    }
   }
  },
  {
   "cell_type": "markdown",
   "source": [
    "### Logistic Regression"
   ],
   "metadata": {
    "collapsed": false,
    "pycharm": {
     "name": "#%% md\n"
    }
   }
  },
  {
   "cell_type": "code",
   "execution_count": 758,
   "outputs": [
    {
     "name": "stderr",
     "output_type": "stream",
     "text": [
      "/Users/alexandrewavrant/opt/anaconda3/envs/kaggle/lib/python3.9/site-packages/sklearn/linear_model/_logistic.py:814: ConvergenceWarning: lbfgs failed to converge (status=1):\n",
      "STOP: TOTAL NO. of ITERATIONS REACHED LIMIT.\n",
      "\n",
      "Increase the number of iterations (max_iter) or scale the data as shown in:\n",
      "    https://scikit-learn.org/stable/modules/preprocessing.html\n",
      "Please also refer to the documentation for alternative solver options:\n",
      "    https://scikit-learn.org/stable/modules/linear_model.html#logistic-regression\n",
      "  n_iter_i = _check_optimize_result(\n",
      "/Users/alexandrewavrant/opt/anaconda3/envs/kaggle/lib/python3.9/site-packages/sklearn/linear_model/_logistic.py:814: ConvergenceWarning: lbfgs failed to converge (status=1):\n",
      "STOP: TOTAL NO. of ITERATIONS REACHED LIMIT.\n",
      "\n",
      "Increase the number of iterations (max_iter) or scale the data as shown in:\n",
      "    https://scikit-learn.org/stable/modules/preprocessing.html\n",
      "Please also refer to the documentation for alternative solver options:\n",
      "    https://scikit-learn.org/stable/modules/linear_model.html#logistic-regression\n",
      "  n_iter_i = _check_optimize_result(\n"
     ]
    },
    {
     "name": "stdout",
     "output_type": "stream",
     "text": [
      "Accuracy: 79.98\n",
      "Accuracy CV 10-Fold: 79.42\n",
      "Running Time: 0:00:00.376839\n"
     ]
    },
    {
     "name": "stderr",
     "output_type": "stream",
     "text": [
      "/Users/alexandrewavrant/opt/anaconda3/envs/kaggle/lib/python3.9/site-packages/sklearn/linear_model/_logistic.py:814: ConvergenceWarning: lbfgs failed to converge (status=1):\n",
      "STOP: TOTAL NO. of ITERATIONS REACHED LIMIT.\n",
      "\n",
      "Increase the number of iterations (max_iter) or scale the data as shown in:\n",
      "    https://scikit-learn.org/stable/modules/preprocessing.html\n",
      "Please also refer to the documentation for alternative solver options:\n",
      "    https://scikit-learn.org/stable/modules/linear_model.html#logistic-regression\n",
      "  n_iter_i = _check_optimize_result(\n",
      "/Users/alexandrewavrant/opt/anaconda3/envs/kaggle/lib/python3.9/site-packages/sklearn/linear_model/_logistic.py:814: ConvergenceWarning: lbfgs failed to converge (status=1):\n",
      "STOP: TOTAL NO. of ITERATIONS REACHED LIMIT.\n",
      "\n",
      "Increase the number of iterations (max_iter) or scale the data as shown in:\n",
      "    https://scikit-learn.org/stable/modules/preprocessing.html\n",
      "Please also refer to the documentation for alternative solver options:\n",
      "    https://scikit-learn.org/stable/modules/linear_model.html#logistic-regression\n",
      "  n_iter_i = _check_optimize_result(\n",
      "/Users/alexandrewavrant/opt/anaconda3/envs/kaggle/lib/python3.9/site-packages/sklearn/linear_model/_logistic.py:814: ConvergenceWarning: lbfgs failed to converge (status=1):\n",
      "STOP: TOTAL NO. of ITERATIONS REACHED LIMIT.\n",
      "\n",
      "Increase the number of iterations (max_iter) or scale the data as shown in:\n",
      "    https://scikit-learn.org/stable/modules/preprocessing.html\n",
      "Please also refer to the documentation for alternative solver options:\n",
      "    https://scikit-learn.org/stable/modules/linear_model.html#logistic-regression\n",
      "  n_iter_i = _check_optimize_result(\n",
      "/Users/alexandrewavrant/opt/anaconda3/envs/kaggle/lib/python3.9/site-packages/sklearn/linear_model/_logistic.py:814: ConvergenceWarning: lbfgs failed to converge (status=1):\n",
      "STOP: TOTAL NO. of ITERATIONS REACHED LIMIT.\n",
      "\n",
      "Increase the number of iterations (max_iter) or scale the data as shown in:\n",
      "    https://scikit-learn.org/stable/modules/preprocessing.html\n",
      "Please also refer to the documentation for alternative solver options:\n",
      "    https://scikit-learn.org/stable/modules/linear_model.html#logistic-regression\n",
      "  n_iter_i = _check_optimize_result(\n",
      "/Users/alexandrewavrant/opt/anaconda3/envs/kaggle/lib/python3.9/site-packages/sklearn/linear_model/_logistic.py:814: ConvergenceWarning: lbfgs failed to converge (status=1):\n",
      "STOP: TOTAL NO. of ITERATIONS REACHED LIMIT.\n",
      "\n",
      "Increase the number of iterations (max_iter) or scale the data as shown in:\n",
      "    https://scikit-learn.org/stable/modules/preprocessing.html\n",
      "Please also refer to the documentation for alternative solver options:\n",
      "    https://scikit-learn.org/stable/modules/linear_model.html#logistic-regression\n",
      "  n_iter_i = _check_optimize_result(\n"
     ]
    }
   ],
   "source": [
    "# Logistic Regression\n",
    "start_time = time.time()\n",
    "train_pred_log, acc_log, acc_cv_log = fit_ml_algo(algo=LogisticRegression(),\n",
    "                                                  X_train=X_train,\n",
    "                                                  y_train=y_train,\n",
    "                                                  cv=10)\n",
    "log_time = (time.time() - start_time)\n",
    "print(\"Accuracy: %s\" % acc_log)\n",
    "print(\"Accuracy CV 10-Fold: %s\" % acc_cv_log)\n",
    "print(\"Running Time: %s\" % datetime.timedelta(seconds=log_time))"
   ],
   "metadata": {
    "collapsed": false,
    "pycharm": {
     "name": "#%%\n"
    }
   }
  },
  {
   "cell_type": "markdown",
   "source": [
    "### K-Nearest Neighbours"
   ],
   "metadata": {
    "collapsed": false,
    "pycharm": {
     "name": "#%% md\n"
    }
   }
  },
  {
   "cell_type": "code",
   "execution_count": 759,
   "outputs": [
    {
     "name": "stdout",
     "output_type": "stream",
     "text": [
      "Accuracy: 83.69\n",
      "Accuracy CV 10-Fold: 76.38\n",
      "Running Time: 0:00:00.082204\n"
     ]
    }
   ],
   "source": [
    "# k-Nearest Neighbours\n",
    "start_time = time.time()\n",
    "train_pred_knn, acc_knn, acc_cv_knn = fit_ml_algo(algo=KNeighborsClassifier(),\n",
    "                                                  X_train=X_train,\n",
    "                                                  y_train=y_train,\n",
    "                                                  cv=10)\n",
    "knn_time = (time.time() - start_time)\n",
    "print(f\"Accuracy: {acc_knn}\")\n",
    "print(f\"Accuracy CV 10-Fold: {acc_cv_knn}\")\n",
    "print(f\"Running Time: {datetime.timedelta(seconds=knn_time)}\")"
   ],
   "metadata": {
    "collapsed": false,
    "pycharm": {
     "name": "#%%\n"
    }
   }
  },
  {
   "cell_type": "markdown",
   "source": [
    "### Gaussian Naive Bayes"
   ],
   "metadata": {
    "collapsed": false,
    "pycharm": {
     "name": "#%% md\n"
    }
   }
  },
  {
   "cell_type": "code",
   "execution_count": 760,
   "outputs": [
    {
     "name": "stdout",
     "output_type": "stream",
     "text": [
      "Accuracy: 78.52\n",
      "Accuracy CV 10-Fold: 77.95\n",
      "Running Time: 0:00:00.041664\n"
     ]
    }
   ],
   "source": [
    "# Gaussian Naive Bayes\n",
    "start_time = time.time()\n",
    "train_pred_gaussian, acc_gaussian, acc_cv_gaussian = fit_ml_algo(algo=GaussianNB(),\n",
    "                                                  X_train=X_train,\n",
    "                                                  y_train=y_train,\n",
    "                                                  cv=10)\n",
    "gaussian_time = (time.time() - start_time)\n",
    "print(f\"Accuracy: {acc_gaussian}\")\n",
    "print(f\"Accuracy CV 10-Fold: {acc_cv_gaussian}\")\n",
    "print(f\"Running Time: {datetime.timedelta(seconds=gaussian_time)}\")"
   ],
   "metadata": {
    "collapsed": false,
    "pycharm": {
     "name": "#%%\n"
    }
   }
  },
  {
   "cell_type": "markdown",
   "source": [
    "### Linear Support Vector Machines (SVC)"
   ],
   "metadata": {
    "collapsed": false,
    "pycharm": {
     "name": "#%% md\n"
    }
   }
  },
  {
   "cell_type": "code",
   "execution_count": 761,
   "outputs": [
    {
     "name": "stderr",
     "output_type": "stream",
     "text": [
      "/Users/alexandrewavrant/opt/anaconda3/envs/kaggle/lib/python3.9/site-packages/sklearn/svm/_base.py:1206: ConvergenceWarning: Liblinear failed to converge, increase the number of iterations.\n",
      "  warnings.warn(\n",
      "/Users/alexandrewavrant/opt/anaconda3/envs/kaggle/lib/python3.9/site-packages/sklearn/svm/_base.py:1206: ConvergenceWarning: Liblinear failed to converge, increase the number of iterations.\n",
      "  warnings.warn(\n",
      "/Users/alexandrewavrant/opt/anaconda3/envs/kaggle/lib/python3.9/site-packages/sklearn/svm/_base.py:1206: ConvergenceWarning: Liblinear failed to converge, increase the number of iterations.\n",
      "  warnings.warn(\n",
      "/Users/alexandrewavrant/opt/anaconda3/envs/kaggle/lib/python3.9/site-packages/sklearn/svm/_base.py:1206: ConvergenceWarning: Liblinear failed to converge, increase the number of iterations.\n",
      "  warnings.warn(\n",
      "/Users/alexandrewavrant/opt/anaconda3/envs/kaggle/lib/python3.9/site-packages/sklearn/svm/_base.py:1206: ConvergenceWarning: Liblinear failed to converge, increase the number of iterations.\n",
      "  warnings.warn(\n",
      "/Users/alexandrewavrant/opt/anaconda3/envs/kaggle/lib/python3.9/site-packages/sklearn/svm/_base.py:1206: ConvergenceWarning: Liblinear failed to converge, increase the number of iterations.\n",
      "  warnings.warn(\n",
      "/Users/alexandrewavrant/opt/anaconda3/envs/kaggle/lib/python3.9/site-packages/sklearn/svm/_base.py:1206: ConvergenceWarning: Liblinear failed to converge, increase the number of iterations.\n",
      "  warnings.warn(\n",
      "/Users/alexandrewavrant/opt/anaconda3/envs/kaggle/lib/python3.9/site-packages/sklearn/svm/_base.py:1206: ConvergenceWarning: Liblinear failed to converge, increase the number of iterations.\n",
      "  warnings.warn(\n",
      "/Users/alexandrewavrant/opt/anaconda3/envs/kaggle/lib/python3.9/site-packages/sklearn/svm/_base.py:1206: ConvergenceWarning: Liblinear failed to converge, increase the number of iterations.\n",
      "  warnings.warn(\n"
     ]
    },
    {
     "name": "stdout",
     "output_type": "stream",
     "text": [
      "Accuracy: 68.95\n",
      "Accuracy CV 10-Fold: 77.95\n",
      "Running Time: 0:00:00.780001\n"
     ]
    },
    {
     "name": "stderr",
     "output_type": "stream",
     "text": [
      "/Users/alexandrewavrant/opt/anaconda3/envs/kaggle/lib/python3.9/site-packages/sklearn/svm/_base.py:1206: ConvergenceWarning: Liblinear failed to converge, increase the number of iterations.\n",
      "  warnings.warn(\n",
      "/Users/alexandrewavrant/opt/anaconda3/envs/kaggle/lib/python3.9/site-packages/sklearn/svm/_base.py:1206: ConvergenceWarning: Liblinear failed to converge, increase the number of iterations.\n",
      "  warnings.warn(\n"
     ]
    }
   ],
   "source": [
    "# Linear SVC\n",
    "start_time = time.time()\n",
    "train_pred_linear_svc, acc_linear_svc, acc_cv_linear_svc = fit_ml_algo(algo=LinearSVC(),\n",
    "                                                  X_train=X_train,\n",
    "                                                  y_train=y_train,\n",
    "                                                  cv=10)\n",
    "linear_svc_time = (time.time() - start_time)\n",
    "print(f\"Accuracy: {acc_linear_svc}\")\n",
    "print(f\"Accuracy CV 10-Fold: {acc_cv_linear_svc}\")\n",
    "print(f\"Running Time: {datetime.timedelta(seconds=linear_svc_time)}\")"
   ],
   "metadata": {
    "collapsed": false,
    "pycharm": {
     "name": "#%%\n"
    }
   }
  },
  {
   "cell_type": "markdown",
   "source": [
    "### Stochastic Gradient Descent"
   ],
   "metadata": {
    "collapsed": false,
    "pycharm": {
     "name": "#%% md\n"
    }
   }
  },
  {
   "cell_type": "code",
   "execution_count": 762,
   "outputs": [
    {
     "name": "stdout",
     "output_type": "stream",
     "text": [
      "Accuracy: 61.75\n",
      "Accuracy CV 10-Fold: 72.55\n",
      "Running Time: 0:00:00.457852\n"
     ]
    }
   ],
   "source": [
    "# Stochastic Gradient Descent\n",
    "start_time = time.time()\n",
    "train_pred_sgd, acc_sgd, acc_cv_sgd = fit_ml_algo(SGDClassifier(),\n",
    "                                                  X_train,\n",
    "                                                  y_train,\n",
    "                                                  10)\n",
    "sgd_time = (time.time() - start_time)\n",
    "print(\"Accuracy: %s\" % acc_sgd)\n",
    "print(\"Accuracy CV 10-Fold: %s\" % acc_cv_sgd)\n",
    "print(\"Running Time: %s\" % datetime.timedelta(seconds=sgd_time))"
   ],
   "metadata": {
    "collapsed": false,
    "pycharm": {
     "name": "#%%\n"
    }
   }
  },
  {
   "cell_type": "markdown",
   "source": [
    "### Decision Tree Classifier"
   ],
   "metadata": {
    "collapsed": false,
    "pycharm": {
     "name": "#%% md\n"
    }
   }
  },
  {
   "cell_type": "code",
   "execution_count": 763,
   "outputs": [
    {
     "name": "stdout",
     "output_type": "stream",
     "text": [
      "Accuracy: 92.46\n",
      "Accuracy CV 10-Fold: 79.98\n",
      "Running Time: 0:00:00.476191\n"
     ]
    }
   ],
   "source": [
    "# Decision Tree Classifier\n",
    "start_time = time.time()\n",
    "train_pred_dt, acc_dt, acc_cv_dt = fit_ml_algo(DecisionTreeClassifier(),\n",
    "                                               X_train,\n",
    "                                               y_train,\n",
    "                                               10)\n",
    "dt_time = (time.time() - start_time)\n",
    "print(\"Accuracy: %s\" % acc_dt)\n",
    "print(\"Accuracy CV 10-Fold: %s\" % acc_cv_dt)\n",
    "print(\"Running Time: %s\" % datetime.timedelta(seconds=dt_time))"
   ],
   "metadata": {
    "collapsed": false,
    "pycharm": {
     "name": "#%%\n"
    }
   }
  },
  {
   "cell_type": "markdown",
   "source": [
    "### Gradient Boost Trees"
   ],
   "metadata": {
    "collapsed": false,
    "pycharm": {
     "name": "#%% md\n"
    }
   }
  },
  {
   "cell_type": "code",
   "execution_count": 764,
   "outputs": [
    {
     "name": "stdout",
     "output_type": "stream",
     "text": [
      "Accuracy: 86.61\n",
      "Accuracy CV 10-Fold: 80.65\n",
      "Running Time: 0:00:00.209598\n"
     ]
    }
   ],
   "source": [
    "# Gradient Boosting Trees\n",
    "start_time = time.time()\n",
    "train_pred_gbt, acc_gbt, acc_cv_gbt = fit_ml_algo(GradientBoostingClassifier(),\n",
    "                                                  X_train,\n",
    "                                                  y_train,\n",
    "                                                  10)\n",
    "gbt_time = (time.time() - start_time)\n",
    "print(\"Accuracy: %s\" % acc_gbt)\n",
    "print(\"Accuracy CV 10-Fold: %s\" % acc_cv_gbt)\n",
    "print(\"Running Time: %s\" % datetime.timedelta(seconds=gbt_time))"
   ],
   "metadata": {
    "collapsed": false,
    "pycharm": {
     "name": "#%%\n"
    }
   }
  },
  {
   "cell_type": "markdown",
   "source": [
    "## CatBoost Algorithm\n",
    "CatBoost is a state-of-the-art open-source gradient boosting on decision trees library.\n",
    "\n",
    "It's simple and easy to use. And is now regularly one of my go-to algorithms for any kind of machine learning task."
   ],
   "metadata": {
    "collapsed": false,
    "pycharm": {
     "name": "#%% md\n"
    }
   }
  },
  {
   "cell_type": "code",
   "execution_count": 765,
   "outputs": [
    {
     "data": {
      "text/plain": "   SibSp  Parch     Fare  embarked_C  embarked_Q  embarked_S  sex_female  \\\n0      1      0   7.2500           0           0           1           0   \n1      1      0  71.2833           1           0           0           1   \n2      0      0   7.9250           0           0           1           1   \n3      1      0  53.1000           0           0           1           1   \n4      0      0   8.0500           0           0           1           0   \n\n   sex_male  pclass_1  pclass_2  pclass_3  \n0         1         0         0         1  \n1         0         1         0         0  \n2         0         0         0         1  \n3         0         1         0         0  \n4         1         0         0         1  ",
      "text/html": "<div>\n<style scoped>\n    .dataframe tbody tr th:only-of-type {\n        vertical-align: middle;\n    }\n\n    .dataframe tbody tr th {\n        vertical-align: top;\n    }\n\n    .dataframe thead th {\n        text-align: right;\n    }\n</style>\n<table border=\"1\" class=\"dataframe\">\n  <thead>\n    <tr style=\"text-align: right;\">\n      <th></th>\n      <th>SibSp</th>\n      <th>Parch</th>\n      <th>Fare</th>\n      <th>embarked_C</th>\n      <th>embarked_Q</th>\n      <th>embarked_S</th>\n      <th>sex_female</th>\n      <th>sex_male</th>\n      <th>pclass_1</th>\n      <th>pclass_2</th>\n      <th>pclass_3</th>\n    </tr>\n  </thead>\n  <tbody>\n    <tr>\n      <th>0</th>\n      <td>1</td>\n      <td>0</td>\n      <td>7.2500</td>\n      <td>0</td>\n      <td>0</td>\n      <td>1</td>\n      <td>0</td>\n      <td>1</td>\n      <td>0</td>\n      <td>0</td>\n      <td>1</td>\n    </tr>\n    <tr>\n      <th>1</th>\n      <td>1</td>\n      <td>0</td>\n      <td>71.2833</td>\n      <td>1</td>\n      <td>0</td>\n      <td>0</td>\n      <td>1</td>\n      <td>0</td>\n      <td>1</td>\n      <td>0</td>\n      <td>0</td>\n    </tr>\n    <tr>\n      <th>2</th>\n      <td>0</td>\n      <td>0</td>\n      <td>7.9250</td>\n      <td>0</td>\n      <td>0</td>\n      <td>1</td>\n      <td>1</td>\n      <td>0</td>\n      <td>0</td>\n      <td>0</td>\n      <td>1</td>\n    </tr>\n    <tr>\n      <th>3</th>\n      <td>1</td>\n      <td>0</td>\n      <td>53.1000</td>\n      <td>0</td>\n      <td>0</td>\n      <td>1</td>\n      <td>1</td>\n      <td>0</td>\n      <td>1</td>\n      <td>0</td>\n      <td>0</td>\n    </tr>\n    <tr>\n      <th>4</th>\n      <td>0</td>\n      <td>0</td>\n      <td>8.0500</td>\n      <td>0</td>\n      <td>0</td>\n      <td>1</td>\n      <td>0</td>\n      <td>1</td>\n      <td>0</td>\n      <td>0</td>\n      <td>1</td>\n    </tr>\n  </tbody>\n</table>\n</div>"
     },
     "execution_count": 765,
     "metadata": {},
     "output_type": "execute_result"
    }
   ],
   "source": [
    "# View the data for the CatBoost model\n",
    "X_train.head()"
   ],
   "metadata": {
    "collapsed": false,
    "pycharm": {
     "name": "#%%\n"
    }
   }
  },
  {
   "cell_type": "code",
   "execution_count": 766,
   "outputs": [
    {
     "data": {
      "text/plain": "0    0\n1    1\n2    1\n3    1\n4    0\nName: Survived, dtype: int64"
     },
     "execution_count": 766,
     "metadata": {},
     "output_type": "execute_result"
    }
   ],
   "source": [
    "# View the labels for the CatBoost model\n",
    "y_train.head()"
   ],
   "metadata": {
    "collapsed": false,
    "pycharm": {
     "name": "#%%\n"
    }
   }
  },
  {
   "cell_type": "code",
   "execution_count": 767,
   "outputs": [
    {
     "name": "stderr",
     "output_type": "stream",
     "text": [
      "/var/folders/yl/pr52dtxn48s9tqvcb70mkk340000gn/T/ipykernel_42166/4203748581.py:2: DeprecationWarning: `np.float` is a deprecated alias for the builtin `float`. To silence this warning, use `float` by itself. Doing this will not modify any behavior and is safe. If you specifically wanted the numpy scalar type, use `np.float64` here.\n",
      "Deprecated in NumPy 1.20; for more details and guidance: https://numpy.org/devdocs/release/1.20.0-notes.html#deprecations\n",
      "  cat_features = np.where(X_train.dtypes != np.float)[0]\n"
     ]
    },
    {
     "data": {
      "text/plain": "array([ 0,  1,  3,  4,  5,  6,  7,  8,  9, 10])"
     },
     "execution_count": 767,
     "metadata": {},
     "output_type": "execute_result"
    }
   ],
   "source": [
    "# Define the categorical features for the CatBoost model\n",
    "cat_features = np.where(X_train.dtypes != np.float)[0]\n",
    "cat_features"
   ],
   "metadata": {
    "collapsed": false,
    "pycharm": {
     "name": "#%%\n"
    }
   }
  },
  {
   "cell_type": "markdown",
   "source": [
    "This means Catboost has picked up that all variables except Fare can be treated as categorical."
   ],
   "metadata": {
    "collapsed": false,
    "pycharm": {
     "name": "#%% md\n"
    }
   }
  },
  {
   "cell_type": "code",
   "execution_count": 768,
   "outputs": [],
   "source": [
    "# Use the CatBoost Pool() function to pool together the training data and categorical feature labels\n",
    "train_pool = Pool(X_train,\n",
    "                  y_train,\n",
    "                  cat_features)"
   ],
   "metadata": {
    "collapsed": false,
    "pycharm": {
     "name": "#%%\n"
    }
   }
  },
  {
   "cell_type": "code",
   "execution_count": 769,
   "outputs": [
    {
     "data": {
      "text/plain": "0    0\n1    1\n2    1\n3    1\n4    0\nName: Survived, dtype: int64"
     },
     "execution_count": 769,
     "metadata": {},
     "output_type": "execute_result"
    }
   ],
   "source": [
    "y_train.head()"
   ],
   "metadata": {
    "collapsed": false,
    "pycharm": {
     "name": "#%%\n"
    }
   }
  },
  {
   "cell_type": "code",
   "execution_count": 773,
   "outputs": [
    {
     "data": {
      "text/plain": "MetricVisualizer(layout=Layout(align_self='stretch', height='500px'))",
      "application/vnd.jupyter.widget-view+json": {
       "version_major": 2,
       "version_minor": 0,
       "model_id": "bfe60d127bc844659f79ee72d07183c7"
      }
     },
     "metadata": {},
     "output_type": "display_data"
    },
    {
     "name": "stdout",
     "output_type": "stream",
     "text": [
      "Learning rate set to 0.009797\n",
      "0:\tlearn: 0.6862830\ttotal: 2.53ms\tremaining: 2.52s\n",
      "1:\tlearn: 0.6809444\ttotal: 3.84ms\tremaining: 1.91s\n",
      "2:\tlearn: 0.6751692\ttotal: 5.34ms\tremaining: 1.77s\n",
      "3:\tlearn: 0.6689060\ttotal: 6.89ms\tremaining: 1.72s\n",
      "4:\tlearn: 0.6632144\ttotal: 8.43ms\tremaining: 1.68s\n",
      "5:\tlearn: 0.6576488\ttotal: 9.66ms\tremaining: 1.6s\n",
      "6:\tlearn: 0.6544441\ttotal: 10.3ms\tremaining: 1.46s\n",
      "7:\tlearn: 0.6490635\ttotal: 11.9ms\tremaining: 1.48s\n",
      "8:\tlearn: 0.6443241\ttotal: 13.6ms\tremaining: 1.5s\n",
      "9:\tlearn: 0.6395935\ttotal: 15.4ms\tremaining: 1.53s\n",
      "10:\tlearn: 0.6345186\ttotal: 17.4ms\tremaining: 1.56s\n",
      "11:\tlearn: 0.6305316\ttotal: 18.9ms\tremaining: 1.56s\n",
      "12:\tlearn: 0.6275610\ttotal: 19.8ms\tremaining: 1.5s\n",
      "13:\tlearn: 0.6225020\ttotal: 21.5ms\tremaining: 1.51s\n",
      "14:\tlearn: 0.6179503\ttotal: 23.3ms\tremaining: 1.53s\n",
      "15:\tlearn: 0.6140480\ttotal: 24.2ms\tremaining: 1.49s\n",
      "16:\tlearn: 0.6100034\ttotal: 25.7ms\tremaining: 1.49s\n",
      "17:\tlearn: 0.6049646\ttotal: 28.1ms\tremaining: 1.53s\n",
      "18:\tlearn: 0.6025760\ttotal: 28.6ms\tremaining: 1.48s\n",
      "19:\tlearn: 0.5998630\ttotal: 29.4ms\tremaining: 1.44s\n",
      "20:\tlearn: 0.5958217\ttotal: 30.7ms\tremaining: 1.43s\n",
      "21:\tlearn: 0.5914106\ttotal: 32.3ms\tremaining: 1.43s\n",
      "22:\tlearn: 0.5876739\ttotal: 33.9ms\tremaining: 1.44s\n",
      "23:\tlearn: 0.5844864\ttotal: 36.9ms\tremaining: 1.5s\n",
      "24:\tlearn: 0.5807646\ttotal: 38.4ms\tremaining: 1.5s\n",
      "25:\tlearn: 0.5771272\ttotal: 40.8ms\tremaining: 1.53s\n",
      "26:\tlearn: 0.5728543\ttotal: 42.5ms\tremaining: 1.53s\n",
      "27:\tlearn: 0.5698997\ttotal: 43.1ms\tremaining: 1.5s\n",
      "28:\tlearn: 0.5662608\ttotal: 44.9ms\tremaining: 1.5s\n",
      "29:\tlearn: 0.5634201\ttotal: 46.6ms\tremaining: 1.51s\n",
      "30:\tlearn: 0.5606398\ttotal: 48.1ms\tremaining: 1.5s\n",
      "31:\tlearn: 0.5589071\ttotal: 49.1ms\tremaining: 1.49s\n",
      "32:\tlearn: 0.5555976\ttotal: 50.6ms\tremaining: 1.48s\n",
      "33:\tlearn: 0.5527465\ttotal: 51.9ms\tremaining: 1.48s\n",
      "34:\tlearn: 0.5502509\ttotal: 53.3ms\tremaining: 1.47s\n",
      "35:\tlearn: 0.5474225\ttotal: 54.7ms\tremaining: 1.46s\n",
      "36:\tlearn: 0.5449662\ttotal: 55.8ms\tremaining: 1.45s\n",
      "37:\tlearn: 0.5419375\ttotal: 58ms\tremaining: 1.47s\n",
      "38:\tlearn: 0.5389497\ttotal: 59.4ms\tremaining: 1.46s\n",
      "39:\tlearn: 0.5370361\ttotal: 60.8ms\tremaining: 1.46s\n",
      "40:\tlearn: 0.5345432\ttotal: 62.2ms\tremaining: 1.46s\n",
      "41:\tlearn: 0.5318468\ttotal: 64.2ms\tremaining: 1.46s\n",
      "42:\tlearn: 0.5287089\ttotal: 66.3ms\tremaining: 1.48s\n",
      "43:\tlearn: 0.5266517\ttotal: 67ms\tremaining: 1.45s\n",
      "44:\tlearn: 0.5250388\ttotal: 68.5ms\tremaining: 1.45s\n",
      "45:\tlearn: 0.5234472\ttotal: 70.6ms\tremaining: 1.47s\n",
      "46:\tlearn: 0.5211118\ttotal: 72.3ms\tremaining: 1.47s\n",
      "47:\tlearn: 0.5186236\ttotal: 73.8ms\tremaining: 1.46s\n",
      "48:\tlearn: 0.5174240\ttotal: 74.9ms\tremaining: 1.45s\n",
      "49:\tlearn: 0.5153830\ttotal: 76.9ms\tremaining: 1.46s\n",
      "50:\tlearn: 0.5136876\ttotal: 79.6ms\tremaining: 1.48s\n",
      "51:\tlearn: 0.5117623\ttotal: 80.9ms\tremaining: 1.47s\n",
      "52:\tlearn: 0.5107221\ttotal: 81.3ms\tremaining: 1.45s\n",
      "53:\tlearn: 0.5081771\ttotal: 82.8ms\tremaining: 1.45s\n",
      "54:\tlearn: 0.5069212\ttotal: 83.8ms\tremaining: 1.44s\n",
      "55:\tlearn: 0.5055755\ttotal: 84.7ms\tremaining: 1.43s\n",
      "56:\tlearn: 0.5038307\ttotal: 86.3ms\tremaining: 1.43s\n",
      "57:\tlearn: 0.5027958\ttotal: 87.3ms\tremaining: 1.42s\n",
      "58:\tlearn: 0.5013981\ttotal: 88.1ms\tremaining: 1.4s\n",
      "59:\tlearn: 0.4996900\ttotal: 89.4ms\tremaining: 1.4s\n",
      "60:\tlearn: 0.4979648\ttotal: 90.8ms\tremaining: 1.4s\n",
      "61:\tlearn: 0.4964338\ttotal: 92.6ms\tremaining: 1.4s\n",
      "62:\tlearn: 0.4950122\ttotal: 94.8ms\tremaining: 1.41s\n",
      "63:\tlearn: 0.4936159\ttotal: 97ms\tremaining: 1.42s\n",
      "64:\tlearn: 0.4925483\ttotal: 98.4ms\tremaining: 1.42s\n",
      "65:\tlearn: 0.4904981\ttotal: 100ms\tremaining: 1.42s\n",
      "66:\tlearn: 0.4894554\ttotal: 101ms\tremaining: 1.41s\n",
      "67:\tlearn: 0.4887259\ttotal: 103ms\tremaining: 1.41s\n",
      "68:\tlearn: 0.4868577\ttotal: 105ms\tremaining: 1.42s\n",
      "69:\tlearn: 0.4856525\ttotal: 107ms\tremaining: 1.42s\n",
      "70:\tlearn: 0.4844221\ttotal: 109ms\tremaining: 1.42s\n",
      "71:\tlearn: 0.4833108\ttotal: 110ms\tremaining: 1.42s\n",
      "72:\tlearn: 0.4820152\ttotal: 111ms\tremaining: 1.41s\n",
      "73:\tlearn: 0.4809681\ttotal: 113ms\tremaining: 1.41s\n",
      "74:\tlearn: 0.4796903\ttotal: 114ms\tremaining: 1.41s\n",
      "75:\tlearn: 0.4784985\ttotal: 115ms\tremaining: 1.4s\n",
      "76:\tlearn: 0.4765209\ttotal: 117ms\tremaining: 1.4s\n",
      "77:\tlearn: 0.4752912\ttotal: 119ms\tremaining: 1.4s\n",
      "78:\tlearn: 0.4736698\ttotal: 120ms\tremaining: 1.4s\n",
      "79:\tlearn: 0.4731221\ttotal: 121ms\tremaining: 1.39s\n",
      "80:\tlearn: 0.4725859\ttotal: 121ms\tremaining: 1.38s\n",
      "81:\tlearn: 0.4713736\ttotal: 123ms\tremaining: 1.37s\n",
      "82:\tlearn: 0.4701811\ttotal: 125ms\tremaining: 1.38s\n",
      "83:\tlearn: 0.4683942\ttotal: 126ms\tremaining: 1.38s\n",
      "84:\tlearn: 0.4673388\ttotal: 128ms\tremaining: 1.38s\n",
      "85:\tlearn: 0.4663533\ttotal: 129ms\tremaining: 1.37s\n",
      "86:\tlearn: 0.4648838\ttotal: 131ms\tremaining: 1.38s\n",
      "87:\tlearn: 0.4634499\ttotal: 133ms\tremaining: 1.37s\n",
      "88:\tlearn: 0.4621940\ttotal: 134ms\tremaining: 1.37s\n",
      "89:\tlearn: 0.4612193\ttotal: 135ms\tremaining: 1.37s\n",
      "90:\tlearn: 0.4607998\ttotal: 136ms\tremaining: 1.36s\n",
      "91:\tlearn: 0.4602731\ttotal: 137ms\tremaining: 1.35s\n",
      "92:\tlearn: 0.4596309\ttotal: 138ms\tremaining: 1.35s\n",
      "93:\tlearn: 0.4589703\ttotal: 140ms\tremaining: 1.34s\n",
      "94:\tlearn: 0.4582647\ttotal: 141ms\tremaining: 1.34s\n",
      "95:\tlearn: 0.4567503\ttotal: 143ms\tremaining: 1.34s\n",
      "96:\tlearn: 0.4561099\ttotal: 144ms\tremaining: 1.34s\n",
      "97:\tlearn: 0.4553859\ttotal: 145ms\tremaining: 1.33s\n",
      "98:\tlearn: 0.4543200\ttotal: 147ms\tremaining: 1.33s\n",
      "99:\tlearn: 0.4533589\ttotal: 148ms\tremaining: 1.33s\n",
      "100:\tlearn: 0.4525700\ttotal: 149ms\tremaining: 1.33s\n",
      "101:\tlearn: 0.4522113\ttotal: 150ms\tremaining: 1.32s\n",
      "102:\tlearn: 0.4515744\ttotal: 151ms\tremaining: 1.32s\n",
      "103:\tlearn: 0.4507656\ttotal: 153ms\tremaining: 1.32s\n",
      "104:\tlearn: 0.4496656\ttotal: 154ms\tremaining: 1.31s\n",
      "105:\tlearn: 0.4493024\ttotal: 155ms\tremaining: 1.31s\n",
      "106:\tlearn: 0.4489220\ttotal: 157ms\tremaining: 1.31s\n",
      "107:\tlearn: 0.4484150\ttotal: 158ms\tremaining: 1.3s\n",
      "108:\tlearn: 0.4477070\ttotal: 159ms\tremaining: 1.3s\n",
      "109:\tlearn: 0.4470392\ttotal: 161ms\tremaining: 1.3s\n",
      "110:\tlearn: 0.4460394\ttotal: 162ms\tremaining: 1.3s\n",
      "111:\tlearn: 0.4456197\ttotal: 164ms\tremaining: 1.3s\n",
      "112:\tlearn: 0.4450436\ttotal: 165ms\tremaining: 1.3s\n",
      "113:\tlearn: 0.4443098\ttotal: 167ms\tremaining: 1.3s\n",
      "114:\tlearn: 0.4436594\ttotal: 169ms\tremaining: 1.3s\n",
      "115:\tlearn: 0.4430323\ttotal: 170ms\tremaining: 1.3s\n",
      "116:\tlearn: 0.4425668\ttotal: 171ms\tremaining: 1.29s\n",
      "117:\tlearn: 0.4420571\ttotal: 174ms\tremaining: 1.3s\n",
      "118:\tlearn: 0.4415627\ttotal: 176ms\tremaining: 1.3s\n",
      "119:\tlearn: 0.4409796\ttotal: 178ms\tremaining: 1.31s\n",
      "120:\tlearn: 0.4409304\ttotal: 179ms\tremaining: 1.3s\n",
      "121:\tlearn: 0.4404749\ttotal: 180ms\tremaining: 1.3s\n",
      "122:\tlearn: 0.4401158\ttotal: 182ms\tremaining: 1.3s\n",
      "123:\tlearn: 0.4394214\ttotal: 185ms\tremaining: 1.3s\n",
      "124:\tlearn: 0.4390912\ttotal: 186ms\tremaining: 1.3s\n",
      "125:\tlearn: 0.4385736\ttotal: 187ms\tremaining: 1.3s\n",
      "126:\tlearn: 0.4376314\ttotal: 189ms\tremaining: 1.3s\n",
      "127:\tlearn: 0.4374419\ttotal: 190ms\tremaining: 1.29s\n",
      "128:\tlearn: 0.4367835\ttotal: 192ms\tremaining: 1.3s\n",
      "129:\tlearn: 0.4367426\ttotal: 193ms\tremaining: 1.29s\n",
      "130:\tlearn: 0.4361966\ttotal: 194ms\tremaining: 1.28s\n",
      "131:\tlearn: 0.4351845\ttotal: 196ms\tremaining: 1.29s\n",
      "132:\tlearn: 0.4347796\ttotal: 198ms\tremaining: 1.29s\n",
      "133:\tlearn: 0.4344972\ttotal: 199ms\tremaining: 1.28s\n",
      "134:\tlearn: 0.4341238\ttotal: 200ms\tremaining: 1.28s\n",
      "135:\tlearn: 0.4336962\ttotal: 201ms\tremaining: 1.27s\n",
      "136:\tlearn: 0.4334183\ttotal: 203ms\tremaining: 1.28s\n",
      "137:\tlearn: 0.4330322\ttotal: 204ms\tremaining: 1.27s\n",
      "138:\tlearn: 0.4328820\ttotal: 205ms\tremaining: 1.27s\n",
      "139:\tlearn: 0.4322123\ttotal: 207ms\tremaining: 1.27s\n",
      "140:\tlearn: 0.4320459\ttotal: 208ms\tremaining: 1.26s\n",
      "141:\tlearn: 0.4313133\ttotal: 209ms\tremaining: 1.26s\n",
      "142:\tlearn: 0.4306864\ttotal: 211ms\tremaining: 1.26s\n",
      "143:\tlearn: 0.4298502\ttotal: 213ms\tremaining: 1.26s\n",
      "144:\tlearn: 0.4295635\ttotal: 214ms\tremaining: 1.26s\n",
      "145:\tlearn: 0.4291401\ttotal: 216ms\tremaining: 1.26s\n",
      "146:\tlearn: 0.4290027\ttotal: 218ms\tremaining: 1.26s\n",
      "147:\tlearn: 0.4287139\ttotal: 219ms\tremaining: 1.26s\n",
      "148:\tlearn: 0.4284865\ttotal: 221ms\tremaining: 1.26s\n",
      "149:\tlearn: 0.4282428\ttotal: 224ms\tremaining: 1.27s\n",
      "150:\tlearn: 0.4277638\ttotal: 225ms\tremaining: 1.27s\n",
      "151:\tlearn: 0.4272184\ttotal: 227ms\tremaining: 1.27s\n",
      "152:\tlearn: 0.4268386\ttotal: 229ms\tremaining: 1.26s\n",
      "153:\tlearn: 0.4262415\ttotal: 230ms\tremaining: 1.26s\n",
      "154:\tlearn: 0.4260480\ttotal: 232ms\tremaining: 1.26s\n",
      "155:\tlearn: 0.4254954\ttotal: 234ms\tremaining: 1.26s\n",
      "156:\tlearn: 0.4252337\ttotal: 236ms\tremaining: 1.26s\n",
      "157:\tlearn: 0.4251246\ttotal: 236ms\tremaining: 1.26s\n",
      "158:\tlearn: 0.4248393\ttotal: 238ms\tremaining: 1.26s\n",
      "159:\tlearn: 0.4245472\ttotal: 241ms\tremaining: 1.26s\n",
      "160:\tlearn: 0.4243067\ttotal: 243ms\tremaining: 1.26s\n",
      "161:\tlearn: 0.4240101\ttotal: 245ms\tremaining: 1.26s\n",
      "162:\tlearn: 0.4236345\ttotal: 246ms\tremaining: 1.26s\n",
      "163:\tlearn: 0.4234396\ttotal: 248ms\tremaining: 1.26s\n",
      "164:\tlearn: 0.4228926\ttotal: 249ms\tremaining: 1.26s\n",
      "165:\tlearn: 0.4227463\ttotal: 251ms\tremaining: 1.26s\n",
      "166:\tlearn: 0.4226186\ttotal: 253ms\tremaining: 1.26s\n",
      "167:\tlearn: 0.4222141\ttotal: 255ms\tremaining: 1.26s\n",
      "168:\tlearn: 0.4219366\ttotal: 257ms\tremaining: 1.26s\n",
      "169:\tlearn: 0.4216245\ttotal: 258ms\tremaining: 1.26s\n",
      "170:\tlearn: 0.4213900\ttotal: 260ms\tremaining: 1.26s\n",
      "171:\tlearn: 0.4210836\ttotal: 262ms\tremaining: 1.26s\n",
      "172:\tlearn: 0.4208199\ttotal: 264ms\tremaining: 1.26s\n",
      "173:\tlearn: 0.4206421\ttotal: 265ms\tremaining: 1.26s\n",
      "174:\tlearn: 0.4201114\ttotal: 268ms\tremaining: 1.26s\n",
      "175:\tlearn: 0.4198212\ttotal: 269ms\tremaining: 1.26s\n",
      "176:\tlearn: 0.4195834\ttotal: 271ms\tremaining: 1.26s\n",
      "177:\tlearn: 0.4195685\ttotal: 272ms\tremaining: 1.25s\n",
      "178:\tlearn: 0.4194809\ttotal: 272ms\tremaining: 1.25s\n",
      "179:\tlearn: 0.4191368\ttotal: 275ms\tremaining: 1.25s\n",
      "180:\tlearn: 0.4185960\ttotal: 276ms\tremaining: 1.25s\n",
      "181:\tlearn: 0.4184559\ttotal: 278ms\tremaining: 1.25s\n",
      "182:\tlearn: 0.4180542\ttotal: 279ms\tremaining: 1.25s\n",
      "183:\tlearn: 0.4178579\ttotal: 281ms\tremaining: 1.25s\n",
      "184:\tlearn: 0.4175684\ttotal: 283ms\tremaining: 1.25s\n",
      "185:\tlearn: 0.4173356\ttotal: 284ms\tremaining: 1.24s\n",
      "186:\tlearn: 0.4169641\ttotal: 286ms\tremaining: 1.24s\n",
      "187:\tlearn: 0.4165340\ttotal: 288ms\tremaining: 1.25s\n",
      "188:\tlearn: 0.4162489\ttotal: 293ms\tremaining: 1.26s\n",
      "189:\tlearn: 0.4160227\ttotal: 295ms\tremaining: 1.26s\n",
      "190:\tlearn: 0.4156773\ttotal: 297ms\tremaining: 1.26s\n",
      "191:\tlearn: 0.4153906\ttotal: 298ms\tremaining: 1.25s\n",
      "192:\tlearn: 0.4151181\ttotal: 300ms\tremaining: 1.25s\n",
      "193:\tlearn: 0.4149058\ttotal: 302ms\tremaining: 1.25s\n",
      "194:\tlearn: 0.4147785\ttotal: 303ms\tremaining: 1.25s\n",
      "195:\tlearn: 0.4145078\ttotal: 305ms\tremaining: 1.25s\n",
      "196:\tlearn: 0.4142290\ttotal: 307ms\tremaining: 1.25s\n",
      "197:\tlearn: 0.4138731\ttotal: 309ms\tremaining: 1.25s\n",
      "198:\tlearn: 0.4136525\ttotal: 311ms\tremaining: 1.25s\n",
      "199:\tlearn: 0.4134203\ttotal: 312ms\tremaining: 1.25s\n",
      "200:\tlearn: 0.4132429\ttotal: 314ms\tremaining: 1.25s\n",
      "201:\tlearn: 0.4131387\ttotal: 316ms\tremaining: 1.25s\n",
      "202:\tlearn: 0.4128981\ttotal: 318ms\tremaining: 1.25s\n",
      "203:\tlearn: 0.4127999\ttotal: 319ms\tremaining: 1.24s\n",
      "204:\tlearn: 0.4123862\ttotal: 321ms\tremaining: 1.24s\n",
      "205:\tlearn: 0.4122840\ttotal: 322ms\tremaining: 1.24s\n",
      "206:\tlearn: 0.4117794\ttotal: 325ms\tremaining: 1.25s\n",
      "207:\tlearn: 0.4116197\ttotal: 327ms\tremaining: 1.25s\n",
      "208:\tlearn: 0.4114565\ttotal: 330ms\tremaining: 1.25s\n",
      "209:\tlearn: 0.4111433\ttotal: 331ms\tremaining: 1.25s\n",
      "210:\tlearn: 0.4106763\ttotal: 333ms\tremaining: 1.24s\n",
      "211:\tlearn: 0.4106691\ttotal: 333ms\tremaining: 1.24s\n",
      "212:\tlearn: 0.4105119\ttotal: 335ms\tremaining: 1.24s\n",
      "213:\tlearn: 0.4102389\ttotal: 337ms\tremaining: 1.24s\n",
      "214:\tlearn: 0.4101730\ttotal: 339ms\tremaining: 1.24s\n",
      "215:\tlearn: 0.4097785\ttotal: 341ms\tremaining: 1.24s\n",
      "216:\tlearn: 0.4097719\ttotal: 342ms\tremaining: 1.23s\n",
      "217:\tlearn: 0.4095778\ttotal: 343ms\tremaining: 1.23s\n",
      "218:\tlearn: 0.4091628\ttotal: 345ms\tremaining: 1.23s\n",
      "219:\tlearn: 0.4088581\ttotal: 348ms\tremaining: 1.23s\n",
      "220:\tlearn: 0.4087048\ttotal: 349ms\tremaining: 1.23s\n",
      "221:\tlearn: 0.4084594\ttotal: 351ms\tremaining: 1.23s\n",
      "222:\tlearn: 0.4083597\ttotal: 353ms\tremaining: 1.23s\n",
      "223:\tlearn: 0.4081195\ttotal: 354ms\tremaining: 1.23s\n",
      "224:\tlearn: 0.4076140\ttotal: 356ms\tremaining: 1.23s\n",
      "225:\tlearn: 0.4072650\ttotal: 358ms\tremaining: 1.23s\n",
      "226:\tlearn: 0.4067655\ttotal: 360ms\tremaining: 1.23s\n",
      "227:\tlearn: 0.4065649\ttotal: 361ms\tremaining: 1.22s\n",
      "228:\tlearn: 0.4065040\ttotal: 362ms\tremaining: 1.22s\n",
      "229:\tlearn: 0.4064058\ttotal: 364ms\tremaining: 1.22s\n",
      "230:\tlearn: 0.4061181\ttotal: 366ms\tremaining: 1.22s\n",
      "231:\tlearn: 0.4055416\ttotal: 369ms\tremaining: 1.22s\n",
      "232:\tlearn: 0.4051275\ttotal: 370ms\tremaining: 1.22s\n",
      "233:\tlearn: 0.4047998\ttotal: 372ms\tremaining: 1.22s\n",
      "234:\tlearn: 0.4045996\ttotal: 374ms\tremaining: 1.22s\n",
      "235:\tlearn: 0.4044447\ttotal: 376ms\tremaining: 1.22s\n",
      "236:\tlearn: 0.4043262\ttotal: 378ms\tremaining: 1.22s\n",
      "237:\tlearn: 0.4040859\ttotal: 381ms\tremaining: 1.22s\n",
      "238:\tlearn: 0.4038266\ttotal: 383ms\tremaining: 1.22s\n",
      "239:\tlearn: 0.4036662\ttotal: 385ms\tremaining: 1.22s\n",
      "240:\tlearn: 0.4034000\ttotal: 388ms\tremaining: 1.22s\n",
      "241:\tlearn: 0.4032625\ttotal: 390ms\tremaining: 1.22s\n",
      "242:\tlearn: 0.4031596\ttotal: 392ms\tremaining: 1.22s\n",
      "243:\tlearn: 0.4031157\ttotal: 392ms\tremaining: 1.22s\n",
      "244:\tlearn: 0.4030428\ttotal: 393ms\tremaining: 1.21s\n",
      "245:\tlearn: 0.4027366\ttotal: 397ms\tremaining: 1.22s\n",
      "246:\tlearn: 0.4026695\ttotal: 398ms\tremaining: 1.21s\n",
      "247:\tlearn: 0.4025549\ttotal: 399ms\tremaining: 1.21s\n",
      "248:\tlearn: 0.4024727\ttotal: 400ms\tremaining: 1.21s\n",
      "249:\tlearn: 0.4023173\ttotal: 402ms\tremaining: 1.21s\n",
      "250:\tlearn: 0.4022147\ttotal: 404ms\tremaining: 1.21s\n",
      "251:\tlearn: 0.4021038\ttotal: 406ms\tremaining: 1.2s\n",
      "252:\tlearn: 0.4019769\ttotal: 407ms\tremaining: 1.2s\n",
      "253:\tlearn: 0.4018979\ttotal: 409ms\tremaining: 1.2s\n",
      "254:\tlearn: 0.4017662\ttotal: 411ms\tremaining: 1.2s\n",
      "255:\tlearn: 0.4016389\ttotal: 413ms\tremaining: 1.2s\n",
      "256:\tlearn: 0.4015662\ttotal: 415ms\tremaining: 1.2s\n",
      "257:\tlearn: 0.4013323\ttotal: 416ms\tremaining: 1.2s\n",
      "258:\tlearn: 0.4011164\ttotal: 418ms\tremaining: 1.2s\n",
      "259:\tlearn: 0.4006385\ttotal: 420ms\tremaining: 1.2s\n",
      "260:\tlearn: 0.4004260\ttotal: 422ms\tremaining: 1.2s\n",
      "261:\tlearn: 0.4004210\ttotal: 423ms\tremaining: 1.19s\n",
      "262:\tlearn: 0.4003922\ttotal: 424ms\tremaining: 1.19s\n",
      "263:\tlearn: 0.4001415\ttotal: 426ms\tremaining: 1.19s\n",
      "264:\tlearn: 0.4000855\ttotal: 428ms\tremaining: 1.19s\n",
      "265:\tlearn: 0.4000101\ttotal: 430ms\tremaining: 1.19s\n",
      "266:\tlearn: 0.3997119\ttotal: 432ms\tremaining: 1.18s\n",
      "267:\tlearn: 0.3994205\ttotal: 433ms\tremaining: 1.18s\n",
      "268:\tlearn: 0.3991879\ttotal: 435ms\tremaining: 1.18s\n",
      "269:\tlearn: 0.3991442\ttotal: 436ms\tremaining: 1.18s\n",
      "270:\tlearn: 0.3991033\ttotal: 436ms\tremaining: 1.17s\n",
      "271:\tlearn: 0.3991012\ttotal: 437ms\tremaining: 1.17s\n",
      "272:\tlearn: 0.3990604\ttotal: 438ms\tremaining: 1.17s\n",
      "273:\tlearn: 0.3989960\ttotal: 439ms\tremaining: 1.16s\n",
      "274:\tlearn: 0.3988427\ttotal: 441ms\tremaining: 1.16s\n",
      "275:\tlearn: 0.3984798\ttotal: 443ms\tremaining: 1.16s\n",
      "276:\tlearn: 0.3983456\ttotal: 444ms\tremaining: 1.16s\n",
      "277:\tlearn: 0.3982300\ttotal: 447ms\tremaining: 1.16s\n",
      "278:\tlearn: 0.3981401\ttotal: 449ms\tremaining: 1.16s\n",
      "279:\tlearn: 0.3980249\ttotal: 451ms\tremaining: 1.16s\n",
      "280:\tlearn: 0.3980232\ttotal: 452ms\tremaining: 1.16s\n",
      "281:\tlearn: 0.3978097\ttotal: 454ms\tremaining: 1.16s\n",
      "282:\tlearn: 0.3975589\ttotal: 456ms\tremaining: 1.16s\n",
      "283:\tlearn: 0.3974342\ttotal: 458ms\tremaining: 1.15s\n",
      "284:\tlearn: 0.3973722\ttotal: 459ms\tremaining: 1.15s\n",
      "285:\tlearn: 0.3970671\ttotal: 460ms\tremaining: 1.15s\n",
      "286:\tlearn: 0.3967993\ttotal: 462ms\tremaining: 1.15s\n",
      "287:\tlearn: 0.3967561\ttotal: 465ms\tremaining: 1.15s\n",
      "288:\tlearn: 0.3966435\ttotal: 467ms\tremaining: 1.15s\n",
      "289:\tlearn: 0.3965604\ttotal: 468ms\tremaining: 1.15s\n",
      "290:\tlearn: 0.3965537\ttotal: 469ms\tremaining: 1.14s\n",
      "291:\tlearn: 0.3964798\ttotal: 471ms\tremaining: 1.14s\n",
      "292:\tlearn: 0.3963696\ttotal: 473ms\tremaining: 1.14s\n",
      "293:\tlearn: 0.3962791\ttotal: 475ms\tremaining: 1.14s\n",
      "294:\tlearn: 0.3960749\ttotal: 477ms\tremaining: 1.14s\n",
      "295:\tlearn: 0.3960421\ttotal: 479ms\tremaining: 1.14s\n",
      "296:\tlearn: 0.3958328\ttotal: 481ms\tremaining: 1.14s\n",
      "297:\tlearn: 0.3957205\ttotal: 484ms\tremaining: 1.14s\n",
      "298:\tlearn: 0.3957076\ttotal: 485ms\tremaining: 1.14s\n",
      "299:\tlearn: 0.3954987\ttotal: 487ms\tremaining: 1.14s\n",
      "300:\tlearn: 0.3953515\ttotal: 492ms\tremaining: 1.14s\n",
      "301:\tlearn: 0.3953105\ttotal: 493ms\tremaining: 1.14s\n",
      "302:\tlearn: 0.3952343\ttotal: 497ms\tremaining: 1.14s\n",
      "303:\tlearn: 0.3952332\ttotal: 497ms\tremaining: 1.14s\n",
      "304:\tlearn: 0.3950720\ttotal: 499ms\tremaining: 1.14s\n",
      "305:\tlearn: 0.3948671\ttotal: 500ms\tremaining: 1.13s\n",
      "306:\tlearn: 0.3946428\ttotal: 502ms\tremaining: 1.13s\n",
      "307:\tlearn: 0.3945519\ttotal: 503ms\tremaining: 1.13s\n",
      "308:\tlearn: 0.3943222\ttotal: 506ms\tremaining: 1.13s\n",
      "309:\tlearn: 0.3942335\ttotal: 508ms\tremaining: 1.13s\n",
      "310:\tlearn: 0.3941690\ttotal: 509ms\tremaining: 1.13s\n",
      "311:\tlearn: 0.3940320\ttotal: 511ms\tremaining: 1.13s\n",
      "312:\tlearn: 0.3938485\ttotal: 512ms\tremaining: 1.12s\n",
      "313:\tlearn: 0.3937877\ttotal: 521ms\tremaining: 1.14s\n",
      "314:\tlearn: 0.3937594\ttotal: 523ms\tremaining: 1.14s\n",
      "315:\tlearn: 0.3937379\ttotal: 525ms\tremaining: 1.14s\n",
      "316:\tlearn: 0.3935486\ttotal: 528ms\tremaining: 1.14s\n",
      "317:\tlearn: 0.3934677\ttotal: 530ms\tremaining: 1.14s\n",
      "318:\tlearn: 0.3934339\ttotal: 531ms\tremaining: 1.13s\n",
      "319:\tlearn: 0.3932612\ttotal: 533ms\tremaining: 1.13s\n",
      "320:\tlearn: 0.3932174\ttotal: 534ms\tremaining: 1.13s\n",
      "321:\tlearn: 0.3932150\ttotal: 545ms\tremaining: 1.15s\n",
      "322:\tlearn: 0.3932132\ttotal: 546ms\tremaining: 1.14s\n",
      "323:\tlearn: 0.3931313\ttotal: 548ms\tremaining: 1.14s\n",
      "324:\tlearn: 0.3931290\ttotal: 549ms\tremaining: 1.14s\n",
      "325:\tlearn: 0.3930115\ttotal: 551ms\tremaining: 1.14s\n",
      "326:\tlearn: 0.3929436\ttotal: 553ms\tremaining: 1.14s\n",
      "327:\tlearn: 0.3928210\ttotal: 554ms\tremaining: 1.14s\n",
      "328:\tlearn: 0.3926321\ttotal: 556ms\tremaining: 1.13s\n",
      "329:\tlearn: 0.3926315\ttotal: 557ms\tremaining: 1.13s\n",
      "330:\tlearn: 0.3925085\ttotal: 559ms\tremaining: 1.13s\n",
      "331:\tlearn: 0.3921820\ttotal: 561ms\tremaining: 1.13s\n",
      "332:\tlearn: 0.3920570\ttotal: 562ms\tremaining: 1.13s\n",
      "333:\tlearn: 0.3918707\ttotal: 565ms\tremaining: 1.13s\n",
      "334:\tlearn: 0.3917635\ttotal: 568ms\tremaining: 1.13s\n",
      "335:\tlearn: 0.3916127\ttotal: 571ms\tremaining: 1.13s\n",
      "336:\tlearn: 0.3914735\ttotal: 573ms\tremaining: 1.13s\n",
      "337:\tlearn: 0.3914486\ttotal: 574ms\tremaining: 1.13s\n",
      "338:\tlearn: 0.3912764\ttotal: 580ms\tremaining: 1.13s\n",
      "339:\tlearn: 0.3911365\ttotal: 582ms\tremaining: 1.13s\n",
      "340:\tlearn: 0.3910828\ttotal: 584ms\tremaining: 1.13s\n",
      "341:\tlearn: 0.3910413\ttotal: 586ms\tremaining: 1.13s\n",
      "342:\tlearn: 0.3910351\ttotal: 587ms\tremaining: 1.12s\n",
      "343:\tlearn: 0.3908388\ttotal: 589ms\tremaining: 1.12s\n",
      "344:\tlearn: 0.3907468\ttotal: 590ms\tremaining: 1.12s\n",
      "345:\tlearn: 0.3905556\ttotal: 593ms\tremaining: 1.12s\n",
      "346:\tlearn: 0.3905329\ttotal: 594ms\tremaining: 1.12s\n",
      "347:\tlearn: 0.3904624\ttotal: 596ms\tremaining: 1.12s\n",
      "348:\tlearn: 0.3904620\ttotal: 596ms\tremaining: 1.11s\n",
      "349:\tlearn: 0.3901004\ttotal: 598ms\tremaining: 1.11s\n",
      "350:\tlearn: 0.3900990\ttotal: 598ms\tremaining: 1.11s\n",
      "351:\tlearn: 0.3898423\ttotal: 600ms\tremaining: 1.1s\n",
      "352:\tlearn: 0.3898011\ttotal: 603ms\tremaining: 1.1s\n",
      "353:\tlearn: 0.3897611\ttotal: 605ms\tremaining: 1.1s\n",
      "354:\tlearn: 0.3897227\ttotal: 606ms\tremaining: 1.1s\n",
      "355:\tlearn: 0.3896826\ttotal: 610ms\tremaining: 1.1s\n",
      "356:\tlearn: 0.3895869\ttotal: 612ms\tremaining: 1.1s\n",
      "357:\tlearn: 0.3895222\ttotal: 613ms\tremaining: 1.1s\n",
      "358:\tlearn: 0.3894892\ttotal: 614ms\tremaining: 1.1s\n",
      "359:\tlearn: 0.3893515\ttotal: 616ms\tremaining: 1.09s\n",
      "360:\tlearn: 0.3893299\ttotal: 618ms\tremaining: 1.09s\n",
      "361:\tlearn: 0.3893221\ttotal: 619ms\tremaining: 1.09s\n",
      "362:\tlearn: 0.3892968\ttotal: 620ms\tremaining: 1.09s\n",
      "363:\tlearn: 0.3890642\ttotal: 621ms\tremaining: 1.08s\n",
      "364:\tlearn: 0.3889012\ttotal: 626ms\tremaining: 1.09s\n",
      "365:\tlearn: 0.3888745\ttotal: 627ms\tremaining: 1.09s\n",
      "366:\tlearn: 0.3887674\ttotal: 629ms\tremaining: 1.08s\n",
      "367:\tlearn: 0.3886171\ttotal: 631ms\tremaining: 1.08s\n",
      "368:\tlearn: 0.3883973\ttotal: 632ms\tremaining: 1.08s\n",
      "369:\tlearn: 0.3883175\ttotal: 634ms\tremaining: 1.08s\n",
      "370:\tlearn: 0.3881709\ttotal: 636ms\tremaining: 1.08s\n",
      "371:\tlearn: 0.3881164\ttotal: 638ms\tremaining: 1.08s\n",
      "372:\tlearn: 0.3880392\ttotal: 640ms\tremaining: 1.07s\n",
      "373:\tlearn: 0.3880377\ttotal: 641ms\tremaining: 1.07s\n",
      "374:\tlearn: 0.3879562\ttotal: 643ms\tremaining: 1.07s\n",
      "375:\tlearn: 0.3878061\ttotal: 645ms\tremaining: 1.07s\n",
      "376:\tlearn: 0.3877866\ttotal: 646ms\tremaining: 1.07s\n",
      "377:\tlearn: 0.3876175\ttotal: 648ms\tremaining: 1.07s\n",
      "378:\tlearn: 0.3874510\ttotal: 650ms\tremaining: 1.06s\n",
      "379:\tlearn: 0.3872558\ttotal: 651ms\tremaining: 1.06s\n",
      "380:\tlearn: 0.3871714\ttotal: 654ms\tremaining: 1.06s\n",
      "381:\tlearn: 0.3871186\ttotal: 655ms\tremaining: 1.06s\n",
      "382:\tlearn: 0.3871169\ttotal: 655ms\tremaining: 1.05s\n",
      "383:\tlearn: 0.3868332\ttotal: 657ms\tremaining: 1.05s\n",
      "384:\tlearn: 0.3863392\ttotal: 659ms\tremaining: 1.05s\n",
      "385:\tlearn: 0.3862702\ttotal: 660ms\tremaining: 1.05s\n",
      "386:\tlearn: 0.3862458\ttotal: 662ms\tremaining: 1.05s\n",
      "387:\tlearn: 0.3861716\ttotal: 664ms\tremaining: 1.05s\n",
      "388:\tlearn: 0.3860780\ttotal: 666ms\tremaining: 1.05s\n",
      "389:\tlearn: 0.3859860\ttotal: 669ms\tremaining: 1.04s\n",
      "390:\tlearn: 0.3859010\ttotal: 671ms\tremaining: 1.04s\n",
      "391:\tlearn: 0.3857697\ttotal: 672ms\tremaining: 1.04s\n",
      "392:\tlearn: 0.3857695\ttotal: 673ms\tremaining: 1.04s\n",
      "393:\tlearn: 0.3856686\ttotal: 674ms\tremaining: 1.04s\n",
      "394:\tlearn: 0.3855419\ttotal: 676ms\tremaining: 1.03s\n",
      "395:\tlearn: 0.3855254\ttotal: 678ms\tremaining: 1.03s\n",
      "396:\tlearn: 0.3855250\ttotal: 681ms\tremaining: 1.03s\n",
      "397:\tlearn: 0.3854372\ttotal: 683ms\tremaining: 1.03s\n",
      "398:\tlearn: 0.3853600\ttotal: 685ms\tremaining: 1.03s\n",
      "399:\tlearn: 0.3852801\ttotal: 687ms\tremaining: 1.03s\n",
      "400:\tlearn: 0.3852743\ttotal: 688ms\tremaining: 1.03s\n",
      "401:\tlearn: 0.3849978\ttotal: 689ms\tremaining: 1.02s\n",
      "402:\tlearn: 0.3846075\ttotal: 691ms\tremaining: 1.02s\n",
      "403:\tlearn: 0.3844440\ttotal: 694ms\tremaining: 1.02s\n",
      "404:\tlearn: 0.3843359\ttotal: 697ms\tremaining: 1.02s\n",
      "405:\tlearn: 0.3841791\ttotal: 698ms\tremaining: 1.02s\n",
      "406:\tlearn: 0.3840403\ttotal: 700ms\tremaining: 1.02s\n",
      "407:\tlearn: 0.3839578\ttotal: 702ms\tremaining: 1.02s\n",
      "408:\tlearn: 0.3839577\ttotal: 702ms\tremaining: 1.01s\n",
      "409:\tlearn: 0.3838493\ttotal: 705ms\tremaining: 1.01s\n",
      "410:\tlearn: 0.3838195\ttotal: 706ms\tremaining: 1.01s\n",
      "411:\tlearn: 0.3837730\ttotal: 708ms\tremaining: 1.01s\n",
      "412:\tlearn: 0.3837040\ttotal: 710ms\tremaining: 1.01s\n",
      "413:\tlearn: 0.3836360\ttotal: 712ms\tremaining: 1.01s\n",
      "414:\tlearn: 0.3835949\ttotal: 713ms\tremaining: 1s\n",
      "415:\tlearn: 0.3835209\ttotal: 715ms\tremaining: 1s\n",
      "416:\tlearn: 0.3834778\ttotal: 717ms\tremaining: 1s\n",
      "417:\tlearn: 0.3833815\ttotal: 718ms\tremaining: 1000ms\n",
      "418:\tlearn: 0.3832283\ttotal: 721ms\tremaining: 999ms\n",
      "419:\tlearn: 0.3831510\ttotal: 722ms\tremaining: 997ms\n",
      "420:\tlearn: 0.3830426\ttotal: 725ms\tremaining: 997ms\n",
      "421:\tlearn: 0.3829137\ttotal: 726ms\tremaining: 995ms\n",
      "422:\tlearn: 0.3828026\ttotal: 729ms\tremaining: 994ms\n",
      "423:\tlearn: 0.3825343\ttotal: 731ms\tremaining: 993ms\n",
      "424:\tlearn: 0.3825023\ttotal: 733ms\tremaining: 992ms\n",
      "425:\tlearn: 0.3824341\ttotal: 734ms\tremaining: 989ms\n",
      "426:\tlearn: 0.3824074\ttotal: 735ms\tremaining: 986ms\n",
      "427:\tlearn: 0.3823326\ttotal: 737ms\tremaining: 985ms\n",
      "428:\tlearn: 0.3822188\ttotal: 740ms\tremaining: 985ms\n",
      "429:\tlearn: 0.3821446\ttotal: 741ms\tremaining: 982ms\n",
      "430:\tlearn: 0.3820537\ttotal: 743ms\tremaining: 981ms\n",
      "431:\tlearn: 0.3819614\ttotal: 744ms\tremaining: 979ms\n",
      "432:\tlearn: 0.3819446\ttotal: 746ms\tremaining: 976ms\n",
      "433:\tlearn: 0.3818381\ttotal: 747ms\tremaining: 974ms\n",
      "434:\tlearn: 0.3817032\ttotal: 749ms\tremaining: 973ms\n",
      "435:\tlearn: 0.3816222\ttotal: 751ms\tremaining: 971ms\n",
      "436:\tlearn: 0.3815242\ttotal: 752ms\tremaining: 969ms\n",
      "437:\tlearn: 0.3814627\ttotal: 753ms\tremaining: 966ms\n",
      "438:\tlearn: 0.3814055\ttotal: 755ms\tremaining: 965ms\n",
      "439:\tlearn: 0.3813304\ttotal: 757ms\tremaining: 964ms\n",
      "440:\tlearn: 0.3812281\ttotal: 759ms\tremaining: 962ms\n",
      "441:\tlearn: 0.3811998\ttotal: 760ms\tremaining: 960ms\n",
      "442:\tlearn: 0.3811425\ttotal: 762ms\tremaining: 958ms\n",
      "443:\tlearn: 0.3811207\ttotal: 763ms\tremaining: 955ms\n",
      "444:\tlearn: 0.3810698\ttotal: 764ms\tremaining: 953ms\n",
      "445:\tlearn: 0.3809744\ttotal: 766ms\tremaining: 951ms\n",
      "446:\tlearn: 0.3808194\ttotal: 767ms\tremaining: 949ms\n",
      "447:\tlearn: 0.3807500\ttotal: 768ms\tremaining: 946ms\n",
      "448:\tlearn: 0.3807482\ttotal: 769ms\tremaining: 943ms\n",
      "449:\tlearn: 0.3807425\ttotal: 769ms\tremaining: 940ms\n",
      "450:\tlearn: 0.3807207\ttotal: 770ms\tremaining: 938ms\n",
      "451:\tlearn: 0.3806392\ttotal: 772ms\tremaining: 936ms\n",
      "452:\tlearn: 0.3805523\ttotal: 773ms\tremaining: 934ms\n",
      "453:\tlearn: 0.3804932\ttotal: 775ms\tremaining: 932ms\n",
      "454:\tlearn: 0.3804430\ttotal: 777ms\tremaining: 931ms\n",
      "455:\tlearn: 0.3803859\ttotal: 779ms\tremaining: 929ms\n",
      "456:\tlearn: 0.3803687\ttotal: 780ms\tremaining: 927ms\n",
      "457:\tlearn: 0.3801930\ttotal: 782ms\tremaining: 925ms\n",
      "458:\tlearn: 0.3801130\ttotal: 784ms\tremaining: 924ms\n",
      "459:\tlearn: 0.3798434\ttotal: 786ms\tremaining: 923ms\n",
      "460:\tlearn: 0.3798298\ttotal: 788ms\tremaining: 921ms\n",
      "461:\tlearn: 0.3796352\ttotal: 790ms\tremaining: 920ms\n",
      "462:\tlearn: 0.3795602\ttotal: 791ms\tremaining: 918ms\n",
      "463:\tlearn: 0.3794893\ttotal: 793ms\tremaining: 916ms\n",
      "464:\tlearn: 0.3792402\ttotal: 795ms\tremaining: 914ms\n",
      "465:\tlearn: 0.3792293\ttotal: 796ms\tremaining: 912ms\n",
      "466:\tlearn: 0.3791163\ttotal: 797ms\tremaining: 910ms\n",
      "467:\tlearn: 0.3790884\ttotal: 799ms\tremaining: 908ms\n",
      "468:\tlearn: 0.3790051\ttotal: 801ms\tremaining: 907ms\n",
      "469:\tlearn: 0.3788248\ttotal: 803ms\tremaining: 906ms\n",
      "470:\tlearn: 0.3788226\ttotal: 804ms\tremaining: 903ms\n",
      "471:\tlearn: 0.3787820\ttotal: 806ms\tremaining: 901ms\n",
      "472:\tlearn: 0.3787817\ttotal: 806ms\tremaining: 898ms\n",
      "473:\tlearn: 0.3787174\ttotal: 808ms\tremaining: 896ms\n",
      "474:\tlearn: 0.3787129\ttotal: 809ms\tremaining: 894ms\n",
      "475:\tlearn: 0.3786589\ttotal: 811ms\tremaining: 892ms\n",
      "476:\tlearn: 0.3785313\ttotal: 812ms\tremaining: 890ms\n",
      "477:\tlearn: 0.3784696\ttotal: 814ms\tremaining: 889ms\n",
      "478:\tlearn: 0.3781854\ttotal: 816ms\tremaining: 887ms\n",
      "479:\tlearn: 0.3781808\ttotal: 817ms\tremaining: 885ms\n",
      "480:\tlearn: 0.3781808\ttotal: 818ms\tremaining: 882ms\n",
      "481:\tlearn: 0.3781223\ttotal: 819ms\tremaining: 880ms\n",
      "482:\tlearn: 0.3780117\ttotal: 821ms\tremaining: 879ms\n",
      "483:\tlearn: 0.3780103\ttotal: 822ms\tremaining: 876ms\n",
      "484:\tlearn: 0.3778904\ttotal: 824ms\tremaining: 875ms\n",
      "485:\tlearn: 0.3778904\ttotal: 824ms\tremaining: 872ms\n",
      "486:\tlearn: 0.3778705\ttotal: 825ms\tremaining: 869ms\n",
      "487:\tlearn: 0.3777238\ttotal: 827ms\tremaining: 868ms\n",
      "488:\tlearn: 0.3776655\ttotal: 828ms\tremaining: 866ms\n",
      "489:\tlearn: 0.3776178\ttotal: 829ms\tremaining: 863ms\n",
      "490:\tlearn: 0.3775500\ttotal: 831ms\tremaining: 861ms\n",
      "491:\tlearn: 0.3774361\ttotal: 833ms\tremaining: 860ms\n",
      "492:\tlearn: 0.3772670\ttotal: 835ms\tremaining: 858ms\n",
      "493:\tlearn: 0.3771396\ttotal: 836ms\tremaining: 856ms\n",
      "494:\tlearn: 0.3771236\ttotal: 837ms\tremaining: 854ms\n",
      "495:\tlearn: 0.3770363\ttotal: 838ms\tremaining: 852ms\n",
      "496:\tlearn: 0.3769634\ttotal: 850ms\tremaining: 860ms\n",
      "497:\tlearn: 0.3769625\ttotal: 851ms\tremaining: 857ms\n",
      "498:\tlearn: 0.3768613\ttotal: 852ms\tremaining: 855ms\n",
      "499:\tlearn: 0.3768611\ttotal: 853ms\tremaining: 853ms\n",
      "500:\tlearn: 0.3768153\ttotal: 854ms\tremaining: 851ms\n",
      "501:\tlearn: 0.3767849\ttotal: 856ms\tremaining: 849ms\n",
      "502:\tlearn: 0.3765500\ttotal: 860ms\tremaining: 849ms\n",
      "503:\tlearn: 0.3763980\ttotal: 862ms\tremaining: 848ms\n",
      "504:\tlearn: 0.3763692\ttotal: 863ms\tremaining: 846ms\n",
      "505:\tlearn: 0.3763085\ttotal: 865ms\tremaining: 844ms\n",
      "506:\tlearn: 0.3761631\ttotal: 869ms\tremaining: 845ms\n",
      "507:\tlearn: 0.3760934\ttotal: 871ms\tremaining: 844ms\n",
      "508:\tlearn: 0.3760498\ttotal: 875ms\tremaining: 844ms\n",
      "509:\tlearn: 0.3760150\ttotal: 877ms\tremaining: 842ms\n",
      "510:\tlearn: 0.3759970\ttotal: 878ms\tremaining: 840ms\n",
      "511:\tlearn: 0.3759798\ttotal: 880ms\tremaining: 838ms\n",
      "512:\tlearn: 0.3759568\ttotal: 883ms\tremaining: 838ms\n",
      "513:\tlearn: 0.3758344\ttotal: 885ms\tremaining: 836ms\n",
      "514:\tlearn: 0.3757406\ttotal: 887ms\tremaining: 835ms\n",
      "515:\tlearn: 0.3757113\ttotal: 888ms\tremaining: 833ms\n",
      "516:\tlearn: 0.3755908\ttotal: 889ms\tremaining: 831ms\n",
      "517:\tlearn: 0.3755538\ttotal: 891ms\tremaining: 829ms\n",
      "518:\tlearn: 0.3753678\ttotal: 892ms\tremaining: 827ms\n",
      "519:\tlearn: 0.3753303\ttotal: 893ms\tremaining: 825ms\n",
      "520:\tlearn: 0.3752635\ttotal: 895ms\tremaining: 823ms\n",
      "521:\tlearn: 0.3751578\ttotal: 897ms\tremaining: 821ms\n",
      "522:\tlearn: 0.3751363\ttotal: 898ms\tremaining: 819ms\n",
      "523:\tlearn: 0.3750279\ttotal: 899ms\tremaining: 817ms\n",
      "524:\tlearn: 0.3748698\ttotal: 901ms\tremaining: 815ms\n",
      "525:\tlearn: 0.3747732\ttotal: 903ms\tremaining: 814ms\n",
      "526:\tlearn: 0.3747318\ttotal: 904ms\tremaining: 811ms\n",
      "527:\tlearn: 0.3746743\ttotal: 905ms\tremaining: 809ms\n",
      "528:\tlearn: 0.3745441\ttotal: 907ms\tremaining: 808ms\n",
      "529:\tlearn: 0.3745052\ttotal: 909ms\tremaining: 806ms\n",
      "530:\tlearn: 0.3742472\ttotal: 910ms\tremaining: 804ms\n",
      "531:\tlearn: 0.3742091\ttotal: 912ms\tremaining: 802ms\n",
      "532:\tlearn: 0.3741387\ttotal: 914ms\tremaining: 800ms\n",
      "533:\tlearn: 0.3740747\ttotal: 915ms\tremaining: 799ms\n",
      "534:\tlearn: 0.3739601\ttotal: 917ms\tremaining: 797ms\n",
      "535:\tlearn: 0.3738986\ttotal: 918ms\tremaining: 795ms\n",
      "536:\tlearn: 0.3738441\ttotal: 920ms\tremaining: 793ms\n",
      "537:\tlearn: 0.3738441\ttotal: 920ms\tremaining: 790ms\n",
      "538:\tlearn: 0.3738435\ttotal: 921ms\tremaining: 788ms\n",
      "539:\tlearn: 0.3737792\ttotal: 923ms\tremaining: 786ms\n",
      "540:\tlearn: 0.3736436\ttotal: 925ms\tremaining: 785ms\n",
      "541:\tlearn: 0.3736193\ttotal: 927ms\tremaining: 783ms\n",
      "542:\tlearn: 0.3735099\ttotal: 928ms\tremaining: 781ms\n",
      "543:\tlearn: 0.3734000\ttotal: 930ms\tremaining: 779ms\n",
      "544:\tlearn: 0.3732493\ttotal: 931ms\tremaining: 777ms\n",
      "545:\tlearn: 0.3731794\ttotal: 932ms\tremaining: 775ms\n",
      "546:\tlearn: 0.3731792\ttotal: 933ms\tremaining: 773ms\n",
      "547:\tlearn: 0.3731715\ttotal: 934ms\tremaining: 771ms\n",
      "548:\tlearn: 0.3731491\ttotal: 935ms\tremaining: 768ms\n",
      "549:\tlearn: 0.3731466\ttotal: 936ms\tremaining: 766ms\n",
      "550:\tlearn: 0.3731372\ttotal: 937ms\tremaining: 763ms\n",
      "551:\tlearn: 0.3730732\ttotal: 938ms\tremaining: 761ms\n",
      "552:\tlearn: 0.3729827\ttotal: 940ms\tremaining: 760ms\n",
      "553:\tlearn: 0.3729571\ttotal: 942ms\tremaining: 759ms\n",
      "554:\tlearn: 0.3729436\ttotal: 943ms\tremaining: 756ms\n",
      "555:\tlearn: 0.3728707\ttotal: 950ms\tremaining: 759ms\n",
      "556:\tlearn: 0.3727406\ttotal: 952ms\tremaining: 757ms\n",
      "557:\tlearn: 0.3727089\ttotal: 954ms\tremaining: 755ms\n",
      "558:\tlearn: 0.3726450\ttotal: 955ms\tremaining: 753ms\n",
      "559:\tlearn: 0.3725942\ttotal: 957ms\tremaining: 752ms\n",
      "560:\tlearn: 0.3725768\ttotal: 958ms\tremaining: 749ms\n",
      "561:\tlearn: 0.3724529\ttotal: 960ms\tremaining: 748ms\n",
      "562:\tlearn: 0.3723062\ttotal: 961ms\tremaining: 746ms\n",
      "563:\tlearn: 0.3721089\ttotal: 964ms\tremaining: 745ms\n",
      "564:\tlearn: 0.3720866\ttotal: 965ms\tremaining: 743ms\n",
      "565:\tlearn: 0.3719158\ttotal: 967ms\tremaining: 742ms\n",
      "566:\tlearn: 0.3717995\ttotal: 969ms\tremaining: 740ms\n",
      "567:\tlearn: 0.3717204\ttotal: 970ms\tremaining: 738ms\n",
      "568:\tlearn: 0.3715710\ttotal: 972ms\tremaining: 736ms\n",
      "569:\tlearn: 0.3714866\ttotal: 974ms\tremaining: 735ms\n",
      "570:\tlearn: 0.3713889\ttotal: 975ms\tremaining: 733ms\n",
      "571:\tlearn: 0.3713155\ttotal: 977ms\tremaining: 731ms\n",
      "572:\tlearn: 0.3712581\ttotal: 978ms\tremaining: 729ms\n",
      "573:\tlearn: 0.3712076\ttotal: 980ms\tremaining: 727ms\n",
      "574:\tlearn: 0.3712076\ttotal: 980ms\tremaining: 724ms\n",
      "575:\tlearn: 0.3711841\ttotal: 982ms\tremaining: 723ms\n",
      "576:\tlearn: 0.3711607\ttotal: 984ms\tremaining: 721ms\n",
      "577:\tlearn: 0.3711520\ttotal: 985ms\tremaining: 719ms\n",
      "578:\tlearn: 0.3710957\ttotal: 988ms\tremaining: 718ms\n",
      "579:\tlearn: 0.3710444\ttotal: 989ms\tremaining: 716ms\n",
      "580:\tlearn: 0.3708833\ttotal: 991ms\tremaining: 715ms\n",
      "581:\tlearn: 0.3707472\ttotal: 993ms\tremaining: 713ms\n",
      "582:\tlearn: 0.3706786\ttotal: 994ms\tremaining: 711ms\n",
      "583:\tlearn: 0.3706538\ttotal: 995ms\tremaining: 709ms\n",
      "584:\tlearn: 0.3705154\ttotal: 997ms\tremaining: 707ms\n",
      "585:\tlearn: 0.3703963\ttotal: 999ms\tremaining: 705ms\n",
      "586:\tlearn: 0.3703797\ttotal: 1s\tremaining: 704ms\n",
      "587:\tlearn: 0.3702415\ttotal: 1s\tremaining: 703ms\n",
      "588:\tlearn: 0.3701955\ttotal: 1s\tremaining: 701ms\n",
      "589:\tlearn: 0.3701055\ttotal: 1.01s\tremaining: 699ms\n",
      "590:\tlearn: 0.3700361\ttotal: 1.01s\tremaining: 697ms\n",
      "591:\tlearn: 0.3698626\ttotal: 1.01s\tremaining: 696ms\n",
      "592:\tlearn: 0.3698261\ttotal: 1.01s\tremaining: 694ms\n",
      "593:\tlearn: 0.3698045\ttotal: 1.01s\tremaining: 692ms\n",
      "594:\tlearn: 0.3697884\ttotal: 1.01s\tremaining: 690ms\n",
      "595:\tlearn: 0.3697517\ttotal: 1.01s\tremaining: 688ms\n",
      "596:\tlearn: 0.3696085\ttotal: 1.02s\tremaining: 687ms\n",
      "597:\tlearn: 0.3693208\ttotal: 1.02s\tremaining: 685ms\n",
      "598:\tlearn: 0.3692492\ttotal: 1.02s\tremaining: 683ms\n",
      "599:\tlearn: 0.3692319\ttotal: 1.02s\tremaining: 681ms\n",
      "600:\tlearn: 0.3690777\ttotal: 1.02s\tremaining: 679ms\n",
      "601:\tlearn: 0.3690522\ttotal: 1.02s\tremaining: 677ms\n",
      "602:\tlearn: 0.3690522\ttotal: 1.02s\tremaining: 675ms\n",
      "603:\tlearn: 0.3689654\ttotal: 1.02s\tremaining: 673ms\n",
      "604:\tlearn: 0.3687659\ttotal: 1.03s\tremaining: 671ms\n",
      "605:\tlearn: 0.3686147\ttotal: 1.03s\tremaining: 670ms\n",
      "606:\tlearn: 0.3686004\ttotal: 1.03s\tremaining: 668ms\n",
      "607:\tlearn: 0.3685843\ttotal: 1.03s\tremaining: 665ms\n",
      "608:\tlearn: 0.3684465\ttotal: 1.03s\tremaining: 664ms\n",
      "609:\tlearn: 0.3684141\ttotal: 1.03s\tremaining: 662ms\n",
      "610:\tlearn: 0.3682001\ttotal: 1.04s\tremaining: 661ms\n",
      "611:\tlearn: 0.3681327\ttotal: 1.04s\tremaining: 660ms\n",
      "612:\tlearn: 0.3679198\ttotal: 1.04s\tremaining: 658ms\n",
      "613:\tlearn: 0.3678684\ttotal: 1.04s\tremaining: 657ms\n",
      "614:\tlearn: 0.3677137\ttotal: 1.05s\tremaining: 655ms\n",
      "615:\tlearn: 0.3676903\ttotal: 1.05s\tremaining: 653ms\n",
      "616:\tlearn: 0.3676745\ttotal: 1.05s\tremaining: 652ms\n",
      "617:\tlearn: 0.3676120\ttotal: 1.05s\tremaining: 650ms\n",
      "618:\tlearn: 0.3674936\ttotal: 1.05s\tremaining: 649ms\n",
      "619:\tlearn: 0.3674703\ttotal: 1.05s\tremaining: 647ms\n",
      "620:\tlearn: 0.3674295\ttotal: 1.06s\tremaining: 645ms\n",
      "621:\tlearn: 0.3674261\ttotal: 1.06s\tremaining: 643ms\n",
      "622:\tlearn: 0.3673472\ttotal: 1.06s\tremaining: 642ms\n",
      "623:\tlearn: 0.3672394\ttotal: 1.06s\tremaining: 640ms\n",
      "624:\tlearn: 0.3671017\ttotal: 1.06s\tremaining: 639ms\n",
      "625:\tlearn: 0.3669262\ttotal: 1.07s\tremaining: 638ms\n",
      "626:\tlearn: 0.3668421\ttotal: 1.07s\tremaining: 637ms\n",
      "627:\tlearn: 0.3667561\ttotal: 1.07s\tremaining: 636ms\n",
      "628:\tlearn: 0.3667090\ttotal: 1.07s\tremaining: 634ms\n",
      "629:\tlearn: 0.3666052\ttotal: 1.08s\tremaining: 633ms\n",
      "630:\tlearn: 0.3665458\ttotal: 1.08s\tremaining: 631ms\n",
      "631:\tlearn: 0.3665288\ttotal: 1.08s\tremaining: 629ms\n",
      "632:\tlearn: 0.3663299\ttotal: 1.08s\tremaining: 628ms\n",
      "633:\tlearn: 0.3662989\ttotal: 1.09s\tremaining: 628ms\n",
      "634:\tlearn: 0.3660778\ttotal: 1.09s\tremaining: 627ms\n",
      "635:\tlearn: 0.3660162\ttotal: 1.09s\tremaining: 625ms\n",
      "636:\tlearn: 0.3659403\ttotal: 1.09s\tremaining: 624ms\n",
      "637:\tlearn: 0.3659252\ttotal: 1.1s\tremaining: 622ms\n",
      "638:\tlearn: 0.3657747\ttotal: 1.1s\tremaining: 621ms\n",
      "639:\tlearn: 0.3657362\ttotal: 1.1s\tremaining: 619ms\n",
      "640:\tlearn: 0.3656775\ttotal: 1.1s\tremaining: 617ms\n",
      "641:\tlearn: 0.3655959\ttotal: 1.1s\tremaining: 616ms\n",
      "642:\tlearn: 0.3655732\ttotal: 1.11s\tremaining: 614ms\n",
      "643:\tlearn: 0.3654960\ttotal: 1.11s\tremaining: 613ms\n",
      "644:\tlearn: 0.3652372\ttotal: 1.11s\tremaining: 612ms\n",
      "645:\tlearn: 0.3652167\ttotal: 1.11s\tremaining: 610ms\n",
      "646:\tlearn: 0.3650527\ttotal: 1.12s\tremaining: 609ms\n",
      "647:\tlearn: 0.3649999\ttotal: 1.12s\tremaining: 607ms\n",
      "648:\tlearn: 0.3649679\ttotal: 1.12s\tremaining: 606ms\n",
      "649:\tlearn: 0.3649577\ttotal: 1.12s\tremaining: 604ms\n",
      "650:\tlearn: 0.3648289\ttotal: 1.12s\tremaining: 602ms\n",
      "651:\tlearn: 0.3647326\ttotal: 1.13s\tremaining: 601ms\n",
      "652:\tlearn: 0.3644740\ttotal: 1.13s\tremaining: 599ms\n",
      "653:\tlearn: 0.3644317\ttotal: 1.13s\tremaining: 597ms\n",
      "654:\tlearn: 0.3644178\ttotal: 1.13s\tremaining: 595ms\n",
      "655:\tlearn: 0.3642661\ttotal: 1.13s\tremaining: 593ms\n",
      "656:\tlearn: 0.3642146\ttotal: 1.13s\tremaining: 592ms\n",
      "657:\tlearn: 0.3642143\ttotal: 1.13s\tremaining: 590ms\n",
      "658:\tlearn: 0.3641970\ttotal: 1.14s\tremaining: 588ms\n",
      "659:\tlearn: 0.3641835\ttotal: 1.14s\tremaining: 586ms\n",
      "660:\tlearn: 0.3641783\ttotal: 1.14s\tremaining: 584ms\n",
      "661:\tlearn: 0.3640790\ttotal: 1.14s\tremaining: 582ms\n",
      "662:\tlearn: 0.3640602\ttotal: 1.14s\tremaining: 581ms\n",
      "663:\tlearn: 0.3639463\ttotal: 1.14s\tremaining: 579ms\n",
      "664:\tlearn: 0.3639302\ttotal: 1.15s\tremaining: 577ms\n",
      "665:\tlearn: 0.3638903\ttotal: 1.15s\tremaining: 575ms\n",
      "666:\tlearn: 0.3637239\ttotal: 1.15s\tremaining: 574ms\n",
      "667:\tlearn: 0.3635881\ttotal: 1.15s\tremaining: 572ms\n",
      "668:\tlearn: 0.3634772\ttotal: 1.15s\tremaining: 571ms\n",
      "669:\tlearn: 0.3634068\ttotal: 1.16s\tremaining: 571ms\n",
      "670:\tlearn: 0.3633759\ttotal: 1.16s\tremaining: 569ms\n",
      "671:\tlearn: 0.3631802\ttotal: 1.16s\tremaining: 567ms\n",
      "672:\tlearn: 0.3631026\ttotal: 1.16s\tremaining: 566ms\n",
      "673:\tlearn: 0.3630056\ttotal: 1.17s\tremaining: 564ms\n",
      "674:\tlearn: 0.3628564\ttotal: 1.17s\tremaining: 562ms\n",
      "675:\tlearn: 0.3628277\ttotal: 1.17s\tremaining: 560ms\n",
      "676:\tlearn: 0.3628277\ttotal: 1.17s\tremaining: 558ms\n",
      "677:\tlearn: 0.3627016\ttotal: 1.17s\tremaining: 556ms\n",
      "678:\tlearn: 0.3626910\ttotal: 1.17s\tremaining: 554ms\n",
      "679:\tlearn: 0.3624607\ttotal: 1.17s\tremaining: 553ms\n",
      "680:\tlearn: 0.3623905\ttotal: 1.18s\tremaining: 551ms\n",
      "681:\tlearn: 0.3623699\ttotal: 1.18s\tremaining: 550ms\n",
      "682:\tlearn: 0.3622673\ttotal: 1.18s\tremaining: 548ms\n",
      "683:\tlearn: 0.3622159\ttotal: 1.18s\tremaining: 546ms\n",
      "684:\tlearn: 0.3620935\ttotal: 1.18s\tremaining: 544ms\n",
      "685:\tlearn: 0.3620513\ttotal: 1.19s\tremaining: 543ms\n",
      "686:\tlearn: 0.3620486\ttotal: 1.19s\tremaining: 541ms\n",
      "687:\tlearn: 0.3619951\ttotal: 1.19s\tremaining: 539ms\n",
      "688:\tlearn: 0.3619865\ttotal: 1.19s\tremaining: 537ms\n",
      "689:\tlearn: 0.3618570\ttotal: 1.19s\tremaining: 535ms\n",
      "690:\tlearn: 0.3617204\ttotal: 1.19s\tremaining: 534ms\n",
      "691:\tlearn: 0.3617203\ttotal: 1.19s\tremaining: 532ms\n",
      "692:\tlearn: 0.3617203\ttotal: 1.19s\tremaining: 529ms\n",
      "693:\tlearn: 0.3616484\ttotal: 1.2s\tremaining: 528ms\n",
      "694:\tlearn: 0.3616260\ttotal: 1.2s\tremaining: 526ms\n",
      "695:\tlearn: 0.3615657\ttotal: 1.2s\tremaining: 525ms\n",
      "696:\tlearn: 0.3614506\ttotal: 1.2s\tremaining: 524ms\n",
      "697:\tlearn: 0.3614506\ttotal: 1.21s\tremaining: 521ms\n",
      "698:\tlearn: 0.3614435\ttotal: 1.21s\tremaining: 520ms\n",
      "699:\tlearn: 0.3614416\ttotal: 1.21s\tremaining: 517ms\n",
      "700:\tlearn: 0.3613275\ttotal: 1.21s\tremaining: 516ms\n",
      "701:\tlearn: 0.3613275\ttotal: 1.21s\tremaining: 514ms\n",
      "702:\tlearn: 0.3612808\ttotal: 1.21s\tremaining: 513ms\n",
      "703:\tlearn: 0.3612803\ttotal: 1.21s\tremaining: 510ms\n",
      "704:\tlearn: 0.3612509\ttotal: 1.22s\tremaining: 508ms\n",
      "705:\tlearn: 0.3611570\ttotal: 1.22s\tremaining: 507ms\n",
      "706:\tlearn: 0.3610628\ttotal: 1.22s\tremaining: 505ms\n",
      "707:\tlearn: 0.3610447\ttotal: 1.22s\tremaining: 504ms\n",
      "708:\tlearn: 0.3610441\ttotal: 1.22s\tremaining: 502ms\n",
      "709:\tlearn: 0.3609734\ttotal: 1.22s\tremaining: 500ms\n",
      "710:\tlearn: 0.3609348\ttotal: 1.23s\tremaining: 499ms\n",
      "711:\tlearn: 0.3608782\ttotal: 1.23s\tremaining: 497ms\n",
      "712:\tlearn: 0.3608039\ttotal: 1.23s\tremaining: 495ms\n",
      "713:\tlearn: 0.3607834\ttotal: 1.23s\tremaining: 493ms\n",
      "714:\tlearn: 0.3607666\ttotal: 1.23s\tremaining: 492ms\n",
      "715:\tlearn: 0.3607241\ttotal: 1.24s\tremaining: 490ms\n",
      "716:\tlearn: 0.3607173\ttotal: 1.24s\tremaining: 488ms\n",
      "717:\tlearn: 0.3604905\ttotal: 1.24s\tremaining: 487ms\n",
      "718:\tlearn: 0.3603372\ttotal: 1.24s\tremaining: 485ms\n",
      "719:\tlearn: 0.3601253\ttotal: 1.24s\tremaining: 484ms\n",
      "720:\tlearn: 0.3599695\ttotal: 1.25s\tremaining: 483ms\n",
      "721:\tlearn: 0.3599693\ttotal: 1.25s\tremaining: 481ms\n",
      "722:\tlearn: 0.3599073\ttotal: 1.26s\tremaining: 484ms\n",
      "723:\tlearn: 0.3598850\ttotal: 1.26s\tremaining: 482ms\n",
      "724:\tlearn: 0.3598181\ttotal: 1.27s\tremaining: 480ms\n",
      "725:\tlearn: 0.3596554\ttotal: 1.27s\tremaining: 479ms\n",
      "726:\tlearn: 0.3595947\ttotal: 1.27s\tremaining: 477ms\n",
      "727:\tlearn: 0.3595831\ttotal: 1.27s\tremaining: 475ms\n",
      "728:\tlearn: 0.3594647\ttotal: 1.27s\tremaining: 473ms\n",
      "729:\tlearn: 0.3593994\ttotal: 1.27s\tremaining: 471ms\n",
      "730:\tlearn: 0.3593803\ttotal: 1.28s\tremaining: 470ms\n",
      "731:\tlearn: 0.3593454\ttotal: 1.28s\tremaining: 468ms\n",
      "732:\tlearn: 0.3591838\ttotal: 1.28s\tremaining: 466ms\n",
      "733:\tlearn: 0.3591772\ttotal: 1.28s\tremaining: 464ms\n",
      "734:\tlearn: 0.3590639\ttotal: 1.28s\tremaining: 463ms\n",
      "735:\tlearn: 0.3590266\ttotal: 1.28s\tremaining: 461ms\n",
      "736:\tlearn: 0.3589573\ttotal: 1.29s\tremaining: 459ms\n",
      "737:\tlearn: 0.3588975\ttotal: 1.29s\tremaining: 458ms\n",
      "738:\tlearn: 0.3588937\ttotal: 1.29s\tremaining: 456ms\n",
      "739:\tlearn: 0.3587742\ttotal: 1.29s\tremaining: 454ms\n",
      "740:\tlearn: 0.3586963\ttotal: 1.29s\tremaining: 453ms\n",
      "741:\tlearn: 0.3586697\ttotal: 1.3s\tremaining: 451ms\n",
      "742:\tlearn: 0.3586492\ttotal: 1.3s\tremaining: 449ms\n",
      "743:\tlearn: 0.3586321\ttotal: 1.3s\tremaining: 448ms\n",
      "744:\tlearn: 0.3584024\ttotal: 1.3s\tremaining: 446ms\n",
      "745:\tlearn: 0.3583618\ttotal: 1.3s\tremaining: 444ms\n",
      "746:\tlearn: 0.3582530\ttotal: 1.31s\tremaining: 443ms\n",
      "747:\tlearn: 0.3582453\ttotal: 1.31s\tremaining: 441ms\n",
      "748:\tlearn: 0.3582373\ttotal: 1.31s\tremaining: 439ms\n",
      "749:\tlearn: 0.3582219\ttotal: 1.31s\tremaining: 437ms\n",
      "750:\tlearn: 0.3581626\ttotal: 1.31s\tremaining: 435ms\n",
      "751:\tlearn: 0.3580545\ttotal: 1.31s\tremaining: 434ms\n",
      "752:\tlearn: 0.3580312\ttotal: 1.32s\tremaining: 432ms\n",
      "753:\tlearn: 0.3580312\ttotal: 1.32s\tremaining: 430ms\n",
      "754:\tlearn: 0.3579981\ttotal: 1.32s\tremaining: 428ms\n",
      "755:\tlearn: 0.3578084\ttotal: 1.32s\tremaining: 427ms\n",
      "756:\tlearn: 0.3576325\ttotal: 1.32s\tremaining: 425ms\n",
      "757:\tlearn: 0.3576193\ttotal: 1.32s\tremaining: 423ms\n",
      "758:\tlearn: 0.3574807\ttotal: 1.33s\tremaining: 421ms\n",
      "759:\tlearn: 0.3574655\ttotal: 1.33s\tremaining: 420ms\n",
      "760:\tlearn: 0.3574410\ttotal: 1.33s\tremaining: 418ms\n",
      "761:\tlearn: 0.3572986\ttotal: 1.33s\tremaining: 417ms\n",
      "762:\tlearn: 0.3571805\ttotal: 1.34s\tremaining: 415ms\n",
      "763:\tlearn: 0.3571683\ttotal: 1.34s\tremaining: 413ms\n",
      "764:\tlearn: 0.3571122\ttotal: 1.34s\tremaining: 411ms\n",
      "765:\tlearn: 0.3570089\ttotal: 1.34s\tremaining: 410ms\n",
      "766:\tlearn: 0.3569302\ttotal: 1.34s\tremaining: 408ms\n",
      "767:\tlearn: 0.3568736\ttotal: 1.34s\tremaining: 406ms\n",
      "768:\tlearn: 0.3568241\ttotal: 1.35s\tremaining: 405ms\n",
      "769:\tlearn: 0.3566834\ttotal: 1.35s\tremaining: 403ms\n",
      "770:\tlearn: 0.3566674\ttotal: 1.35s\tremaining: 401ms\n",
      "771:\tlearn: 0.3565313\ttotal: 1.35s\tremaining: 400ms\n",
      "772:\tlearn: 0.3564696\ttotal: 1.35s\tremaining: 398ms\n",
      "773:\tlearn: 0.3563506\ttotal: 1.36s\tremaining: 398ms\n",
      "774:\tlearn: 0.3562620\ttotal: 1.37s\tremaining: 398ms\n",
      "775:\tlearn: 0.3562524\ttotal: 1.37s\tremaining: 396ms\n",
      "776:\tlearn: 0.3562429\ttotal: 1.37s\tremaining: 394ms\n",
      "777:\tlearn: 0.3561846\ttotal: 1.38s\tremaining: 392ms\n",
      "778:\tlearn: 0.3560209\ttotal: 1.38s\tremaining: 391ms\n",
      "779:\tlearn: 0.3560116\ttotal: 1.38s\tremaining: 389ms\n",
      "780:\tlearn: 0.3559330\ttotal: 1.38s\tremaining: 387ms\n",
      "781:\tlearn: 0.3559321\ttotal: 1.38s\tremaining: 385ms\n",
      "782:\tlearn: 0.3559229\ttotal: 1.38s\tremaining: 383ms\n",
      "783:\tlearn: 0.3558345\ttotal: 1.39s\tremaining: 382ms\n",
      "784:\tlearn: 0.3557393\ttotal: 1.39s\tremaining: 380ms\n",
      "785:\tlearn: 0.3557326\ttotal: 1.39s\tremaining: 378ms\n",
      "786:\tlearn: 0.3555509\ttotal: 1.39s\tremaining: 376ms\n",
      "787:\tlearn: 0.3554902\ttotal: 1.39s\tremaining: 374ms\n",
      "788:\tlearn: 0.3554292\ttotal: 1.39s\tremaining: 373ms\n",
      "789:\tlearn: 0.3553073\ttotal: 1.4s\tremaining: 371ms\n",
      "790:\tlearn: 0.3552256\ttotal: 1.4s\tremaining: 369ms\n",
      "791:\tlearn: 0.3551266\ttotal: 1.4s\tremaining: 368ms\n",
      "792:\tlearn: 0.3551152\ttotal: 1.4s\tremaining: 366ms\n",
      "793:\tlearn: 0.3549248\ttotal: 1.4s\tremaining: 364ms\n",
      "794:\tlearn: 0.3547883\ttotal: 1.4s\tremaining: 362ms\n",
      "795:\tlearn: 0.3547743\ttotal: 1.41s\tremaining: 360ms\n",
      "796:\tlearn: 0.3546507\ttotal: 1.41s\tremaining: 359ms\n",
      "797:\tlearn: 0.3546089\ttotal: 1.41s\tremaining: 357ms\n",
      "798:\tlearn: 0.3546032\ttotal: 1.41s\tremaining: 355ms\n",
      "799:\tlearn: 0.3545900\ttotal: 1.41s\tremaining: 353ms\n",
      "800:\tlearn: 0.3545684\ttotal: 1.41s\tremaining: 351ms\n",
      "801:\tlearn: 0.3544743\ttotal: 1.42s\tremaining: 350ms\n",
      "802:\tlearn: 0.3543456\ttotal: 1.42s\tremaining: 348ms\n",
      "803:\tlearn: 0.3542790\ttotal: 1.42s\tremaining: 346ms\n",
      "804:\tlearn: 0.3542026\ttotal: 1.42s\tremaining: 344ms\n",
      "805:\tlearn: 0.3541499\ttotal: 1.42s\tremaining: 343ms\n",
      "806:\tlearn: 0.3539982\ttotal: 1.43s\tremaining: 341ms\n",
      "807:\tlearn: 0.3539978\ttotal: 1.43s\tremaining: 339ms\n",
      "808:\tlearn: 0.3539325\ttotal: 1.43s\tremaining: 337ms\n",
      "809:\tlearn: 0.3538426\ttotal: 1.43s\tremaining: 336ms\n",
      "810:\tlearn: 0.3537101\ttotal: 1.43s\tremaining: 334ms\n",
      "811:\tlearn: 0.3537101\ttotal: 1.43s\tremaining: 332ms\n",
      "812:\tlearn: 0.3537101\ttotal: 1.43s\tremaining: 330ms\n",
      "813:\tlearn: 0.3537027\ttotal: 1.44s\tremaining: 328ms\n",
      "814:\tlearn: 0.3535737\ttotal: 1.44s\tremaining: 326ms\n",
      "815:\tlearn: 0.3534753\ttotal: 1.44s\tremaining: 324ms\n",
      "816:\tlearn: 0.3534687\ttotal: 1.44s\tremaining: 323ms\n",
      "817:\tlearn: 0.3534612\ttotal: 1.44s\tremaining: 321ms\n",
      "818:\tlearn: 0.3533902\ttotal: 1.44s\tremaining: 319ms\n",
      "819:\tlearn: 0.3533072\ttotal: 1.44s\tremaining: 317ms\n",
      "820:\tlearn: 0.3532730\ttotal: 1.44s\tremaining: 315ms\n",
      "821:\tlearn: 0.3531556\ttotal: 1.45s\tremaining: 313ms\n",
      "822:\tlearn: 0.3531526\ttotal: 1.45s\tremaining: 312ms\n",
      "823:\tlearn: 0.3530893\ttotal: 1.45s\tremaining: 311ms\n",
      "824:\tlearn: 0.3528000\ttotal: 1.46s\tremaining: 309ms\n",
      "825:\tlearn: 0.3527557\ttotal: 1.46s\tremaining: 307ms\n",
      "826:\tlearn: 0.3527494\ttotal: 1.46s\tremaining: 305ms\n",
      "827:\tlearn: 0.3527097\ttotal: 1.46s\tremaining: 303ms\n",
      "828:\tlearn: 0.3525818\ttotal: 1.46s\tremaining: 301ms\n",
      "829:\tlearn: 0.3525719\ttotal: 1.46s\tremaining: 300ms\n",
      "830:\tlearn: 0.3523327\ttotal: 1.46s\tremaining: 298ms\n",
      "831:\tlearn: 0.3523023\ttotal: 1.47s\tremaining: 296ms\n",
      "832:\tlearn: 0.3522949\ttotal: 1.47s\tremaining: 294ms\n",
      "833:\tlearn: 0.3521358\ttotal: 1.47s\tremaining: 292ms\n",
      "834:\tlearn: 0.3521053\ttotal: 1.47s\tremaining: 290ms\n",
      "835:\tlearn: 0.3520985\ttotal: 1.47s\tremaining: 289ms\n",
      "836:\tlearn: 0.3520746\ttotal: 1.47s\tremaining: 287ms\n",
      "837:\tlearn: 0.3519963\ttotal: 1.47s\tremaining: 285ms\n",
      "838:\tlearn: 0.3519587\ttotal: 1.48s\tremaining: 283ms\n",
      "839:\tlearn: 0.3518946\ttotal: 1.48s\tremaining: 281ms\n",
      "840:\tlearn: 0.3518871\ttotal: 1.48s\tremaining: 280ms\n",
      "841:\tlearn: 0.3518257\ttotal: 1.48s\tremaining: 278ms\n",
      "842:\tlearn: 0.3518257\ttotal: 1.48s\tremaining: 276ms\n",
      "843:\tlearn: 0.3516969\ttotal: 1.48s\tremaining: 274ms\n",
      "844:\tlearn: 0.3516134\ttotal: 1.49s\tremaining: 272ms\n",
      "845:\tlearn: 0.3515626\ttotal: 1.49s\tremaining: 271ms\n",
      "846:\tlearn: 0.3513883\ttotal: 1.49s\tremaining: 269ms\n",
      "847:\tlearn: 0.3512275\ttotal: 1.49s\tremaining: 267ms\n",
      "848:\tlearn: 0.3512070\ttotal: 1.49s\tremaining: 265ms\n",
      "849:\tlearn: 0.3511331\ttotal: 1.49s\tremaining: 264ms\n",
      "850:\tlearn: 0.3511326\ttotal: 1.49s\tremaining: 262ms\n",
      "851:\tlearn: 0.3510670\ttotal: 1.5s\tremaining: 260ms\n",
      "852:\tlearn: 0.3510078\ttotal: 1.5s\tremaining: 258ms\n",
      "853:\tlearn: 0.3509421\ttotal: 1.5s\tremaining: 257ms\n",
      "854:\tlearn: 0.3508649\ttotal: 1.5s\tremaining: 255ms\n",
      "855:\tlearn: 0.3507884\ttotal: 1.5s\tremaining: 253ms\n",
      "856:\tlearn: 0.3506834\ttotal: 1.51s\tremaining: 251ms\n",
      "857:\tlearn: 0.3505600\ttotal: 1.51s\tremaining: 250ms\n",
      "858:\tlearn: 0.3505130\ttotal: 1.51s\tremaining: 248ms\n",
      "859:\tlearn: 0.3504751\ttotal: 1.51s\tremaining: 246ms\n",
      "860:\tlearn: 0.3504486\ttotal: 1.51s\tremaining: 244ms\n",
      "861:\tlearn: 0.3503420\ttotal: 1.51s\tremaining: 243ms\n",
      "862:\tlearn: 0.3503026\ttotal: 1.52s\tremaining: 241ms\n",
      "863:\tlearn: 0.3501229\ttotal: 1.52s\tremaining: 239ms\n",
      "864:\tlearn: 0.3501214\ttotal: 1.52s\tremaining: 237ms\n",
      "865:\tlearn: 0.3500620\ttotal: 1.52s\tremaining: 235ms\n",
      "866:\tlearn: 0.3499160\ttotal: 1.52s\tremaining: 234ms\n",
      "867:\tlearn: 0.3498497\ttotal: 1.52s\tremaining: 232ms\n",
      "868:\tlearn: 0.3497468\ttotal: 1.53s\tremaining: 230ms\n",
      "869:\tlearn: 0.3497368\ttotal: 1.53s\tremaining: 228ms\n",
      "870:\tlearn: 0.3496823\ttotal: 1.53s\tremaining: 227ms\n",
      "871:\tlearn: 0.3496583\ttotal: 1.53s\tremaining: 225ms\n",
      "872:\tlearn: 0.3495292\ttotal: 1.53s\tremaining: 223ms\n",
      "873:\tlearn: 0.3494404\ttotal: 1.53s\tremaining: 221ms\n",
      "874:\tlearn: 0.3493938\ttotal: 1.54s\tremaining: 220ms\n",
      "875:\tlearn: 0.3493730\ttotal: 1.54s\tremaining: 218ms\n",
      "876:\tlearn: 0.3493234\ttotal: 1.54s\tremaining: 216ms\n",
      "877:\tlearn: 0.3491839\ttotal: 1.54s\tremaining: 214ms\n",
      "878:\tlearn: 0.3490326\ttotal: 1.54s\tremaining: 212ms\n",
      "879:\tlearn: 0.3490185\ttotal: 1.54s\tremaining: 211ms\n",
      "880:\tlearn: 0.3489342\ttotal: 1.55s\tremaining: 209ms\n",
      "881:\tlearn: 0.3489037\ttotal: 1.55s\tremaining: 207ms\n",
      "882:\tlearn: 0.3488810\ttotal: 1.55s\tremaining: 205ms\n",
      "883:\tlearn: 0.3488113\ttotal: 1.55s\tremaining: 204ms\n",
      "884:\tlearn: 0.3487785\ttotal: 1.55s\tremaining: 202ms\n",
      "885:\tlearn: 0.3486444\ttotal: 1.55s\tremaining: 200ms\n",
      "886:\tlearn: 0.3486371\ttotal: 1.56s\tremaining: 198ms\n",
      "887:\tlearn: 0.3485908\ttotal: 1.56s\tremaining: 196ms\n",
      "888:\tlearn: 0.3485804\ttotal: 1.56s\tremaining: 195ms\n",
      "889:\tlearn: 0.3485173\ttotal: 1.56s\tremaining: 193ms\n",
      "890:\tlearn: 0.3484834\ttotal: 1.56s\tremaining: 191ms\n",
      "891:\tlearn: 0.3483790\ttotal: 1.56s\tremaining: 189ms\n",
      "892:\tlearn: 0.3482377\ttotal: 1.56s\tremaining: 188ms\n",
      "893:\tlearn: 0.3482216\ttotal: 1.57s\tremaining: 186ms\n",
      "894:\tlearn: 0.3482054\ttotal: 1.57s\tremaining: 184ms\n",
      "895:\tlearn: 0.3480568\ttotal: 1.57s\tremaining: 182ms\n",
      "896:\tlearn: 0.3480454\ttotal: 1.57s\tremaining: 181ms\n",
      "897:\tlearn: 0.3479931\ttotal: 1.57s\tremaining: 179ms\n",
      "898:\tlearn: 0.3479474\ttotal: 1.58s\tremaining: 177ms\n",
      "899:\tlearn: 0.3479268\ttotal: 1.58s\tremaining: 175ms\n",
      "900:\tlearn: 0.3478360\ttotal: 1.58s\tremaining: 174ms\n",
      "901:\tlearn: 0.3476641\ttotal: 1.58s\tremaining: 172ms\n",
      "902:\tlearn: 0.3473495\ttotal: 1.58s\tremaining: 170ms\n",
      "903:\tlearn: 0.3472493\ttotal: 1.58s\tremaining: 168ms\n",
      "904:\tlearn: 0.3471807\ttotal: 1.59s\tremaining: 167ms\n",
      "905:\tlearn: 0.3470784\ttotal: 1.59s\tremaining: 165ms\n",
      "906:\tlearn: 0.3469368\ttotal: 1.59s\tremaining: 163ms\n",
      "907:\tlearn: 0.3468101\ttotal: 1.59s\tremaining: 161ms\n",
      "908:\tlearn: 0.3468101\ttotal: 1.59s\tremaining: 159ms\n",
      "909:\tlearn: 0.3467241\ttotal: 1.59s\tremaining: 158ms\n",
      "910:\tlearn: 0.3466922\ttotal: 1.59s\tremaining: 156ms\n",
      "911:\tlearn: 0.3465933\ttotal: 1.6s\tremaining: 154ms\n",
      "912:\tlearn: 0.3465264\ttotal: 1.6s\tremaining: 152ms\n",
      "913:\tlearn: 0.3465264\ttotal: 1.6s\tremaining: 151ms\n",
      "914:\tlearn: 0.3464092\ttotal: 1.6s\tremaining: 149ms\n",
      "915:\tlearn: 0.3463289\ttotal: 1.6s\tremaining: 147ms\n",
      "916:\tlearn: 0.3462970\ttotal: 1.6s\tremaining: 145ms\n",
      "917:\tlearn: 0.3461635\ttotal: 1.61s\tremaining: 144ms\n",
      "918:\tlearn: 0.3461360\ttotal: 1.61s\tremaining: 142ms\n",
      "919:\tlearn: 0.3460208\ttotal: 1.61s\tremaining: 140ms\n",
      "920:\tlearn: 0.3458906\ttotal: 1.61s\tremaining: 138ms\n",
      "921:\tlearn: 0.3458857\ttotal: 1.61s\tremaining: 136ms\n",
      "922:\tlearn: 0.3458322\ttotal: 1.61s\tremaining: 135ms\n",
      "923:\tlearn: 0.3457879\ttotal: 1.62s\tremaining: 133ms\n",
      "924:\tlearn: 0.3455410\ttotal: 1.62s\tremaining: 131ms\n",
      "925:\tlearn: 0.3455230\ttotal: 1.62s\tremaining: 129ms\n",
      "926:\tlearn: 0.3453850\ttotal: 1.62s\tremaining: 128ms\n",
      "927:\tlearn: 0.3451955\ttotal: 1.62s\tremaining: 126ms\n",
      "928:\tlearn: 0.3451594\ttotal: 1.63s\tremaining: 124ms\n",
      "929:\tlearn: 0.3451240\ttotal: 1.63s\tremaining: 122ms\n",
      "930:\tlearn: 0.3450443\ttotal: 1.63s\tremaining: 121ms\n",
      "931:\tlearn: 0.3449495\ttotal: 1.63s\tremaining: 119ms\n",
      "932:\tlearn: 0.3448684\ttotal: 1.63s\tremaining: 117ms\n",
      "933:\tlearn: 0.3448617\ttotal: 1.63s\tremaining: 115ms\n",
      "934:\tlearn: 0.3448072\ttotal: 1.64s\tremaining: 114ms\n",
      "935:\tlearn: 0.3447133\ttotal: 1.64s\tremaining: 112ms\n",
      "936:\tlearn: 0.3444531\ttotal: 1.64s\tremaining: 110ms\n",
      "937:\tlearn: 0.3443336\ttotal: 1.64s\tremaining: 108ms\n",
      "938:\tlearn: 0.3441200\ttotal: 1.64s\tremaining: 107ms\n",
      "939:\tlearn: 0.3440795\ttotal: 1.64s\tremaining: 105ms\n",
      "940:\tlearn: 0.3439372\ttotal: 1.65s\tremaining: 103ms\n",
      "941:\tlearn: 0.3437031\ttotal: 1.65s\tremaining: 101ms\n",
      "942:\tlearn: 0.3436501\ttotal: 1.65s\tremaining: 99.7ms\n",
      "943:\tlearn: 0.3436005\ttotal: 1.65s\tremaining: 97.9ms\n",
      "944:\tlearn: 0.3435516\ttotal: 1.65s\tremaining: 96.2ms\n",
      "945:\tlearn: 0.3434581\ttotal: 1.66s\tremaining: 94.5ms\n",
      "946:\tlearn: 0.3434428\ttotal: 1.66s\tremaining: 92.7ms\n",
      "947:\tlearn: 0.3433809\ttotal: 1.66s\tremaining: 90.9ms\n",
      "948:\tlearn: 0.3432570\ttotal: 1.66s\tremaining: 89.2ms\n",
      "949:\tlearn: 0.3432535\ttotal: 1.66s\tremaining: 87.4ms\n",
      "950:\tlearn: 0.3432272\ttotal: 1.66s\tremaining: 85.6ms\n",
      "951:\tlearn: 0.3431885\ttotal: 1.66s\tremaining: 83.9ms\n",
      "952:\tlearn: 0.3431447\ttotal: 1.66s\tremaining: 82.1ms\n",
      "953:\tlearn: 0.3430299\ttotal: 1.68s\tremaining: 80.8ms\n",
      "954:\tlearn: 0.3429301\ttotal: 1.68s\tremaining: 79.1ms\n",
      "955:\tlearn: 0.3428892\ttotal: 1.68s\tremaining: 77.3ms\n",
      "956:\tlearn: 0.3428454\ttotal: 1.68s\tremaining: 75.6ms\n",
      "957:\tlearn: 0.3428293\ttotal: 1.68s\tremaining: 73.8ms\n",
      "958:\tlearn: 0.3427781\ttotal: 1.68s\tremaining: 72ms\n",
      "959:\tlearn: 0.3427339\ttotal: 1.69s\tremaining: 70.3ms\n",
      "960:\tlearn: 0.3426622\ttotal: 1.69s\tremaining: 68.5ms\n",
      "961:\tlearn: 0.3426392\ttotal: 1.69s\tremaining: 66.8ms\n",
      "962:\tlearn: 0.3425636\ttotal: 1.69s\tremaining: 65.1ms\n",
      "963:\tlearn: 0.3425636\ttotal: 1.69s\tremaining: 63.3ms\n",
      "964:\tlearn: 0.3424353\ttotal: 1.7s\tremaining: 61.5ms\n",
      "965:\tlearn: 0.3422821\ttotal: 1.7s\tremaining: 59.8ms\n",
      "966:\tlearn: 0.3422155\ttotal: 1.7s\tremaining: 58ms\n",
      "967:\tlearn: 0.3420855\ttotal: 1.7s\tremaining: 56.2ms\n",
      "968:\tlearn: 0.3419957\ttotal: 1.7s\tremaining: 54.5ms\n",
      "969:\tlearn: 0.3419797\ttotal: 1.7s\tremaining: 52.7ms\n",
      "970:\tlearn: 0.3419180\ttotal: 1.71s\tremaining: 50.9ms\n",
      "971:\tlearn: 0.3418908\ttotal: 1.71s\tremaining: 49.2ms\n",
      "972:\tlearn: 0.3418157\ttotal: 1.71s\tremaining: 47.4ms\n",
      "973:\tlearn: 0.3417513\ttotal: 1.71s\tremaining: 45.6ms\n",
      "974:\tlearn: 0.3416251\ttotal: 1.71s\tremaining: 43.9ms\n",
      "975:\tlearn: 0.3415224\ttotal: 1.71s\tremaining: 42.1ms\n",
      "976:\tlearn: 0.3415224\ttotal: 1.71s\tremaining: 40.3ms\n",
      "977:\tlearn: 0.3414545\ttotal: 1.72s\tremaining: 38.6ms\n",
      "978:\tlearn: 0.3413894\ttotal: 1.72s\tremaining: 36.8ms\n",
      "979:\tlearn: 0.3413289\ttotal: 1.72s\tremaining: 35.1ms\n",
      "980:\tlearn: 0.3412959\ttotal: 1.72s\tremaining: 33.4ms\n",
      "981:\tlearn: 0.3412873\ttotal: 1.72s\tremaining: 31.6ms\n",
      "982:\tlearn: 0.3411125\ttotal: 1.73s\tremaining: 29.8ms\n",
      "983:\tlearn: 0.3410429\ttotal: 1.73s\tremaining: 28.1ms\n",
      "984:\tlearn: 0.3408345\ttotal: 1.73s\tremaining: 26.3ms\n",
      "985:\tlearn: 0.3407755\ttotal: 1.73s\tremaining: 24.6ms\n",
      "986:\tlearn: 0.3405983\ttotal: 1.73s\tremaining: 22.8ms\n",
      "987:\tlearn: 0.3404887\ttotal: 1.73s\tremaining: 21.1ms\n",
      "988:\tlearn: 0.3404766\ttotal: 1.74s\tremaining: 19.3ms\n",
      "989:\tlearn: 0.3404401\ttotal: 1.74s\tremaining: 17.6ms\n",
      "990:\tlearn: 0.3403797\ttotal: 1.74s\tremaining: 15.8ms\n",
      "991:\tlearn: 0.3403515\ttotal: 1.74s\tremaining: 14ms\n",
      "992:\tlearn: 0.3402624\ttotal: 1.74s\tremaining: 12.3ms\n",
      "993:\tlearn: 0.3402175\ttotal: 1.75s\tremaining: 10.5ms\n",
      "994:\tlearn: 0.3399939\ttotal: 1.75s\tremaining: 8.79ms\n",
      "995:\tlearn: 0.3399342\ttotal: 1.75s\tremaining: 7.03ms\n",
      "996:\tlearn: 0.3398669\ttotal: 1.75s\tremaining: 5.27ms\n",
      "997:\tlearn: 0.3398219\ttotal: 1.75s\tremaining: 3.51ms\n",
      "998:\tlearn: 0.3397748\ttotal: 1.75s\tremaining: 1.76ms\n",
      "999:\tlearn: 0.3396214\ttotal: 1.76s\tremaining: 0us\n"
     ]
    }
   ],
   "source": [
    "# CatBoost model definition\n",
    "catboost_model = CatBoostClassifier(iterations=1000,\n",
    "                                    custom_loss=['Accuracy'],\n",
    "                                    loss_function='Logloss')\n",
    "\n",
    "# Fit CatBoost model\n",
    "catboost_model.fit(train_pool,\n",
    "                   plot=True)\n",
    "\n",
    "# CatBoost accuracy\n",
    "acc_catboost = round(catboost_model.score(X_train, y_train) * 100, 2)"
   ],
   "metadata": {
    "collapsed": false,
    "pycharm": {
     "name": "#%%\n"
    }
   }
  },
  {
   "cell_type": "code",
   "execution_count": 774,
   "outputs": [
    {
     "data": {
      "text/plain": "MetricVisualizer(layout=Layout(align_self='stretch', height='500px'))",
      "application/vnd.jupyter.widget-view+json": {
       "version_major": 2,
       "version_minor": 0,
       "model_id": "76ab332950044705aefe2c8023be625f"
      }
     },
     "metadata": {},
     "output_type": "display_data"
    },
    {
     "name": "stdout",
     "output_type": "stream",
     "text": [
      "0:\tlearn: 0.6746718\ttest: 0.6751020\tbest: 0.6751020 (0)\n",
      "1:\tlearn: 0.6573540\ttest: 0.6583602\tbest: 0.6583602 (1)\ttotal: 425ms\tremaining: 3m 32s\n",
      "2:\tlearn: 0.6408329\ttest: 0.6429257\tbest: 0.6429257 (2)\n",
      "3:\tlearn: 0.6253924\ttest: 0.6283059\tbest: 0.6283059 (3)\n",
      "4:\tlearn: 0.6114190\ttest: 0.6150989\tbest: 0.6150989 (4)\n",
      "5:\tlearn: 0.6004513\ttest: 0.6048524\tbest: 0.6048524 (5)\n",
      "6:\tlearn: 0.5900482\ttest: 0.5949158\tbest: 0.5949158 (6)\n",
      "7:\tlearn: 0.5800356\ttest: 0.5853301\tbest: 0.5853301 (7)\n",
      "8:\tlearn: 0.5702086\ttest: 0.5757925\tbest: 0.5757925 (8)\n",
      "9:\tlearn: 0.5612227\ttest: 0.5675857\tbest: 0.5675857 (9)\n",
      "10:\tlearn: 0.5522686\ttest: 0.5589941\tbest: 0.5589941 (10)\n",
      "11:\tlearn: 0.5447302\ttest: 0.5517930\tbest: 0.5517930 (11)\n",
      "12:\tlearn: 0.5377424\ttest: 0.5449873\tbest: 0.5449873 (12)\n",
      "13:\tlearn: 0.5305336\ttest: 0.5382423\tbest: 0.5382423 (13)\n",
      "14:\tlearn: 0.5241296\ttest: 0.5323280\tbest: 0.5323280 (14)\n",
      "15:\tlearn: 0.5171284\ttest: 0.5265741\tbest: 0.5265741 (15)\n",
      "16:\tlearn: 0.5113308\ttest: 0.5214578\tbest: 0.5214578 (16)\n",
      "17:\tlearn: 0.5063945\ttest: 0.5168872\tbest: 0.5168872 (17)\n",
      "18:\tlearn: 0.5012044\ttest: 0.5122967\tbest: 0.5122967 (18)\n",
      "19:\tlearn: 0.4961419\ttest: 0.5078053\tbest: 0.5078053 (19)\n",
      "20:\tlearn: 0.4916650\ttest: 0.5037290\tbest: 0.5037290 (20)\n",
      "21:\tlearn: 0.4872399\ttest: 0.4999323\tbest: 0.4999323 (21)\n",
      "22:\tlearn: 0.4828811\ttest: 0.4963913\tbest: 0.4963913 (22)\n",
      "23:\tlearn: 0.4793031\ttest: 0.4933210\tbest: 0.4933210 (23)\n",
      "24:\tlearn: 0.4753296\ttest: 0.4902716\tbest: 0.4902716 (24)\n",
      "25:\tlearn: 0.4720368\ttest: 0.4875722\tbest: 0.4875722 (25)\n",
      "26:\tlearn: 0.4681779\ttest: 0.4846070\tbest: 0.4846070 (26)\n",
      "27:\tlearn: 0.4644372\ttest: 0.4816989\tbest: 0.4816989 (27)\n",
      "28:\tlearn: 0.4615200\ttest: 0.4793923\tbest: 0.4793923 (28)\n",
      "29:\tlearn: 0.4586301\ttest: 0.4768620\tbest: 0.4768620 (29)\n",
      "30:\tlearn: 0.4559107\ttest: 0.4747232\tbest: 0.4747232 (30)\n",
      "31:\tlearn: 0.4533507\ttest: 0.4727893\tbest: 0.4727893 (31)\n",
      "32:\tlearn: 0.4509752\ttest: 0.4712396\tbest: 0.4712396 (32)\n",
      "33:\tlearn: 0.4485842\ttest: 0.4691601\tbest: 0.4691601 (33)\n",
      "34:\tlearn: 0.4464465\ttest: 0.4677992\tbest: 0.4677992 (34)\n",
      "35:\tlearn: 0.4447388\ttest: 0.4666021\tbest: 0.4666021 (35)\n",
      "36:\tlearn: 0.4432224\ttest: 0.4655151\tbest: 0.4655151 (36)\n",
      "37:\tlearn: 0.4411967\ttest: 0.4639372\tbest: 0.4639372 (37)\n",
      "38:\tlearn: 0.4392633\ttest: 0.4626295\tbest: 0.4626295 (38)\n",
      "39:\tlearn: 0.4381009\ttest: 0.4617744\tbest: 0.4617744 (39)\n",
      "40:\tlearn: 0.4367361\ttest: 0.4609664\tbest: 0.4609664 (40)\n",
      "41:\tlearn: 0.4357773\ttest: 0.4602722\tbest: 0.4602722 (41)\n",
      "42:\tlearn: 0.4339546\ttest: 0.4590476\tbest: 0.4590476 (42)\n",
      "43:\tlearn: 0.4324782\ttest: 0.4580364\tbest: 0.4580364 (43)\n",
      "44:\tlearn: 0.4308488\ttest: 0.4569390\tbest: 0.4569390 (44)\n",
      "45:\tlearn: 0.4292558\ttest: 0.4559637\tbest: 0.4559637 (45)\n",
      "46:\tlearn: 0.4279744\ttest: 0.4551656\tbest: 0.4551656 (46)\n",
      "47:\tlearn: 0.4266375\ttest: 0.4542845\tbest: 0.4542845 (47)\n",
      "48:\tlearn: 0.4252676\ttest: 0.4532309\tbest: 0.4532309 (48)\n",
      "49:\tlearn: 0.4243027\ttest: 0.4525123\tbest: 0.4525123 (49)\n",
      "50:\tlearn: 0.4230323\ttest: 0.4516306\tbest: 0.4516306 (50)\n",
      "51:\tlearn: 0.4222733\ttest: 0.4512301\tbest: 0.4512301 (51)\n",
      "52:\tlearn: 0.4212298\ttest: 0.4506692\tbest: 0.4506692 (52)\n",
      "53:\tlearn: 0.4205203\ttest: 0.4502662\tbest: 0.4502662 (53)\n",
      "54:\tlearn: 0.4192436\ttest: 0.4496805\tbest: 0.4496805 (54)\n",
      "55:\tlearn: 0.4184890\ttest: 0.4490268\tbest: 0.4490268 (55)\n",
      "56:\tlearn: 0.4174292\ttest: 0.4485402\tbest: 0.4485402 (56)\n",
      "57:\tlearn: 0.4167109\ttest: 0.4482207\tbest: 0.4482207 (57)\n",
      "58:\tlearn: 0.4158215\ttest: 0.4477271\tbest: 0.4477271 (58)\n",
      "59:\tlearn: 0.4150769\ttest: 0.4472731\tbest: 0.4472731 (59)\n",
      "60:\tlearn: 0.4143138\ttest: 0.4468905\tbest: 0.4468905 (60)\n",
      "61:\tlearn: 0.4136433\ttest: 0.4465494\tbest: 0.4465494 (61)\n",
      "62:\tlearn: 0.4129297\ttest: 0.4463193\tbest: 0.4463193 (62)\n",
      "63:\tlearn: 0.4120685\ttest: 0.4459936\tbest: 0.4459936 (63)\n",
      "64:\tlearn: 0.4112616\ttest: 0.4456809\tbest: 0.4456809 (64)\n",
      "65:\tlearn: 0.4106210\ttest: 0.4454550\tbest: 0.4454550 (65)\n",
      "66:\tlearn: 0.4097876\ttest: 0.4450467\tbest: 0.4450467 (66)\n",
      "67:\tlearn: 0.4089574\ttest: 0.4447880\tbest: 0.4447880 (67)\n",
      "68:\tlearn: 0.4084334\ttest: 0.4447467\tbest: 0.4447467 (68)\n",
      "69:\tlearn: 0.4076851\ttest: 0.4444578\tbest: 0.4444578 (69)\n",
      "70:\tlearn: 0.4071721\ttest: 0.4442097\tbest: 0.4442097 (70)\n",
      "71:\tlearn: 0.4065562\ttest: 0.4439226\tbest: 0.4439226 (71)\n",
      "72:\tlearn: 0.4058217\ttest: 0.4436694\tbest: 0.4436694 (72)\n",
      "73:\tlearn: 0.4052602\ttest: 0.4433611\tbest: 0.4433611 (73)\n",
      "74:\tlearn: 0.4048162\ttest: 0.4430083\tbest: 0.4430083 (74)\n",
      "75:\tlearn: 0.4042988\ttest: 0.4428872\tbest: 0.4428872 (75)\n",
      "76:\tlearn: 0.4038014\ttest: 0.4427746\tbest: 0.4427746 (76)\n",
      "77:\tlearn: 0.4032446\ttest: 0.4424771\tbest: 0.4424771 (77)\n",
      "78:\tlearn: 0.4026349\ttest: 0.4423255\tbest: 0.4423255 (78)\n",
      "79:\tlearn: 0.4021555\ttest: 0.4421935\tbest: 0.4421935 (79)\n",
      "80:\tlearn: 0.4015822\ttest: 0.4419448\tbest: 0.4419448 (80)\n",
      "81:\tlearn: 0.4010090\ttest: 0.4419131\tbest: 0.4419131 (81)\n",
      "82:\tlearn: 0.4005964\ttest: 0.4418298\tbest: 0.4418298 (82)\n",
      "83:\tlearn: 0.4000038\ttest: 0.4415138\tbest: 0.4415138 (83)\n",
      "84:\tlearn: 0.3996033\ttest: 0.4411859\tbest: 0.4411859 (84)\n",
      "85:\tlearn: 0.3990852\ttest: 0.4411480\tbest: 0.4411480 (85)\n",
      "86:\tlearn: 0.3987718\ttest: 0.4410187\tbest: 0.4410187 (86)\n",
      "87:\tlearn: 0.3982272\ttest: 0.4409673\tbest: 0.4409673 (87)\ttotal: 4.84s\tremaining: 50.1s\n",
      "88:\tlearn: 0.3977839\ttest: 0.4407548\tbest: 0.4407548 (88)\n",
      "89:\tlearn: 0.3973309\ttest: 0.4406800\tbest: 0.4406800 (89)\n",
      "90:\tlearn: 0.3967894\ttest: 0.4407059\tbest: 0.4406800 (89)\n",
      "91:\tlearn: 0.3963210\ttest: 0.4406911\tbest: 0.4406800 (89)\n",
      "92:\tlearn: 0.3959080\ttest: 0.4406400\tbest: 0.4406400 (92)\n",
      "93:\tlearn: 0.3954346\ttest: 0.4406329\tbest: 0.4406329 (93)\n",
      "94:\tlearn: 0.3949190\ttest: 0.4403517\tbest: 0.4403517 (94)\n",
      "95:\tlearn: 0.3944340\ttest: 0.4402716\tbest: 0.4402716 (95)\n",
      "96:\tlearn: 0.3939860\ttest: 0.4401340\tbest: 0.4401340 (96)\n",
      "97:\tlearn: 0.3934840\ttest: 0.4400352\tbest: 0.4400352 (97)\n",
      "98:\tlearn: 0.3930306\ttest: 0.4398759\tbest: 0.4398759 (98)\n",
      "99:\tlearn: 0.3925201\ttest: 0.4396396\tbest: 0.4396396 (99)\n",
      "100:\tlearn: 0.3920257\ttest: 0.4394660\tbest: 0.4394660 (100)\n",
      "101:\tlearn: 0.3916652\ttest: 0.4393186\tbest: 0.4393186 (101)\n",
      "102:\tlearn: 0.3911312\ttest: 0.4393401\tbest: 0.4393186 (101)\n",
      "103:\tlearn: 0.3907873\ttest: 0.4392190\tbest: 0.4392190 (103)\n",
      "104:\tlearn: 0.3904307\ttest: 0.4391417\tbest: 0.4391417 (104)\n",
      "105:\tlearn: 0.3901088\ttest: 0.4390607\tbest: 0.4390607 (105)\n",
      "106:\tlearn: 0.3898334\ttest: 0.4390258\tbest: 0.4390258 (106)\n",
      "107:\tlearn: 0.3894609\ttest: 0.4390284\tbest: 0.4390258 (106)\n",
      "108:\tlearn: 0.3890940\ttest: 0.4391344\tbest: 0.4390258 (106)\n",
      "109:\tlearn: 0.3888110\ttest: 0.4391325\tbest: 0.4390258 (106)\n",
      "110:\tlearn: 0.3884239\ttest: 0.4390875\tbest: 0.4390258 (106)\n",
      "111:\tlearn: 0.3880742\ttest: 0.4388592\tbest: 0.4388592 (111)\n",
      "112:\tlearn: 0.3877625\ttest: 0.4388132\tbest: 0.4388132 (112)\n",
      "113:\tlearn: 0.3874930\ttest: 0.4387401\tbest: 0.4387401 (113)\n",
      "114:\tlearn: 0.3869136\ttest: 0.4387844\tbest: 0.4387401 (113)\n",
      "115:\tlearn: 0.3865282\ttest: 0.4386940\tbest: 0.4386940 (115)\n",
      "116:\tlearn: 0.3862038\ttest: 0.4385983\tbest: 0.4385983 (116)\n",
      "117:\tlearn: 0.3858952\ttest: 0.4385717\tbest: 0.4385717 (117)\n",
      "118:\tlearn: 0.3856524\ttest: 0.4386504\tbest: 0.4385717 (117)\n",
      "119:\tlearn: 0.3853708\ttest: 0.4387349\tbest: 0.4385717 (117)\n",
      "120:\tlearn: 0.3850572\ttest: 0.4387885\tbest: 0.4385717 (117)\n",
      "121:\tlearn: 0.3846513\ttest: 0.4387264\tbest: 0.4385717 (117)\n",
      "122:\tlearn: 0.3844273\ttest: 0.4386578\tbest: 0.4385717 (117)\n",
      "123:\tlearn: 0.3842268\ttest: 0.4386095\tbest: 0.4385717 (117)\n",
      "124:\tlearn: 0.3838461\ttest: 0.4385764\tbest: 0.4385717 (117)\n",
      "125:\tlearn: 0.3836713\ttest: 0.4385069\tbest: 0.4385069 (125)\n",
      "126:\tlearn: 0.3833338\ttest: 0.4383872\tbest: 0.4383872 (126)\n",
      "127:\tlearn: 0.3827943\ttest: 0.4382717\tbest: 0.4382717 (127)\n",
      "128:\tlearn: 0.3824870\ttest: 0.4381577\tbest: 0.4381577 (128)\n",
      "129:\tlearn: 0.3820623\ttest: 0.4379717\tbest: 0.4379717 (129)\n",
      "130:\tlearn: 0.3818524\ttest: 0.4380089\tbest: 0.4379717 (129)\n",
      "131:\tlearn: 0.3815946\ttest: 0.4379057\tbest: 0.4379057 (131)\n",
      "132:\tlearn: 0.3812153\ttest: 0.4378976\tbest: 0.4378976 (132)\n",
      "133:\tlearn: 0.3807619\ttest: 0.4375885\tbest: 0.4375885 (133)\n",
      "134:\tlearn: 0.3804123\ttest: 0.4377726\tbest: 0.4375885 (133)\n",
      "135:\tlearn: 0.3801330\ttest: 0.4377947\tbest: 0.4375885 (133)\n",
      "136:\tlearn: 0.3798417\ttest: 0.4378267\tbest: 0.4375885 (133)\n",
      "137:\tlearn: 0.3795847\ttest: 0.4378873\tbest: 0.4375885 (133)\n",
      "138:\tlearn: 0.3792507\ttest: 0.4378715\tbest: 0.4375885 (133)\n",
      "139:\tlearn: 0.3789390\ttest: 0.4378660\tbest: 0.4375885 (133)\n",
      "140:\tlearn: 0.3786555\ttest: 0.4378720\tbest: 0.4375885 (133)\n",
      "141:\tlearn: 0.3784076\ttest: 0.4378774\tbest: 0.4375885 (133)\n",
      "142:\tlearn: 0.3780534\ttest: 0.4378525\tbest: 0.4375885 (133)\n",
      "143:\tlearn: 0.3777646\ttest: 0.4376841\tbest: 0.4375885 (133)\n",
      "144:\tlearn: 0.3775321\ttest: 0.4378089\tbest: 0.4375885 (133)\n",
      "145:\tlearn: 0.3772125\ttest: 0.4377624\tbest: 0.4375885 (133)\n",
      "146:\tlearn: 0.3769816\ttest: 0.4376400\tbest: 0.4375885 (133)\n",
      "147:\tlearn: 0.3767073\ttest: 0.4376571\tbest: 0.4375885 (133)\n",
      "148:\tlearn: 0.3765399\ttest: 0.4376666\tbest: 0.4375885 (133)\n",
      "149:\tlearn: 0.3762756\ttest: 0.4376520\tbest: 0.4375885 (133)\n",
      "150:\tlearn: 0.3761288\ttest: 0.4377161\tbest: 0.4375885 (133)\n",
      "151:\tlearn: 0.3759425\ttest: 0.4377006\tbest: 0.4375885 (133)\n",
      "152:\tlearn: 0.3756349\ttest: 0.4378041\tbest: 0.4375885 (133)\n",
      "153:\tlearn: 0.3754100\ttest: 0.4378911\tbest: 0.4375885 (133)\n",
      "154:\tlearn: 0.3751414\ttest: 0.4379486\tbest: 0.4375885 (133)\n",
      "155:\tlearn: 0.3748791\ttest: 0.4380754\tbest: 0.4375885 (133)\n",
      "156:\tlearn: 0.3746241\ttest: 0.4381365\tbest: 0.4375885 (133)\n",
      "157:\tlearn: 0.3743435\ttest: 0.4381316\tbest: 0.4375885 (133)\n",
      "158:\tlearn: 0.3739097\ttest: 0.4381786\tbest: 0.4375885 (133)\n",
      "159:\tlearn: 0.3736041\ttest: 0.4381051\tbest: 0.4375885 (133)\n",
      "160:\tlearn: 0.3733566\ttest: 0.4381406\tbest: 0.4375885 (133)\n",
      "161:\tlearn: 0.3730272\ttest: 0.4382993\tbest: 0.4375885 (133)\n",
      "162:\tlearn: 0.3728136\ttest: 0.4383245\tbest: 0.4375885 (133)\n",
      "163:\tlearn: 0.3725247\ttest: 0.4383562\tbest: 0.4375885 (133)\n",
      "164:\tlearn: 0.3723215\ttest: 0.4383283\tbest: 0.4375885 (133)\n",
      "165:\tlearn: 0.3719399\ttest: 0.4382079\tbest: 0.4375885 (133)\n",
      "166:\tlearn: 0.3716950\ttest: 0.4382140\tbest: 0.4375885 (133)\n",
      "167:\tlearn: 0.3714294\ttest: 0.4382364\tbest: 0.4375885 (133)\n",
      "168:\tlearn: 0.3710975\ttest: 0.4383379\tbest: 0.4375885 (133)\n",
      "169:\tlearn: 0.3708151\ttest: 0.4382247\tbest: 0.4375885 (133)\n",
      "170:\tlearn: 0.3705341\ttest: 0.4382206\tbest: 0.4375885 (133)\n",
      "171:\tlearn: 0.3702579\ttest: 0.4381828\tbest: 0.4375885 (133)\n",
      "172:\tlearn: 0.3700014\ttest: 0.4380525\tbest: 0.4375885 (133)\n",
      "173:\tlearn: 0.3697051\ttest: 0.4380720\tbest: 0.4375885 (133)\n",
      "174:\tlearn: 0.3694642\ttest: 0.4380150\tbest: 0.4375885 (133)\n",
      "175:\tlearn: 0.3691009\ttest: 0.4380279\tbest: 0.4375885 (133)\n",
      "176:\tlearn: 0.3688905\ttest: 0.4381575\tbest: 0.4375885 (133)\n",
      "177:\tlearn: 0.3686335\ttest: 0.4382308\tbest: 0.4375885 (133)\n",
      "178:\tlearn: 0.3684197\ttest: 0.4383125\tbest: 0.4375885 (133)\n",
      "179:\tlearn: 0.3681903\ttest: 0.4383017\tbest: 0.4375885 (133)\n",
      "180:\tlearn: 0.3679923\ttest: 0.4383894\tbest: 0.4375885 (133)\n",
      "181:\tlearn: 0.3678126\ttest: 0.4384124\tbest: 0.4375885 (133)\n",
      "182:\tlearn: 0.3675369\ttest: 0.4382845\tbest: 0.4375885 (133)\n",
      "183:\tlearn: 0.3672577\ttest: 0.4384239\tbest: 0.4375885 (133)\n",
      "184:\tlearn: 0.3670808\ttest: 0.4384315\tbest: 0.4375885 (133)\n",
      "185:\tlearn: 0.3668779\ttest: 0.4382930\tbest: 0.4375885 (133)\n",
      "186:\tlearn: 0.3666935\ttest: 0.4381824\tbest: 0.4375885 (133)\n",
      "187:\tlearn: 0.3663794\ttest: 0.4382216\tbest: 0.4375885 (133)\n",
      "188:\tlearn: 0.3661612\ttest: 0.4383193\tbest: 0.4375885 (133)\n",
      "189:\tlearn: 0.3658713\ttest: 0.4384194\tbest: 0.4375885 (133)\n",
      "190:\tlearn: 0.3655909\ttest: 0.4384293\tbest: 0.4375885 (133)\n",
      "191:\tlearn: 0.3653505\ttest: 0.4385599\tbest: 0.4375885 (133)\n",
      "192:\tlearn: 0.3650680\ttest: 0.4385466\tbest: 0.4375885 (133)\n",
      "193:\tlearn: 0.3648928\ttest: 0.4385777\tbest: 0.4375885 (133)\n",
      "194:\tlearn: 0.3645239\ttest: 0.4385109\tbest: 0.4375885 (133)\n",
      "195:\tlearn: 0.3643312\ttest: 0.4384696\tbest: 0.4375885 (133)\n",
      "196:\tlearn: 0.3639504\ttest: 0.4384805\tbest: 0.4375885 (133)\n",
      "197:\tlearn: 0.3637617\ttest: 0.4383535\tbest: 0.4375885 (133)\n",
      "198:\tlearn: 0.3634333\ttest: 0.4384564\tbest: 0.4375885 (133)\n",
      "199:\tlearn: 0.3632001\ttest: 0.4383902\tbest: 0.4375885 (133)\n",
      "200:\tlearn: 0.3629832\ttest: 0.4383170\tbest: 0.4375885 (133)\n",
      "201:\tlearn: 0.3627132\ttest: 0.4383597\tbest: 0.4375885 (133)\n",
      "202:\tlearn: 0.3624696\ttest: 0.4383819\tbest: 0.4375885 (133)\n",
      "203:\tlearn: 0.3622366\ttest: 0.4383647\tbest: 0.4375885 (133)\n",
      "204:\tlearn: 0.3619916\ttest: 0.4384450\tbest: 0.4375885 (133)\n",
      "205:\tlearn: 0.3617403\ttest: 0.4385416\tbest: 0.4375885 (133)\n",
      "206:\tlearn: 0.3615494\ttest: 0.4385416\tbest: 0.4375885 (133)\n",
      "207:\tlearn: 0.3613447\ttest: 0.4386474\tbest: 0.4375885 (133)\n",
      "208:\tlearn: 0.3611559\ttest: 0.4385499\tbest: 0.4375885 (133)\n",
      "209:\tlearn: 0.3608845\ttest: 0.4385611\tbest: 0.4375885 (133)\n",
      "210:\tlearn: 0.3606592\ttest: 0.4386753\tbest: 0.4375885 (133)\n",
      "211:\tlearn: 0.3603914\ttest: 0.4387634\tbest: 0.4375885 (133)\n",
      "212:\tlearn: 0.3601795\ttest: 0.4386672\tbest: 0.4375885 (133)\n",
      "213:\tlearn: 0.3599561\ttest: 0.4386576\tbest: 0.4375885 (133)\n",
      "214:\tlearn: 0.3596311\ttest: 0.4384910\tbest: 0.4375885 (133)\n",
      "215:\tlearn: 0.3593537\ttest: 0.4385022\tbest: 0.4375885 (133)\n",
      "216:\tlearn: 0.3590261\ttest: 0.4385800\tbest: 0.4375885 (133)\n",
      "217:\tlearn: 0.3588309\ttest: 0.4385934\tbest: 0.4375885 (133)\n",
      "218:\tlearn: 0.3585801\ttest: 0.4385935\tbest: 0.4375885 (133)\n",
      "219:\tlearn: 0.3583780\ttest: 0.4386216\tbest: 0.4375885 (133)\n",
      "220:\tlearn: 0.3580797\ttest: 0.4386388\tbest: 0.4375885 (133)\n",
      "221:\tlearn: 0.3577709\ttest: 0.4386401\tbest: 0.4375885 (133)\n",
      "222:\tlearn: 0.3573673\ttest: 0.4387086\tbest: 0.4375885 (133)\n",
      "223:\tlearn: 0.3571016\ttest: 0.4387085\tbest: 0.4375885 (133)\n",
      "224:\tlearn: 0.3568321\ttest: 0.4386991\tbest: 0.4375885 (133)\n",
      "225:\tlearn: 0.3566390\ttest: 0.4386143\tbest: 0.4375885 (133)\n",
      "226:\tlearn: 0.3564095\ttest: 0.4385821\tbest: 0.4375885 (133)\n",
      "227:\tlearn: 0.3561967\ttest: 0.4384872\tbest: 0.4375885 (133)\n",
      "228:\tlearn: 0.3559370\ttest: 0.4384812\tbest: 0.4375885 (133)\n",
      "229:\tlearn: 0.3557657\ttest: 0.4384688\tbest: 0.4375885 (133)\n",
      "230:\tlearn: 0.3555358\ttest: 0.4384751\tbest: 0.4375885 (133)\n",
      "231:\tlearn: 0.3553385\ttest: 0.4384537\tbest: 0.4375885 (133)\n",
      "232:\tlearn: 0.3551346\ttest: 0.4383093\tbest: 0.4375885 (133)\n",
      "233:\tlearn: 0.3548736\ttest: 0.4382095\tbest: 0.4375885 (133)\n",
      "234:\tlearn: 0.3546293\ttest: 0.4382084\tbest: 0.4375885 (133)\n",
      "235:\tlearn: 0.3543651\ttest: 0.4381719\tbest: 0.4375885 (133)\n",
      "236:\tlearn: 0.3540571\ttest: 0.4383301\tbest: 0.4375885 (133)\n",
      "237:\tlearn: 0.3538283\ttest: 0.4383428\tbest: 0.4375885 (133)\n",
      "238:\tlearn: 0.3536310\ttest: 0.4384612\tbest: 0.4375885 (133)\n",
      "239:\tlearn: 0.3533910\ttest: 0.4383998\tbest: 0.4375885 (133)\n",
      "240:\tlearn: 0.3531714\ttest: 0.4384957\tbest: 0.4375885 (133)\n",
      "241:\tlearn: 0.3529498\ttest: 0.4384742\tbest: 0.4375885 (133)\n",
      "242:\tlearn: 0.3527305\ttest: 0.4384405\tbest: 0.4375885 (133)\n",
      "243:\tlearn: 0.3523957\ttest: 0.4382866\tbest: 0.4375885 (133)\n",
      "244:\tlearn: 0.3522325\ttest: 0.4382560\tbest: 0.4375885 (133)\n",
      "245:\tlearn: 0.3519822\ttest: 0.4383140\tbest: 0.4375885 (133)\n",
      "246:\tlearn: 0.3518709\ttest: 0.4383098\tbest: 0.4375885 (133)\n",
      "247:\tlearn: 0.3516785\ttest: 0.4383057\tbest: 0.4375885 (133)\n",
      "248:\tlearn: 0.3514462\ttest: 0.4383442\tbest: 0.4375885 (133)\n",
      "249:\tlearn: 0.3512615\ttest: 0.4385249\tbest: 0.4375885 (133)\n",
      "250:\tlearn: 0.3511086\ttest: 0.4384347\tbest: 0.4375885 (133)\n",
      "251:\tlearn: 0.3508537\ttest: 0.4383871\tbest: 0.4375885 (133)\n",
      "252:\tlearn: 0.3505646\ttest: 0.4384095\tbest: 0.4375885 (133)\n",
      "253:\tlearn: 0.3502972\ttest: 0.4383849\tbest: 0.4375885 (133)\n",
      "254:\tlearn: 0.3500620\ttest: 0.4382527\tbest: 0.4375885 (133)\n",
      "255:\tlearn: 0.3496578\ttest: 0.4381413\tbest: 0.4375885 (133)\n",
      "256:\tlearn: 0.3494402\ttest: 0.4382339\tbest: 0.4375885 (133)\n",
      "257:\tlearn: 0.3492245\ttest: 0.4381862\tbest: 0.4375885 (133)\n",
      "258:\tlearn: 0.3489938\ttest: 0.4380466\tbest: 0.4375885 (133)\n",
      "259:\tlearn: 0.3487838\ttest: 0.4380228\tbest: 0.4375885 (133)\n",
      "260:\tlearn: 0.3485245\ttest: 0.4381079\tbest: 0.4375885 (133)\n",
      "261:\tlearn: 0.3483311\ttest: 0.4382153\tbest: 0.4375885 (133)\n",
      "262:\tlearn: 0.3481169\ttest: 0.4382836\tbest: 0.4375885 (133)\n",
      "263:\tlearn: 0.3479288\ttest: 0.4383849\tbest: 0.4375885 (133)\n",
      "264:\tlearn: 0.3477250\ttest: 0.4385126\tbest: 0.4375885 (133)\n",
      "265:\tlearn: 0.3475114\ttest: 0.4386448\tbest: 0.4375885 (133)\n",
      "266:\tlearn: 0.3473040\ttest: 0.4386385\tbest: 0.4375885 (133)\n",
      "267:\tlearn: 0.3470589\ttest: 0.4386647\tbest: 0.4375885 (133)\n",
      "268:\tlearn: 0.3467922\ttest: 0.4387938\tbest: 0.4375885 (133)\n",
      "269:\tlearn: 0.3463460\ttest: 0.4386331\tbest: 0.4375885 (133)\n",
      "270:\tlearn: 0.3461522\ttest: 0.4385446\tbest: 0.4375885 (133)\n",
      "271:\tlearn: 0.3459472\ttest: 0.4385234\tbest: 0.4375885 (133)\n",
      "272:\tlearn: 0.3457528\ttest: 0.4385551\tbest: 0.4375885 (133)\n",
      "273:\tlearn: 0.3454603\ttest: 0.4387147\tbest: 0.4375885 (133)\n",
      "274:\tlearn: 0.3452277\ttest: 0.4387076\tbest: 0.4375885 (133)\n",
      "275:\tlearn: 0.3448932\ttest: 0.4385902\tbest: 0.4375885 (133)\n",
      "276:\tlearn: 0.3446775\ttest: 0.4386431\tbest: 0.4375885 (133)\n",
      "277:\tlearn: 0.3443555\ttest: 0.4387197\tbest: 0.4375885 (133)\n",
      "278:\tlearn: 0.3440870\ttest: 0.4386088\tbest: 0.4375885 (133)\n",
      "279:\tlearn: 0.3439100\ttest: 0.4386475\tbest: 0.4375885 (133)\ttotal: 10.5s\tremaining: 26.9s\n",
      "280:\tlearn: 0.3436557\ttest: 0.4385537\tbest: 0.4375885 (133)\n",
      "281:\tlearn: 0.3434167\ttest: 0.4384602\tbest: 0.4375885 (133)\n",
      "282:\tlearn: 0.3432213\ttest: 0.4383785\tbest: 0.4375885 (133)\n",
      "283:\tlearn: 0.3429632\ttest: 0.4383874\tbest: 0.4375885 (133)\n",
      "284:\tlearn: 0.3427279\ttest: 0.4383233\tbest: 0.4375885 (133)\n",
      "285:\tlearn: 0.3423478\ttest: 0.4382080\tbest: 0.4375885 (133)\n",
      "286:\tlearn: 0.3421475\ttest: 0.4380605\tbest: 0.4375885 (133)\n",
      "287:\tlearn: 0.3419452\ttest: 0.4379682\tbest: 0.4375885 (133)\n",
      "288:\tlearn: 0.3415879\ttest: 0.4380046\tbest: 0.4375885 (133)\n",
      "289:\tlearn: 0.3413856\ttest: 0.4380394\tbest: 0.4375885 (133)\n",
      "290:\tlearn: 0.3411096\ttest: 0.4381882\tbest: 0.4375885 (133)\n",
      "291:\tlearn: 0.3408025\ttest: 0.4382502\tbest: 0.4375885 (133)\n",
      "292:\tlearn: 0.3405731\ttest: 0.4381057\tbest: 0.4375885 (133)\n",
      "293:\tlearn: 0.3403689\ttest: 0.4381146\tbest: 0.4375885 (133)\n",
      "294:\tlearn: 0.3400989\ttest: 0.4381356\tbest: 0.4375885 (133)\n",
      "295:\tlearn: 0.3398965\ttest: 0.4380011\tbest: 0.4375885 (133)\n",
      "296:\tlearn: 0.3396538\ttest: 0.4379419\tbest: 0.4375885 (133)\n",
      "297:\tlearn: 0.3393595\ttest: 0.4379482\tbest: 0.4375885 (133)\n",
      "298:\tlearn: 0.3391208\ttest: 0.4379958\tbest: 0.4375885 (133)\n",
      "299:\tlearn: 0.3388870\ttest: 0.4378542\tbest: 0.4375885 (133)\n",
      "300:\tlearn: 0.3386254\ttest: 0.4377301\tbest: 0.4375885 (133)\n",
      "301:\tlearn: 0.3384212\ttest: 0.4378290\tbest: 0.4375885 (133)\n",
      "302:\tlearn: 0.3381298\ttest: 0.4377625\tbest: 0.4375885 (133)\n",
      "303:\tlearn: 0.3378125\ttest: 0.4376488\tbest: 0.4375885 (133)\n",
      "304:\tlearn: 0.3375607\ttest: 0.4376942\tbest: 0.4375885 (133)\n",
      "305:\tlearn: 0.3373273\ttest: 0.4377882\tbest: 0.4375885 (133)\n",
      "306:\tlearn: 0.3370584\ttest: 0.4379255\tbest: 0.4375885 (133)\n",
      "307:\tlearn: 0.3368230\ttest: 0.4378568\tbest: 0.4375885 (133)\n",
      "308:\tlearn: 0.3365431\ttest: 0.4377564\tbest: 0.4375885 (133)\n",
      "309:\tlearn: 0.3363557\ttest: 0.4377360\tbest: 0.4375885 (133)\n",
      "310:\tlearn: 0.3362263\ttest: 0.4376479\tbest: 0.4375885 (133)\n",
      "311:\tlearn: 0.3360123\ttest: 0.4377658\tbest: 0.4375885 (133)\n",
      "312:\tlearn: 0.3357681\ttest: 0.4377828\tbest: 0.4375885 (133)\n",
      "313:\tlearn: 0.3355690\ttest: 0.4378422\tbest: 0.4375885 (133)\n",
      "314:\tlearn: 0.3353338\ttest: 0.4378656\tbest: 0.4375885 (133)\n",
      "315:\tlearn: 0.3349513\ttest: 0.4377517\tbest: 0.4375885 (133)\n",
      "316:\tlearn: 0.3346888\ttest: 0.4379269\tbest: 0.4375885 (133)\n",
      "317:\tlearn: 0.3344431\ttest: 0.4380104\tbest: 0.4375885 (133)\n",
      "318:\tlearn: 0.3340466\ttest: 0.4378077\tbest: 0.4375885 (133)\n",
      "319:\tlearn: 0.3337123\ttest: 0.4377352\tbest: 0.4375885 (133)\n",
      "320:\tlearn: 0.3334570\ttest: 0.4377137\tbest: 0.4375885 (133)\n",
      "321:\tlearn: 0.3333133\ttest: 0.4377123\tbest: 0.4375885 (133)\n",
      "322:\tlearn: 0.3331288\ttest: 0.4376237\tbest: 0.4375885 (133)\n",
      "323:\tlearn: 0.3328783\ttest: 0.4378184\tbest: 0.4375885 (133)\n",
      "324:\tlearn: 0.3326506\ttest: 0.4379450\tbest: 0.4375885 (133)\n",
      "325:\tlearn: 0.3323718\ttest: 0.4379140\tbest: 0.4375885 (133)\n",
      "326:\tlearn: 0.3321323\ttest: 0.4378721\tbest: 0.4375885 (133)\n",
      "327:\tlearn: 0.3318821\ttest: 0.4376927\tbest: 0.4375885 (133)\n",
      "328:\tlearn: 0.3317225\ttest: 0.4376035\tbest: 0.4375885 (133)\n",
      "329:\tlearn: 0.3314536\ttest: 0.4374485\tbest: 0.4374485 (329)\n",
      "330:\tlearn: 0.3311282\ttest: 0.4374444\tbest: 0.4374444 (330)\n",
      "331:\tlearn: 0.3308753\ttest: 0.4374502\tbest: 0.4374444 (330)\n",
      "332:\tlearn: 0.3306346\ttest: 0.4373065\tbest: 0.4373065 (332)\n",
      "333:\tlearn: 0.3303400\ttest: 0.4373793\tbest: 0.4373065 (332)\n",
      "334:\tlearn: 0.3300807\ttest: 0.4371720\tbest: 0.4371720 (334)\n",
      "335:\tlearn: 0.3297862\ttest: 0.4370359\tbest: 0.4370359 (335)\n",
      "336:\tlearn: 0.3294132\ttest: 0.4370799\tbest: 0.4370359 (335)\n",
      "337:\tlearn: 0.3292497\ttest: 0.4369983\tbest: 0.4369983 (337)\n",
      "338:\tlearn: 0.3289398\ttest: 0.4370455\tbest: 0.4369983 (337)\n",
      "339:\tlearn: 0.3287701\ttest: 0.4370081\tbest: 0.4369983 (337)\n",
      "340:\tlearn: 0.3285422\ttest: 0.4369838\tbest: 0.4369838 (340)\n",
      "341:\tlearn: 0.3284065\ttest: 0.4369621\tbest: 0.4369621 (341)\n",
      "342:\tlearn: 0.3282162\ttest: 0.4368754\tbest: 0.4368754 (342)\n",
      "343:\tlearn: 0.3278872\ttest: 0.4369795\tbest: 0.4368754 (342)\n",
      "344:\tlearn: 0.3276196\ttest: 0.4369036\tbest: 0.4368754 (342)\n",
      "345:\tlearn: 0.3273406\ttest: 0.4370197\tbest: 0.4368754 (342)\n",
      "346:\tlearn: 0.3270503\ttest: 0.4368450\tbest: 0.4368450 (346)\n",
      "347:\tlearn: 0.3267963\ttest: 0.4368393\tbest: 0.4368393 (347)\n",
      "348:\tlearn: 0.3265800\ttest: 0.4368590\tbest: 0.4368393 (347)\n",
      "349:\tlearn: 0.3263532\ttest: 0.4367292\tbest: 0.4367292 (349)\n",
      "350:\tlearn: 0.3260335\ttest: 0.4367583\tbest: 0.4367292 (349)\n",
      "351:\tlearn: 0.3257708\ttest: 0.4366604\tbest: 0.4366604 (351)\n",
      "352:\tlearn: 0.3253966\ttest: 0.4366938\tbest: 0.4366604 (351)\n",
      "353:\tlearn: 0.3250437\ttest: 0.4368238\tbest: 0.4366604 (351)\n",
      "354:\tlearn: 0.3247261\ttest: 0.4366765\tbest: 0.4366604 (351)\n",
      "355:\tlearn: 0.3244062\ttest: 0.4366467\tbest: 0.4366467 (355)\n",
      "356:\tlearn: 0.3240140\ttest: 0.4365042\tbest: 0.4365042 (356)\n",
      "357:\tlearn: 0.3237978\ttest: 0.4364610\tbest: 0.4364610 (357)\n",
      "358:\tlearn: 0.3235661\ttest: 0.4363365\tbest: 0.4363365 (358)\n",
      "359:\tlearn: 0.3232346\ttest: 0.4362946\tbest: 0.4362946 (359)\n",
      "360:\tlearn: 0.3229731\ttest: 0.4362601\tbest: 0.4362601 (360)\n",
      "361:\tlearn: 0.3226895\ttest: 0.4362893\tbest: 0.4362601 (360)\n",
      "362:\tlearn: 0.3224657\ttest: 0.4363458\tbest: 0.4362601 (360)\n",
      "363:\tlearn: 0.3222638\ttest: 0.4362912\tbest: 0.4362601 (360)\n",
      "364:\tlearn: 0.3220629\ttest: 0.4362599\tbest: 0.4362599 (364)\n",
      "365:\tlearn: 0.3218270\ttest: 0.4361374\tbest: 0.4361374 (365)\n",
      "366:\tlearn: 0.3216175\ttest: 0.4360940\tbest: 0.4360940 (366)\n",
      "367:\tlearn: 0.3213807\ttest: 0.4362397\tbest: 0.4360940 (366)\n",
      "368:\tlearn: 0.3211389\ttest: 0.4361821\tbest: 0.4360940 (366)\n",
      "369:\tlearn: 0.3209201\ttest: 0.4361287\tbest: 0.4360940 (366)\n",
      "370:\tlearn: 0.3206996\ttest: 0.4363473\tbest: 0.4360940 (366)\n",
      "371:\tlearn: 0.3205512\ttest: 0.4363766\tbest: 0.4360940 (366)\n",
      "372:\tlearn: 0.3202935\ttest: 0.4364415\tbest: 0.4360940 (366)\n",
      "373:\tlearn: 0.3199733\ttest: 0.4364016\tbest: 0.4360940 (366)\n",
      "374:\tlearn: 0.3197546\ttest: 0.4361238\tbest: 0.4360940 (366)\n",
      "375:\tlearn: 0.3194998\ttest: 0.4360068\tbest: 0.4360068 (375)\n",
      "376:\tlearn: 0.3193330\ttest: 0.4359073\tbest: 0.4359073 (376)\n",
      "377:\tlearn: 0.3190245\ttest: 0.4359349\tbest: 0.4359073 (376)\n",
      "378:\tlearn: 0.3187537\ttest: 0.4358808\tbest: 0.4358808 (378)\n",
      "379:\tlearn: 0.3184060\ttest: 0.4356311\tbest: 0.4356311 (379)\n",
      "380:\tlearn: 0.3181248\ttest: 0.4354707\tbest: 0.4354707 (380)\n",
      "381:\tlearn: 0.3178498\ttest: 0.4355437\tbest: 0.4354707 (380)\n",
      "382:\tlearn: 0.3175611\ttest: 0.4354001\tbest: 0.4354001 (382)\n",
      "383:\tlearn: 0.3172598\ttest: 0.4353746\tbest: 0.4353746 (383)\n",
      "384:\tlearn: 0.3169572\ttest: 0.4353126\tbest: 0.4353126 (384)\n",
      "385:\tlearn: 0.3167215\ttest: 0.4352901\tbest: 0.4352901 (385)\n",
      "386:\tlearn: 0.3164149\ttest: 0.4351131\tbest: 0.4351131 (386)\n",
      "387:\tlearn: 0.3161261\ttest: 0.4349882\tbest: 0.4349882 (387)\n",
      "388:\tlearn: 0.3159371\ttest: 0.4350494\tbest: 0.4349882 (387)\n",
      "389:\tlearn: 0.3157148\ttest: 0.4349581\tbest: 0.4349581 (389)\n",
      "390:\tlearn: 0.3154436\ttest: 0.4350426\tbest: 0.4349581 (389)\n",
      "391:\tlearn: 0.3152268\ttest: 0.4350898\tbest: 0.4349581 (389)\n",
      "392:\tlearn: 0.3149894\ttest: 0.4349402\tbest: 0.4349402 (392)\n",
      "393:\tlearn: 0.3147009\ttest: 0.4350295\tbest: 0.4349402 (392)\n",
      "394:\tlearn: 0.3145509\ttest: 0.4349972\tbest: 0.4349402 (392)\n",
      "395:\tlearn: 0.3142341\ttest: 0.4348099\tbest: 0.4348099 (395)\n",
      "396:\tlearn: 0.3140547\ttest: 0.4347227\tbest: 0.4347227 (396)\n",
      "397:\tlearn: 0.3138824\ttest: 0.4346651\tbest: 0.4346651 (397)\n",
      "398:\tlearn: 0.3135644\ttest: 0.4347791\tbest: 0.4346651 (397)\n",
      "399:\tlearn: 0.3133542\ttest: 0.4347319\tbest: 0.4346651 (397)\n",
      "400:\tlearn: 0.3130427\ttest: 0.4346715\tbest: 0.4346651 (397)\n",
      "401:\tlearn: 0.3128429\ttest: 0.4346582\tbest: 0.4346582 (401)\n",
      "402:\tlearn: 0.3125189\ttest: 0.4346303\tbest: 0.4346303 (402)\n",
      "403:\tlearn: 0.3123714\ttest: 0.4346489\tbest: 0.4346303 (402)\n",
      "404:\tlearn: 0.3121366\ttest: 0.4345181\tbest: 0.4345181 (404)\n",
      "405:\tlearn: 0.3118856\ttest: 0.4343588\tbest: 0.4343588 (405)\n",
      "406:\tlearn: 0.3116674\ttest: 0.4342290\tbest: 0.4342290 (406)\n",
      "407:\tlearn: 0.3114747\ttest: 0.4343566\tbest: 0.4342290 (406)\n",
      "408:\tlearn: 0.3112946\ttest: 0.4343944\tbest: 0.4342290 (406)\n",
      "409:\tlearn: 0.3110290\ttest: 0.4343321\tbest: 0.4342290 (406)\n",
      "410:\tlearn: 0.3107620\ttest: 0.4343302\tbest: 0.4342290 (406)\n",
      "411:\tlearn: 0.3105449\ttest: 0.4343672\tbest: 0.4342290 (406)\n",
      "412:\tlearn: 0.3104064\ttest: 0.4342348\tbest: 0.4342290 (406)\n",
      "413:\tlearn: 0.3101743\ttest: 0.4343174\tbest: 0.4342290 (406)\n",
      "414:\tlearn: 0.3098958\ttest: 0.4340977\tbest: 0.4340977 (414)\n",
      "415:\tlearn: 0.3097118\ttest: 0.4339599\tbest: 0.4339599 (415)\n",
      "416:\tlearn: 0.3094871\ttest: 0.4338547\tbest: 0.4338547 (416)\n",
      "417:\tlearn: 0.3092785\ttest: 0.4338600\tbest: 0.4338547 (416)\n",
      "418:\tlearn: 0.3091067\ttest: 0.4337999\tbest: 0.4337999 (418)\n",
      "419:\tlearn: 0.3088697\ttest: 0.4338564\tbest: 0.4337999 (418)\n",
      "420:\tlearn: 0.3086328\ttest: 0.4337990\tbest: 0.4337990 (420)\n",
      "421:\tlearn: 0.3084647\ttest: 0.4336245\tbest: 0.4336245 (421)\n",
      "422:\tlearn: 0.3082750\ttest: 0.4335538\tbest: 0.4335538 (422)\n",
      "423:\tlearn: 0.3080585\ttest: 0.4335020\tbest: 0.4335020 (423)\n",
      "424:\tlearn: 0.3078761\ttest: 0.4334475\tbest: 0.4334475 (424)\n",
      "425:\tlearn: 0.3076162\ttest: 0.4334846\tbest: 0.4334475 (424)\n",
      "426:\tlearn: 0.3073411\ttest: 0.4334663\tbest: 0.4334475 (424)\n",
      "427:\tlearn: 0.3071439\ttest: 0.4333976\tbest: 0.4333976 (427)\n",
      "428:\tlearn: 0.3068126\ttest: 0.4334408\tbest: 0.4333976 (427)\n",
      "429:\tlearn: 0.3065275\ttest: 0.4334660\tbest: 0.4333976 (427)\n",
      "430:\tlearn: 0.3063892\ttest: 0.4334690\tbest: 0.4333976 (427)\n",
      "431:\tlearn: 0.3062245\ttest: 0.4335169\tbest: 0.4333976 (427)\n",
      "432:\tlearn: 0.3059580\ttest: 0.4333669\tbest: 0.4333669 (432)\n",
      "433:\tlearn: 0.3056850\ttest: 0.4335092\tbest: 0.4333669 (432)\n",
      "434:\tlearn: 0.3054192\ttest: 0.4335065\tbest: 0.4333669 (432)\n",
      "435:\tlearn: 0.3052204\ttest: 0.4334206\tbest: 0.4333669 (432)\n",
      "436:\tlearn: 0.3050698\ttest: 0.4335151\tbest: 0.4333669 (432)\n",
      "437:\tlearn: 0.3047879\ttest: 0.4334492\tbest: 0.4333669 (432)\n",
      "438:\tlearn: 0.3046007\ttest: 0.4333917\tbest: 0.4333669 (432)\n",
      "439:\tlearn: 0.3044894\ttest: 0.4334150\tbest: 0.4333669 (432)\n",
      "440:\tlearn: 0.3043265\ttest: 0.4335227\tbest: 0.4333669 (432)\ttotal: 17s\tremaining: 21.6s\n",
      "441:\tlearn: 0.3041210\ttest: 0.4334722\tbest: 0.4333669 (432)\n",
      "442:\tlearn: 0.3039089\ttest: 0.4333488\tbest: 0.4333488 (442)\n",
      "443:\tlearn: 0.3037218\ttest: 0.4334071\tbest: 0.4333488 (442)\n",
      "444:\tlearn: 0.3034592\ttest: 0.4334150\tbest: 0.4333488 (442)\n",
      "445:\tlearn: 0.3032770\ttest: 0.4333923\tbest: 0.4333488 (442)\n",
      "446:\tlearn: 0.3031330\ttest: 0.4332800\tbest: 0.4332800 (446)\n",
      "447:\tlearn: 0.3028994\ttest: 0.4329278\tbest: 0.4329278 (447)\n",
      "448:\tlearn: 0.3027010\ttest: 0.4330282\tbest: 0.4329278 (447)\n",
      "449:\tlearn: 0.3024936\ttest: 0.4328578\tbest: 0.4328578 (449)\n",
      "450:\tlearn: 0.3023059\ttest: 0.4327987\tbest: 0.4327987 (450)\n",
      "451:\tlearn: 0.3020904\ttest: 0.4329107\tbest: 0.4327987 (450)\n",
      "452:\tlearn: 0.3019433\ttest: 0.4329241\tbest: 0.4327987 (450)\n",
      "453:\tlearn: 0.3018141\ttest: 0.4329378\tbest: 0.4327987 (450)\n",
      "454:\tlearn: 0.3015555\ttest: 0.4328649\tbest: 0.4327987 (450)\n",
      "455:\tlearn: 0.3013535\ttest: 0.4327188\tbest: 0.4327188 (455)\n",
      "456:\tlearn: 0.3010889\ttest: 0.4327817\tbest: 0.4327188 (455)\n",
      "457:\tlearn: 0.3008086\ttest: 0.4327766\tbest: 0.4327188 (455)\n",
      "458:\tlearn: 0.3005801\ttest: 0.4328156\tbest: 0.4327188 (455)\n",
      "459:\tlearn: 0.3003333\ttest: 0.4325987\tbest: 0.4325987 (459)\n",
      "460:\tlearn: 0.3000832\ttest: 0.4324942\tbest: 0.4324942 (460)\n",
      "461:\tlearn: 0.2998646\ttest: 0.4324690\tbest: 0.4324690 (461)\n",
      "462:\tlearn: 0.2996204\ttest: 0.4324480\tbest: 0.4324480 (462)\n",
      "463:\tlearn: 0.2994862\ttest: 0.4326292\tbest: 0.4324480 (462)\n",
      "464:\tlearn: 0.2992283\ttest: 0.4327959\tbest: 0.4324480 (462)\n",
      "465:\tlearn: 0.2990366\ttest: 0.4327003\tbest: 0.4324480 (462)\n",
      "466:\tlearn: 0.2988784\ttest: 0.4326385\tbest: 0.4324480 (462)\n",
      "467:\tlearn: 0.2987069\ttest: 0.4326653\tbest: 0.4324480 (462)\n",
      "468:\tlearn: 0.2985830\ttest: 0.4327125\tbest: 0.4324480 (462)\n",
      "469:\tlearn: 0.2984118\ttest: 0.4326891\tbest: 0.4324480 (462)\n",
      "470:\tlearn: 0.2981729\ttest: 0.4325060\tbest: 0.4324480 (462)\n",
      "471:\tlearn: 0.2979328\ttest: 0.4325909\tbest: 0.4324480 (462)\n",
      "472:\tlearn: 0.2978276\ttest: 0.4326549\tbest: 0.4324480 (462)\n",
      "473:\tlearn: 0.2975579\ttest: 0.4326632\tbest: 0.4324480 (462)\n",
      "474:\tlearn: 0.2972968\ttest: 0.4325919\tbest: 0.4324480 (462)\n",
      "475:\tlearn: 0.2971479\ttest: 0.4326777\tbest: 0.4324480 (462)\n",
      "476:\tlearn: 0.2969490\ttest: 0.4327187\tbest: 0.4324480 (462)\n",
      "477:\tlearn: 0.2967631\ttest: 0.4327412\tbest: 0.4324480 (462)\n",
      "478:\tlearn: 0.2966104\ttest: 0.4327108\tbest: 0.4324480 (462)\n",
      "479:\tlearn: 0.2964490\ttest: 0.4327801\tbest: 0.4324480 (462)\n",
      "480:\tlearn: 0.2962549\ttest: 0.4327436\tbest: 0.4324480 (462)\n",
      "481:\tlearn: 0.2960840\ttest: 0.4327054\tbest: 0.4324480 (462)\n",
      "482:\tlearn: 0.2958660\ttest: 0.4326407\tbest: 0.4324480 (462)\n",
      "483:\tlearn: 0.2957413\ttest: 0.4326316\tbest: 0.4324480 (462)\n",
      "484:\tlearn: 0.2956130\ttest: 0.4325706\tbest: 0.4324480 (462)\n",
      "485:\tlearn: 0.2953517\ttest: 0.4326891\tbest: 0.4324480 (462)\n",
      "486:\tlearn: 0.2951294\ttest: 0.4327107\tbest: 0.4324480 (462)\n",
      "487:\tlearn: 0.2949426\ttest: 0.4326673\tbest: 0.4324480 (462)\n",
      "488:\tlearn: 0.2947359\ttest: 0.4326532\tbest: 0.4324480 (462)\n",
      "489:\tlearn: 0.2945112\ttest: 0.4326885\tbest: 0.4324480 (462)\n",
      "490:\tlearn: 0.2942218\ttest: 0.4324909\tbest: 0.4324480 (462)\n",
      "491:\tlearn: 0.2940688\ttest: 0.4325520\tbest: 0.4324480 (462)\n",
      "492:\tlearn: 0.2938719\ttest: 0.4326677\tbest: 0.4324480 (462)\n",
      "493:\tlearn: 0.2937111\ttest: 0.4326740\tbest: 0.4324480 (462)\n",
      "494:\tlearn: 0.2934683\ttest: 0.4324956\tbest: 0.4324480 (462)\n",
      "495:\tlearn: 0.2932257\ttest: 0.4325820\tbest: 0.4324480 (462)\n",
      "496:\tlearn: 0.2929713\ttest: 0.4324471\tbest: 0.4324471 (496)\n",
      "497:\tlearn: 0.2927967\ttest: 0.4324620\tbest: 0.4324471 (496)\n",
      "498:\tlearn: 0.2926069\ttest: 0.4324871\tbest: 0.4324471 (496)\n",
      "499:\tlearn: 0.2923616\ttest: 0.4322858\tbest: 0.4322858 (499)\n",
      "500:\tlearn: 0.2921383\ttest: 0.4321932\tbest: 0.4321932 (500)\n",
      "501:\tlearn: 0.2919203\ttest: 0.4321563\tbest: 0.4321563 (501)\n",
      "502:\tlearn: 0.2917474\ttest: 0.4320750\tbest: 0.4320750 (502)\n",
      "503:\tlearn: 0.2916215\ttest: 0.4320758\tbest: 0.4320750 (502)\n",
      "504:\tlearn: 0.2914578\ttest: 0.4321760\tbest: 0.4320750 (502)\n",
      "505:\tlearn: 0.2912905\ttest: 0.4321396\tbest: 0.4320750 (502)\n",
      "506:\tlearn: 0.2911113\ttest: 0.4322348\tbest: 0.4320750 (502)\n",
      "507:\tlearn: 0.2909141\ttest: 0.4322360\tbest: 0.4320750 (502)\n",
      "508:\tlearn: 0.2907033\ttest: 0.4322191\tbest: 0.4320750 (502)\n",
      "509:\tlearn: 0.2905859\ttest: 0.4321803\tbest: 0.4320750 (502)\n",
      "510:\tlearn: 0.2904588\ttest: 0.4323145\tbest: 0.4320750 (502)\n",
      "511:\tlearn: 0.2902472\ttest: 0.4323184\tbest: 0.4320750 (502)\n",
      "512:\tlearn: 0.2900302\ttest: 0.4323536\tbest: 0.4320750 (502)\n",
      "513:\tlearn: 0.2899043\ttest: 0.4323741\tbest: 0.4320750 (502)\n",
      "514:\tlearn: 0.2896890\ttest: 0.4323133\tbest: 0.4320750 (502)\n",
      "515:\tlearn: 0.2895086\ttest: 0.4323757\tbest: 0.4320750 (502)\n",
      "516:\tlearn: 0.2893909\ttest: 0.4323544\tbest: 0.4320750 (502)\n",
      "517:\tlearn: 0.2891612\ttest: 0.4324176\tbest: 0.4320750 (502)\n",
      "518:\tlearn: 0.2890519\ttest: 0.4325559\tbest: 0.4320750 (502)\n",
      "519:\tlearn: 0.2889281\ttest: 0.4325846\tbest: 0.4320750 (502)\n",
      "520:\tlearn: 0.2887551\ttest: 0.4325428\tbest: 0.4320750 (502)\n",
      "521:\tlearn: 0.2886172\ttest: 0.4325502\tbest: 0.4320750 (502)\n",
      "522:\tlearn: 0.2884357\ttest: 0.4324712\tbest: 0.4320750 (502)\n",
      "523:\tlearn: 0.2882237\ttest: 0.4326460\tbest: 0.4320750 (502)\n",
      "524:\tlearn: 0.2880393\ttest: 0.4325946\tbest: 0.4320750 (502)\n",
      "525:\tlearn: 0.2878791\ttest: 0.4326951\tbest: 0.4320750 (502)\n",
      "526:\tlearn: 0.2876788\ttest: 0.4327238\tbest: 0.4320750 (502)\n",
      "527:\tlearn: 0.2875348\ttest: 0.4327696\tbest: 0.4320750 (502)\n",
      "528:\tlearn: 0.2872599\ttest: 0.4327186\tbest: 0.4320750 (502)\n",
      "529:\tlearn: 0.2870168\ttest: 0.4328814\tbest: 0.4320750 (502)\n",
      "530:\tlearn: 0.2868869\ttest: 0.4328016\tbest: 0.4320750 (502)\n",
      "531:\tlearn: 0.2865942\ttest: 0.4326157\tbest: 0.4320750 (502)\n",
      "532:\tlearn: 0.2864453\ttest: 0.4325459\tbest: 0.4320750 (502)\n",
      "533:\tlearn: 0.2862115\ttest: 0.4324408\tbest: 0.4320750 (502)\n",
      "534:\tlearn: 0.2860609\ttest: 0.4324721\tbest: 0.4320750 (502)\n",
      "535:\tlearn: 0.2859668\ttest: 0.4324253\tbest: 0.4320750 (502)\n",
      "536:\tlearn: 0.2857922\ttest: 0.4324755\tbest: 0.4320750 (502)\n",
      "537:\tlearn: 0.2855471\ttest: 0.4325801\tbest: 0.4320750 (502)\n",
      "538:\tlearn: 0.2853909\ttest: 0.4326568\tbest: 0.4320750 (502)\n",
      "539:\tlearn: 0.2852147\ttest: 0.4326997\tbest: 0.4320750 (502)\n",
      "540:\tlearn: 0.2850713\ttest: 0.4327175\tbest: 0.4320750 (502)\n",
      "541:\tlearn: 0.2849118\ttest: 0.4327890\tbest: 0.4320750 (502)\n",
      "542:\tlearn: 0.2847186\ttest: 0.4326889\tbest: 0.4320750 (502)\n",
      "543:\tlearn: 0.2844702\ttest: 0.4328503\tbest: 0.4320750 (502)\n",
      "544:\tlearn: 0.2842953\ttest: 0.4329690\tbest: 0.4320750 (502)\n",
      "545:\tlearn: 0.2841451\ttest: 0.4328476\tbest: 0.4320750 (502)\n",
      "546:\tlearn: 0.2839743\ttest: 0.4328829\tbest: 0.4320750 (502)\n",
      "547:\tlearn: 0.2837447\ttest: 0.4328972\tbest: 0.4320750 (502)\n",
      "548:\tlearn: 0.2836129\ttest: 0.4328757\tbest: 0.4320750 (502)\n",
      "549:\tlearn: 0.2834452\ttest: 0.4328815\tbest: 0.4320750 (502)\n",
      "550:\tlearn: 0.2832135\ttest: 0.4328405\tbest: 0.4320750 (502)\n",
      "551:\tlearn: 0.2829742\ttest: 0.4330066\tbest: 0.4320750 (502)\n",
      "552:\tlearn: 0.2827988\ttest: 0.4329146\tbest: 0.4320750 (502)\n",
      "553:\tlearn: 0.2825728\ttest: 0.4328998\tbest: 0.4320750 (502)\n",
      "554:\tlearn: 0.2823691\ttest: 0.4329402\tbest: 0.4320750 (502)\n",
      "555:\tlearn: 0.2821809\ttest: 0.4329173\tbest: 0.4320750 (502)\n",
      "556:\tlearn: 0.2820197\ttest: 0.4328921\tbest: 0.4320750 (502)\n",
      "557:\tlearn: 0.2818924\ttest: 0.4329016\tbest: 0.4320750 (502)\n",
      "558:\tlearn: 0.2816504\ttest: 0.4328544\tbest: 0.4320750 (502)\n",
      "559:\tlearn: 0.2814721\ttest: 0.4327695\tbest: 0.4320750 (502)\n",
      "560:\tlearn: 0.2813465\ttest: 0.4326739\tbest: 0.4320750 (502)\n",
      "561:\tlearn: 0.2811486\ttest: 0.4328089\tbest: 0.4320750 (502)\n",
      "562:\tlearn: 0.2810335\ttest: 0.4328166\tbest: 0.4320750 (502)\n",
      "563:\tlearn: 0.2808697\ttest: 0.4327221\tbest: 0.4320750 (502)\n",
      "564:\tlearn: 0.2807399\ttest: 0.4327380\tbest: 0.4320750 (502)\n",
      "565:\tlearn: 0.2805555\ttest: 0.4327596\tbest: 0.4320750 (502)\n",
      "566:\tlearn: 0.2803450\ttest: 0.4326869\tbest: 0.4320750 (502)\n",
      "567:\tlearn: 0.2802396\ttest: 0.4327315\tbest: 0.4320750 (502)\n",
      "568:\tlearn: 0.2800372\ttest: 0.4327737\tbest: 0.4320750 (502)\n",
      "569:\tlearn: 0.2798955\ttest: 0.4327171\tbest: 0.4320750 (502)\n",
      "570:\tlearn: 0.2797142\ttest: 0.4327944\tbest: 0.4320750 (502)\n",
      "571:\tlearn: 0.2795052\ttest: 0.4327580\tbest: 0.4320750 (502)\n",
      "572:\tlearn: 0.2793476\ttest: 0.4327594\tbest: 0.4320750 (502)\n",
      "573:\tlearn: 0.2792016\ttest: 0.4327965\tbest: 0.4320750 (502)\n",
      "574:\tlearn: 0.2790102\ttest: 0.4328137\tbest: 0.4320750 (502)\n",
      "575:\tlearn: 0.2788207\ttest: 0.4327985\tbest: 0.4320750 (502)\n",
      "576:\tlearn: 0.2786421\ttest: 0.4327223\tbest: 0.4320750 (502)\n",
      "577:\tlearn: 0.2784512\ttest: 0.4326129\tbest: 0.4320750 (502)\n",
      "578:\tlearn: 0.2782333\ttest: 0.4326789\tbest: 0.4320750 (502)\n",
      "579:\tlearn: 0.2781486\ttest: 0.4326991\tbest: 0.4320750 (502)\n",
      "580:\tlearn: 0.2780042\ttest: 0.4327089\tbest: 0.4320750 (502)\n",
      "581:\tlearn: 0.2778893\ttest: 0.4326415\tbest: 0.4320750 (502)\n",
      "582:\tlearn: 0.2776271\ttest: 0.4327159\tbest: 0.4320750 (502)\n",
      "583:\tlearn: 0.2774387\ttest: 0.4328132\tbest: 0.4320750 (502)\n",
      "584:\tlearn: 0.2772571\ttest: 0.4326921\tbest: 0.4320750 (502)\n",
      "585:\tlearn: 0.2771170\ttest: 0.4326261\tbest: 0.4320750 (502)\n",
      "586:\tlearn: 0.2768953\ttest: 0.4328484\tbest: 0.4320750 (502)\n",
      "587:\tlearn: 0.2767808\ttest: 0.4328367\tbest: 0.4320750 (502)\n",
      "588:\tlearn: 0.2765733\ttest: 0.4328775\tbest: 0.4320750 (502)\n",
      "589:\tlearn: 0.2764428\ttest: 0.4328948\tbest: 0.4320750 (502)\n",
      "590:\tlearn: 0.2762799\ttest: 0.4328413\tbest: 0.4320750 (502)\n",
      "591:\tlearn: 0.2760702\ttest: 0.4330142\tbest: 0.4320750 (502)\n",
      "592:\tlearn: 0.2759141\ttest: 0.4330439\tbest: 0.4320750 (502)\n",
      "593:\tlearn: 0.2757603\ttest: 0.4329222\tbest: 0.4320750 (502)\n",
      "594:\tlearn: 0.2755819\ttest: 0.4330234\tbest: 0.4320750 (502)\n",
      "595:\tlearn: 0.2754550\ttest: 0.4329475\tbest: 0.4320750 (502)\n",
      "596:\tlearn: 0.2752413\ttest: 0.4329378\tbest: 0.4320750 (502)\n",
      "597:\tlearn: 0.2751379\ttest: 0.4329452\tbest: 0.4320750 (502)\n",
      "598:\tlearn: 0.2750115\ttest: 0.4328607\tbest: 0.4320750 (502)\n",
      "599:\tlearn: 0.2747803\ttest: 0.4328463\tbest: 0.4320750 (502)\n",
      "600:\tlearn: 0.2746707\ttest: 0.4328335\tbest: 0.4320750 (502)\n",
      "601:\tlearn: 0.2745631\ttest: 0.4327282\tbest: 0.4320750 (502)\n",
      "602:\tlearn: 0.2743213\ttest: 0.4328321\tbest: 0.4320750 (502)\n",
      "603:\tlearn: 0.2741890\ttest: 0.4327619\tbest: 0.4320750 (502)\n",
      "604:\tlearn: 0.2740537\ttest: 0.4328202\tbest: 0.4320750 (502)\n",
      "605:\tlearn: 0.2738192\ttest: 0.4328200\tbest: 0.4320750 (502)\n",
      "606:\tlearn: 0.2736358\ttest: 0.4327366\tbest: 0.4320750 (502)\n",
      "607:\tlearn: 0.2734501\ttest: 0.4326341\tbest: 0.4320750 (502)\n",
      "608:\tlearn: 0.2732974\ttest: 0.4326443\tbest: 0.4320750 (502)\n",
      "609:\tlearn: 0.2731342\ttest: 0.4325822\tbest: 0.4320750 (502)\n",
      "610:\tlearn: 0.2729886\ttest: 0.4325949\tbest: 0.4320750 (502)\n",
      "611:\tlearn: 0.2729004\ttest: 0.4325940\tbest: 0.4320750 (502)\n",
      "612:\tlearn: 0.2727616\ttest: 0.4325734\tbest: 0.4320750 (502)\n",
      "613:\tlearn: 0.2726017\ttest: 0.4325667\tbest: 0.4320750 (502)\n",
      "614:\tlearn: 0.2724360\ttest: 0.4325300\tbest: 0.4320750 (502)\n",
      "615:\tlearn: 0.2723018\ttest: 0.4326013\tbest: 0.4320750 (502)\n",
      "616:\tlearn: 0.2721762\ttest: 0.4325721\tbest: 0.4320750 (502)\n",
      "617:\tlearn: 0.2719939\ttest: 0.4325070\tbest: 0.4320750 (502)\ttotal: 25.6s\tremaining: 15.8s\n",
      "618:\tlearn: 0.2717858\ttest: 0.4324518\tbest: 0.4320750 (502)\n",
      "619:\tlearn: 0.2716720\ttest: 0.4324867\tbest: 0.4320750 (502)\n",
      "620:\tlearn: 0.2715063\ttest: 0.4325736\tbest: 0.4320750 (502)\n",
      "621:\tlearn: 0.2713287\ttest: 0.4326050\tbest: 0.4320750 (502)\n",
      "622:\tlearn: 0.2711352\ttest: 0.4325842\tbest: 0.4320750 (502)\n",
      "623:\tlearn: 0.2710503\ttest: 0.4326387\tbest: 0.4320750 (502)\n",
      "624:\tlearn: 0.2708940\ttest: 0.4324586\tbest: 0.4320750 (502)\n",
      "625:\tlearn: 0.2707881\ttest: 0.4324854\tbest: 0.4320750 (502)\n",
      "626:\tlearn: 0.2705674\ttest: 0.4325663\tbest: 0.4320750 (502)\n",
      "627:\tlearn: 0.2704238\ttest: 0.4326424\tbest: 0.4320750 (502)\n",
      "628:\tlearn: 0.2702725\ttest: 0.4327886\tbest: 0.4320750 (502)\n",
      "629:\tlearn: 0.2701433\ttest: 0.4328075\tbest: 0.4320750 (502)\n",
      "630:\tlearn: 0.2699980\ttest: 0.4327958\tbest: 0.4320750 (502)\n",
      "631:\tlearn: 0.2698666\ttest: 0.4327766\tbest: 0.4320750 (502)\n",
      "632:\tlearn: 0.2697385\ttest: 0.4326474\tbest: 0.4320750 (502)\n",
      "633:\tlearn: 0.2695756\ttest: 0.4326749\tbest: 0.4320750 (502)\n",
      "634:\tlearn: 0.2694435\ttest: 0.4327626\tbest: 0.4320750 (502)\n",
      "635:\tlearn: 0.2692936\ttest: 0.4327589\tbest: 0.4320750 (502)\n",
      "636:\tlearn: 0.2691704\ttest: 0.4328505\tbest: 0.4320750 (502)\n",
      "637:\tlearn: 0.2689731\ttest: 0.4330727\tbest: 0.4320750 (502)\n",
      "638:\tlearn: 0.2688583\ttest: 0.4331141\tbest: 0.4320750 (502)\n",
      "639:\tlearn: 0.2687352\ttest: 0.4332108\tbest: 0.4320750 (502)\n",
      "640:\tlearn: 0.2685942\ttest: 0.4332290\tbest: 0.4320750 (502)\n",
      "641:\tlearn: 0.2684252\ttest: 0.4332519\tbest: 0.4320750 (502)\n",
      "642:\tlearn: 0.2682024\ttest: 0.4331581\tbest: 0.4320750 (502)\n",
      "643:\tlearn: 0.2680885\ttest: 0.4331224\tbest: 0.4320750 (502)\n",
      "644:\tlearn: 0.2679554\ttest: 0.4331513\tbest: 0.4320750 (502)\n",
      "645:\tlearn: 0.2678022\ttest: 0.4332058\tbest: 0.4320750 (502)\n",
      "646:\tlearn: 0.2676298\ttest: 0.4333142\tbest: 0.4320750 (502)\n",
      "647:\tlearn: 0.2675201\ttest: 0.4332741\tbest: 0.4320750 (502)\n",
      "648:\tlearn: 0.2673226\ttest: 0.4331602\tbest: 0.4320750 (502)\n",
      "649:\tlearn: 0.2671952\ttest: 0.4330764\tbest: 0.4320750 (502)\n",
      "650:\tlearn: 0.2670805\ttest: 0.4330997\tbest: 0.4320750 (502)\n",
      "651:\tlearn: 0.2668858\ttest: 0.4332275\tbest: 0.4320750 (502)\n",
      "652:\tlearn: 0.2667143\ttest: 0.4332578\tbest: 0.4320750 (502)\n",
      "653:\tlearn: 0.2665468\ttest: 0.4332153\tbest: 0.4320750 (502)\n",
      "654:\tlearn: 0.2664357\ttest: 0.4332009\tbest: 0.4320750 (502)\n",
      "655:\tlearn: 0.2662375\ttest: 0.4331113\tbest: 0.4320750 (502)\n",
      "656:\tlearn: 0.2660639\ttest: 0.4331876\tbest: 0.4320750 (502)\n",
      "657:\tlearn: 0.2659146\ttest: 0.4333208\tbest: 0.4320750 (502)\n",
      "658:\tlearn: 0.2658063\ttest: 0.4333593\tbest: 0.4320750 (502)\n",
      "659:\tlearn: 0.2656487\ttest: 0.4333466\tbest: 0.4320750 (502)\n",
      "660:\tlearn: 0.2654774\ttest: 0.4332305\tbest: 0.4320750 (502)\n",
      "661:\tlearn: 0.2653547\ttest: 0.4333336\tbest: 0.4320750 (502)\n",
      "662:\tlearn: 0.2652237\ttest: 0.4332392\tbest: 0.4320750 (502)\n",
      "663:\tlearn: 0.2651241\ttest: 0.4332865\tbest: 0.4320750 (502)\n",
      "664:\tlearn: 0.2650433\ttest: 0.4332288\tbest: 0.4320750 (502)\n",
      "665:\tlearn: 0.2648889\ttest: 0.4332683\tbest: 0.4320750 (502)\n",
      "666:\tlearn: 0.2647214\ttest: 0.4333540\tbest: 0.4320750 (502)\n",
      "667:\tlearn: 0.2645940\ttest: 0.4333332\tbest: 0.4320750 (502)\n",
      "668:\tlearn: 0.2644431\ttest: 0.4333486\tbest: 0.4320750 (502)\n",
      "669:\tlearn: 0.2642170\ttest: 0.4333743\tbest: 0.4320750 (502)\n",
      "670:\tlearn: 0.2640749\ttest: 0.4333106\tbest: 0.4320750 (502)\n",
      "671:\tlearn: 0.2639191\ttest: 0.4333322\tbest: 0.4320750 (502)\n",
      "672:\tlearn: 0.2637386\ttest: 0.4333542\tbest: 0.4320750 (502)\n",
      "673:\tlearn: 0.2635263\ttest: 0.4333502\tbest: 0.4320750 (502)\n",
      "674:\tlearn: 0.2634025\ttest: 0.4333465\tbest: 0.4320750 (502)\ttotal: 28.6s\tremaining: 13.8s\n",
      "675:\tlearn: 0.2632908\ttest: 0.4333682\tbest: 0.4320750 (502)\n",
      "676:\tlearn: 0.2631148\ttest: 0.4333593\tbest: 0.4320750 (502)\n",
      "677:\tlearn: 0.2629563\ttest: 0.4333240\tbest: 0.4320750 (502)\n",
      "678:\tlearn: 0.2628161\ttest: 0.4333030\tbest: 0.4320750 (502)\n",
      "679:\tlearn: 0.2626323\ttest: 0.4333416\tbest: 0.4320750 (502)\n",
      "680:\tlearn: 0.2625178\ttest: 0.4334320\tbest: 0.4320750 (502)\n",
      "681:\tlearn: 0.2623634\ttest: 0.4335651\tbest: 0.4320750 (502)\n",
      "682:\tlearn: 0.2622537\ttest: 0.4335671\tbest: 0.4320750 (502)\n",
      "683:\tlearn: 0.2621516\ttest: 0.4335917\tbest: 0.4320750 (502)\n",
      "684:\tlearn: 0.2620529\ttest: 0.4335414\tbest: 0.4320750 (502)\n",
      "685:\tlearn: 0.2619011\ttest: 0.4335300\tbest: 0.4320750 (502)\n",
      "686:\tlearn: 0.2617662\ttest: 0.4334893\tbest: 0.4320750 (502)\n",
      "687:\tlearn: 0.2616626\ttest: 0.4335195\tbest: 0.4320750 (502)\n",
      "688:\tlearn: 0.2614915\ttest: 0.4334025\tbest: 0.4320750 (502)\n",
      "689:\tlearn: 0.2613441\ttest: 0.4333813\tbest: 0.4320750 (502)\n",
      "690:\tlearn: 0.2611226\ttest: 0.4334593\tbest: 0.4320750 (502)\n",
      "691:\tlearn: 0.2609648\ttest: 0.4333648\tbest: 0.4320750 (502)\n",
      "692:\tlearn: 0.2608181\ttest: 0.4333382\tbest: 0.4320750 (502)\n",
      "693:\tlearn: 0.2606919\ttest: 0.4333564\tbest: 0.4320750 (502)\n",
      "694:\tlearn: 0.2605251\ttest: 0.4333337\tbest: 0.4320750 (502)\n",
      "695:\tlearn: 0.2604236\ttest: 0.4332920\tbest: 0.4320750 (502)\n",
      "696:\tlearn: 0.2603272\ttest: 0.4334165\tbest: 0.4320750 (502)\n",
      "697:\tlearn: 0.2601725\ttest: 0.4332765\tbest: 0.4320750 (502)\n",
      "698:\tlearn: 0.2600671\ttest: 0.4333742\tbest: 0.4320750 (502)\n",
      "699:\tlearn: 0.2599560\ttest: 0.4333263\tbest: 0.4320750 (502)\n",
      "700:\tlearn: 0.2597981\ttest: 0.4334144\tbest: 0.4320750 (502)\n",
      "701:\tlearn: 0.2596849\ttest: 0.4334274\tbest: 0.4320750 (502)\n",
      "702:\tlearn: 0.2595497\ttest: 0.4334090\tbest: 0.4320750 (502)\n",
      "703:\tlearn: 0.2594238\ttest: 0.4333859\tbest: 0.4320750 (502)\n",
      "704:\tlearn: 0.2593448\ttest: 0.4334076\tbest: 0.4320750 (502)\n",
      "705:\tlearn: 0.2592205\ttest: 0.4334116\tbest: 0.4320750 (502)\n",
      "706:\tlearn: 0.2590820\ttest: 0.4333826\tbest: 0.4320750 (502)\n",
      "707:\tlearn: 0.2590055\ttest: 0.4334517\tbest: 0.4320750 (502)\n",
      "708:\tlearn: 0.2588383\ttest: 0.4333775\tbest: 0.4320750 (502)\n",
      "709:\tlearn: 0.2587308\ttest: 0.4333990\tbest: 0.4320750 (502)\n",
      "710:\tlearn: 0.2585979\ttest: 0.4334153\tbest: 0.4320750 (502)\n",
      "711:\tlearn: 0.2584578\ttest: 0.4335655\tbest: 0.4320750 (502)\n",
      "712:\tlearn: 0.2583358\ttest: 0.4335702\tbest: 0.4320750 (502)\n",
      "713:\tlearn: 0.2582532\ttest: 0.4335350\tbest: 0.4320750 (502)\n",
      "714:\tlearn: 0.2580981\ttest: 0.4336040\tbest: 0.4320750 (502)\n",
      "715:\tlearn: 0.2580075\ttest: 0.4335891\tbest: 0.4320750 (502)\n",
      "716:\tlearn: 0.2578844\ttest: 0.4335876\tbest: 0.4320750 (502)\n",
      "717:\tlearn: 0.2577474\ttest: 0.4336855\tbest: 0.4320750 (502)\n",
      "718:\tlearn: 0.2576249\ttest: 0.4337135\tbest: 0.4320750 (502)\n",
      "719:\tlearn: 0.2574537\ttest: 0.4336854\tbest: 0.4320750 (502)\n",
      "720:\tlearn: 0.2573392\ttest: 0.4337262\tbest: 0.4320750 (502)\n",
      "721:\tlearn: 0.2572447\ttest: 0.4338422\tbest: 0.4320750 (502)\n",
      "722:\tlearn: 0.2570845\ttest: 0.4338724\tbest: 0.4320750 (502)\n",
      "723:\tlearn: 0.2569507\ttest: 0.4338832\tbest: 0.4320750 (502)\n",
      "724:\tlearn: 0.2567908\ttest: 0.4339727\tbest: 0.4320750 (502)\n",
      "725:\tlearn: 0.2566448\ttest: 0.4339666\tbest: 0.4320750 (502)\n",
      "726:\tlearn: 0.2565084\ttest: 0.4339888\tbest: 0.4320750 (502)\n",
      "727:\tlearn: 0.2563658\ttest: 0.4339738\tbest: 0.4320750 (502)\n",
      "728:\tlearn: 0.2562654\ttest: 0.4339195\tbest: 0.4320750 (502)\n",
      "729:\tlearn: 0.2561733\ttest: 0.4339471\tbest: 0.4320750 (502)\n",
      "730:\tlearn: 0.2559964\ttest: 0.4340205\tbest: 0.4320750 (502)\n",
      "731:\tlearn: 0.2559012\ttest: 0.4339268\tbest: 0.4320750 (502)\n",
      "732:\tlearn: 0.2557972\ttest: 0.4338809\tbest: 0.4320750 (502)\n",
      "733:\tlearn: 0.2556402\ttest: 0.4339056\tbest: 0.4320750 (502)\n",
      "734:\tlearn: 0.2554325\ttest: 0.4337614\tbest: 0.4320750 (502)\n",
      "735:\tlearn: 0.2552483\ttest: 0.4338056\tbest: 0.4320750 (502)\n",
      "736:\tlearn: 0.2551410\ttest: 0.4337484\tbest: 0.4320750 (502)\n",
      "737:\tlearn: 0.2550378\ttest: 0.4338131\tbest: 0.4320750 (502)\n",
      "738:\tlearn: 0.2549171\ttest: 0.4338246\tbest: 0.4320750 (502)\n",
      "739:\tlearn: 0.2547782\ttest: 0.4339016\tbest: 0.4320750 (502)\n",
      "740:\tlearn: 0.2546638\ttest: 0.4337830\tbest: 0.4320750 (502)\n",
      "741:\tlearn: 0.2545433\ttest: 0.4337980\tbest: 0.4320750 (502)\n",
      "742:\tlearn: 0.2543867\ttest: 0.4337752\tbest: 0.4320750 (502)\n",
      "743:\tlearn: 0.2542180\ttest: 0.4337101\tbest: 0.4320750 (502)\n",
      "744:\tlearn: 0.2541058\ttest: 0.4337838\tbest: 0.4320750 (502)\n",
      "745:\tlearn: 0.2539621\ttest: 0.4337084\tbest: 0.4320750 (502)\n",
      "746:\tlearn: 0.2538089\ttest: 0.4337140\tbest: 0.4320750 (502)\n",
      "747:\tlearn: 0.2536510\ttest: 0.4338620\tbest: 0.4320750 (502)\n",
      "748:\tlearn: 0.2535186\ttest: 0.4339017\tbest: 0.4320750 (502)\n",
      "749:\tlearn: 0.2533205\ttest: 0.4338327\tbest: 0.4320750 (502)\n",
      "750:\tlearn: 0.2531586\ttest: 0.4338383\tbest: 0.4320750 (502)\n",
      "751:\tlearn: 0.2530649\ttest: 0.4338912\tbest: 0.4320750 (502)\n",
      "752:\tlearn: 0.2528903\ttest: 0.4338422\tbest: 0.4320750 (502)\n",
      "753:\tlearn: 0.2527684\ttest: 0.4339436\tbest: 0.4320750 (502)\n",
      "754:\tlearn: 0.2526087\ttest: 0.4339048\tbest: 0.4320750 (502)\n",
      "755:\tlearn: 0.2524859\ttest: 0.4339201\tbest: 0.4320750 (502)\n",
      "756:\tlearn: 0.2523939\ttest: 0.4338891\tbest: 0.4320750 (502)\n",
      "757:\tlearn: 0.2522608\ttest: 0.4339475\tbest: 0.4320750 (502)\n",
      "758:\tlearn: 0.2520990\ttest: 0.4339559\tbest: 0.4320750 (502)\n",
      "759:\tlearn: 0.2519337\ttest: 0.4340154\tbest: 0.4320750 (502)\n",
      "760:\tlearn: 0.2518145\ttest: 0.4340959\tbest: 0.4320750 (502)\n",
      "761:\tlearn: 0.2516841\ttest: 0.4341816\tbest: 0.4320750 (502)\n",
      "762:\tlearn: 0.2515747\ttest: 0.4343077\tbest: 0.4320750 (502)\n",
      "763:\tlearn: 0.2514113\ttest: 0.4343362\tbest: 0.4320750 (502)\n",
      "764:\tlearn: 0.2513330\ttest: 0.4344103\tbest: 0.4320750 (502)\n",
      "765:\tlearn: 0.2511829\ttest: 0.4344155\tbest: 0.4320750 (502)\n",
      "766:\tlearn: 0.2510561\ttest: 0.4343090\tbest: 0.4320750 (502)\n",
      "767:\tlearn: 0.2509283\ttest: 0.4343661\tbest: 0.4320750 (502)\n",
      "768:\tlearn: 0.2508129\ttest: 0.4344138\tbest: 0.4320750 (502)\n",
      "769:\tlearn: 0.2506836\ttest: 0.4344085\tbest: 0.4320750 (502)\n",
      "770:\tlearn: 0.2505651\ttest: 0.4344227\tbest: 0.4320750 (502)\n",
      "771:\tlearn: 0.2503972\ttest: 0.4345836\tbest: 0.4320750 (502)\n",
      "772:\tlearn: 0.2502776\ttest: 0.4345135\tbest: 0.4320750 (502)\n",
      "773:\tlearn: 0.2501390\ttest: 0.4345650\tbest: 0.4320750 (502)\n",
      "774:\tlearn: 0.2500360\ttest: 0.4346041\tbest: 0.4320750 (502)\n",
      "775:\tlearn: 0.2498560\ttest: 0.4345074\tbest: 0.4320750 (502)\n",
      "776:\tlearn: 0.2497137\ttest: 0.4345430\tbest: 0.4320750 (502)\n",
      "777:\tlearn: 0.2495603\ttest: 0.4345274\tbest: 0.4320750 (502)\n",
      "778:\tlearn: 0.2494926\ttest: 0.4345579\tbest: 0.4320750 (502)\n",
      "779:\tlearn: 0.2493571\ttest: 0.4344664\tbest: 0.4320750 (502)\n",
      "780:\tlearn: 0.2492394\ttest: 0.4344553\tbest: 0.4320750 (502)\n",
      "781:\tlearn: 0.2490710\ttest: 0.4344387\tbest: 0.4320750 (502)\n",
      "782:\tlearn: 0.2489407\ttest: 0.4342858\tbest: 0.4320750 (502)\n",
      "783:\tlearn: 0.2487804\ttest: 0.4342485\tbest: 0.4320750 (502)\n",
      "784:\tlearn: 0.2486552\ttest: 0.4342945\tbest: 0.4320750 (502)\n",
      "785:\tlearn: 0.2485666\ttest: 0.4342381\tbest: 0.4320750 (502)\n",
      "786:\tlearn: 0.2484601\ttest: 0.4342937\tbest: 0.4320750 (502)\n",
      "787:\tlearn: 0.2483762\ttest: 0.4343312\tbest: 0.4320750 (502)\n",
      "788:\tlearn: 0.2482692\ttest: 0.4343696\tbest: 0.4320750 (502)\n",
      "789:\tlearn: 0.2480813\ttest: 0.4342385\tbest: 0.4320750 (502)\n",
      "790:\tlearn: 0.2479408\ttest: 0.4342657\tbest: 0.4320750 (502)\n",
      "791:\tlearn: 0.2477937\ttest: 0.4341648\tbest: 0.4320750 (502)\n",
      "792:\tlearn: 0.2476640\ttest: 0.4342088\tbest: 0.4320750 (502)\n",
      "793:\tlearn: 0.2475572\ttest: 0.4341442\tbest: 0.4320750 (502)\n",
      "794:\tlearn: 0.2474062\ttest: 0.4341902\tbest: 0.4320750 (502)\n",
      "795:\tlearn: 0.2473231\ttest: 0.4342411\tbest: 0.4320750 (502)\n",
      "796:\tlearn: 0.2471767\ttest: 0.4342497\tbest: 0.4320750 (502)\n",
      "797:\tlearn: 0.2470054\ttest: 0.4343555\tbest: 0.4320750 (502)\n",
      "798:\tlearn: 0.2468844\ttest: 0.4343615\tbest: 0.4320750 (502)\n",
      "799:\tlearn: 0.2467618\ttest: 0.4344535\tbest: 0.4320750 (502)\n",
      "800:\tlearn: 0.2466400\ttest: 0.4345599\tbest: 0.4320750 (502)\n",
      "801:\tlearn: 0.2464931\ttest: 0.4345931\tbest: 0.4320750 (502)\n",
      "802:\tlearn: 0.2462862\ttest: 0.4345544\tbest: 0.4320750 (502)\n",
      "803:\tlearn: 0.2461130\ttest: 0.4344232\tbest: 0.4320750 (502)\n",
      "804:\tlearn: 0.2459715\ttest: 0.4344199\tbest: 0.4320750 (502)\n",
      "805:\tlearn: 0.2458358\ttest: 0.4343121\tbest: 0.4320750 (502)\n",
      "806:\tlearn: 0.2456920\ttest: 0.4341474\tbest: 0.4320750 (502)\n",
      "807:\tlearn: 0.2455596\ttest: 0.4340895\tbest: 0.4320750 (502)\n",
      "808:\tlearn: 0.2454861\ttest: 0.4341595\tbest: 0.4320750 (502)\n",
      "809:\tlearn: 0.2453907\ttest: 0.4342147\tbest: 0.4320750 (502)\n",
      "810:\tlearn: 0.2452210\ttest: 0.4342960\tbest: 0.4320750 (502)\n",
      "811:\tlearn: 0.2451200\ttest: 0.4343461\tbest: 0.4320750 (502)\n",
      "812:\tlearn: 0.2449950\ttest: 0.4343709\tbest: 0.4320750 (502)\n",
      "813:\tlearn: 0.2448690\ttest: 0.4343709\tbest: 0.4320750 (502)\n",
      "814:\tlearn: 0.2447162\ttest: 0.4343387\tbest: 0.4320750 (502)\n",
      "815:\tlearn: 0.2445992\ttest: 0.4344496\tbest: 0.4320750 (502)\n",
      "816:\tlearn: 0.2444891\ttest: 0.4345227\tbest: 0.4320750 (502)\n",
      "817:\tlearn: 0.2443886\ttest: 0.4345357\tbest: 0.4320750 (502)\n",
      "818:\tlearn: 0.2442676\ttest: 0.4345857\tbest: 0.4320750 (502)\n",
      "819:\tlearn: 0.2441264\ttest: 0.4345575\tbest: 0.4320750 (502)\n",
      "820:\tlearn: 0.2440249\ttest: 0.4346140\tbest: 0.4320750 (502)\n",
      "821:\tlearn: 0.2438578\ttest: 0.4345541\tbest: 0.4320750 (502)\n",
      "822:\tlearn: 0.2437056\ttest: 0.4347042\tbest: 0.4320750 (502)\n",
      "823:\tlearn: 0.2436037\ttest: 0.4348372\tbest: 0.4320750 (502)\n",
      "824:\tlearn: 0.2434842\ttest: 0.4348574\tbest: 0.4320750 (502)\n",
      "825:\tlearn: 0.2432758\ttest: 0.4349233\tbest: 0.4320750 (502)\n",
      "826:\tlearn: 0.2430937\ttest: 0.4349931\tbest: 0.4320750 (502)\n",
      "827:\tlearn: 0.2430034\ttest: 0.4350654\tbest: 0.4320750 (502)\n",
      "828:\tlearn: 0.2428356\ttest: 0.4350080\tbest: 0.4320750 (502)\n",
      "829:\tlearn: 0.2427188\ttest: 0.4350489\tbest: 0.4320750 (502)\n",
      "830:\tlearn: 0.2425675\ttest: 0.4351324\tbest: 0.4320750 (502)\n",
      "831:\tlearn: 0.2424764\ttest: 0.4351174\tbest: 0.4320750 (502)\n",
      "832:\tlearn: 0.2423779\ttest: 0.4350479\tbest: 0.4320750 (502)\n",
      "833:\tlearn: 0.2422347\ttest: 0.4350899\tbest: 0.4320750 (502)\n",
      "834:\tlearn: 0.2421376\ttest: 0.4350128\tbest: 0.4320750 (502)\n",
      "835:\tlearn: 0.2420043\ttest: 0.4351340\tbest: 0.4320750 (502)\n",
      "836:\tlearn: 0.2418573\ttest: 0.4352421\tbest: 0.4320750 (502)\n",
      "837:\tlearn: 0.2416726\ttest: 0.4353085\tbest: 0.4320750 (502)\n",
      "838:\tlearn: 0.2415501\ttest: 0.4354175\tbest: 0.4320750 (502)\n",
      "839:\tlearn: 0.2414294\ttest: 0.4353851\tbest: 0.4320750 (502)\n",
      "840:\tlearn: 0.2413165\ttest: 0.4353025\tbest: 0.4320750 (502)\n",
      "841:\tlearn: 0.2411928\ttest: 0.4354952\tbest: 0.4320750 (502)\n",
      "842:\tlearn: 0.2410840\ttest: 0.4354942\tbest: 0.4320750 (502)\n",
      "843:\tlearn: 0.2409526\ttest: 0.4356010\tbest: 0.4320750 (502)\n",
      "844:\tlearn: 0.2408454\ttest: 0.4355452\tbest: 0.4320750 (502)\n",
      "845:\tlearn: 0.2406890\ttest: 0.4356634\tbest: 0.4320750 (502)\n",
      "846:\tlearn: 0.2406116\ttest: 0.4356938\tbest: 0.4320750 (502)\n",
      "847:\tlearn: 0.2404884\ttest: 0.4357277\tbest: 0.4320750 (502)\n",
      "848:\tlearn: 0.2403918\ttest: 0.4357099\tbest: 0.4320750 (502)\n",
      "849:\tlearn: 0.2402659\ttest: 0.4356297\tbest: 0.4320750 (502)\n",
      "850:\tlearn: 0.2401384\ttest: 0.4355980\tbest: 0.4320750 (502)\n",
      "851:\tlearn: 0.2400293\ttest: 0.4356133\tbest: 0.4320750 (502)\n",
      "852:\tlearn: 0.2399076\ttest: 0.4355977\tbest: 0.4320750 (502)\n",
      "853:\tlearn: 0.2398083\ttest: 0.4355943\tbest: 0.4320750 (502)\n",
      "854:\tlearn: 0.2397026\ttest: 0.4355511\tbest: 0.4320750 (502)\n",
      "855:\tlearn: 0.2395772\ttest: 0.4354684\tbest: 0.4320750 (502)\n",
      "856:\tlearn: 0.2394223\ttest: 0.4354681\tbest: 0.4320750 (502)\n",
      "857:\tlearn: 0.2393145\ttest: 0.4354890\tbest: 0.4320750 (502)\n",
      "858:\tlearn: 0.2392194\ttest: 0.4354568\tbest: 0.4320750 (502)\n",
      "859:\tlearn: 0.2391231\ttest: 0.4355438\tbest: 0.4320750 (502)\n",
      "860:\tlearn: 0.2390509\ttest: 0.4355163\tbest: 0.4320750 (502)\n",
      "861:\tlearn: 0.2389130\ttest: 0.4355907\tbest: 0.4320750 (502)\n",
      "862:\tlearn: 0.2388195\ttest: 0.4356582\tbest: 0.4320750 (502)\n",
      "863:\tlearn: 0.2386774\ttest: 0.4356634\tbest: 0.4320750 (502)\n",
      "864:\tlearn: 0.2385319\ttest: 0.4357166\tbest: 0.4320750 (502)\n",
      "865:\tlearn: 0.2384268\ttest: 0.4357626\tbest: 0.4320750 (502)\n",
      "866:\tlearn: 0.2383096\ttest: 0.4358128\tbest: 0.4320750 (502)\n",
      "867:\tlearn: 0.2381944\ttest: 0.4357809\tbest: 0.4320750 (502)\n",
      "868:\tlearn: 0.2381028\ttest: 0.4357579\tbest: 0.4320750 (502)\n",
      "869:\tlearn: 0.2379413\ttest: 0.4356269\tbest: 0.4320750 (502)\n",
      "870:\tlearn: 0.2378338\ttest: 0.4355949\tbest: 0.4320750 (502)\n",
      "871:\tlearn: 0.2376825\ttest: 0.4356572\tbest: 0.4320750 (502)\n",
      "872:\tlearn: 0.2375663\ttest: 0.4356443\tbest: 0.4320750 (502)\n",
      "873:\tlearn: 0.2374644\ttest: 0.4357637\tbest: 0.4320750 (502)\ttotal: 37.7s\tremaining: 5.43s\n",
      "874:\tlearn: 0.2373944\ttest: 0.4357310\tbest: 0.4320750 (502)\n",
      "875:\tlearn: 0.2372857\ttest: 0.4356898\tbest: 0.4320750 (502)\n",
      "876:\tlearn: 0.2371945\ttest: 0.4356562\tbest: 0.4320750 (502)\n",
      "877:\tlearn: 0.2370959\ttest: 0.4357051\tbest: 0.4320750 (502)\n",
      "878:\tlearn: 0.2369893\ttest: 0.4357227\tbest: 0.4320750 (502)\n",
      "879:\tlearn: 0.2368576\ttest: 0.4359343\tbest: 0.4320750 (502)\n",
      "880:\tlearn: 0.2367536\ttest: 0.4359243\tbest: 0.4320750 (502)\n",
      "881:\tlearn: 0.2366585\ttest: 0.4358762\tbest: 0.4320750 (502)\n",
      "882:\tlearn: 0.2365361\ttest: 0.4357817\tbest: 0.4320750 (502)\n",
      "883:\tlearn: 0.2364007\ttest: 0.4358022\tbest: 0.4320750 (502)\n",
      "884:\tlearn: 0.2362935\ttest: 0.4358193\tbest: 0.4320750 (502)\n",
      "885:\tlearn: 0.2361671\ttest: 0.4359300\tbest: 0.4320750 (502)\n",
      "886:\tlearn: 0.2360172\ttest: 0.4359521\tbest: 0.4320750 (502)\n",
      "887:\tlearn: 0.2359605\ttest: 0.4359569\tbest: 0.4320750 (502)\n",
      "888:\tlearn: 0.2358467\ttest: 0.4359710\tbest: 0.4320750 (502)\n",
      "889:\tlearn: 0.2357536\ttest: 0.4361646\tbest: 0.4320750 (502)\n",
      "890:\tlearn: 0.2356099\ttest: 0.4362638\tbest: 0.4320750 (502)\n",
      "891:\tlearn: 0.2354510\ttest: 0.4362533\tbest: 0.4320750 (502)\n",
      "892:\tlearn: 0.2353715\ttest: 0.4362113\tbest: 0.4320750 (502)\n",
      "893:\tlearn: 0.2352093\ttest: 0.4362816\tbest: 0.4320750 (502)\n",
      "894:\tlearn: 0.2351289\ttest: 0.4362773\tbest: 0.4320750 (502)\n",
      "895:\tlearn: 0.2350427\ttest: 0.4363007\tbest: 0.4320750 (502)\n",
      "896:\tlearn: 0.2349074\ttest: 0.4363991\tbest: 0.4320750 (502)\n",
      "897:\tlearn: 0.2347992\ttest: 0.4364491\tbest: 0.4320750 (502)\n",
      "898:\tlearn: 0.2347035\ttest: 0.4364505\tbest: 0.4320750 (502)\n",
      "899:\tlearn: 0.2345651\ttest: 0.4365103\tbest: 0.4320750 (502)\n",
      "900:\tlearn: 0.2344562\ttest: 0.4364571\tbest: 0.4320750 (502)\n",
      "901:\tlearn: 0.2343416\ttest: 0.4365012\tbest: 0.4320750 (502)\n",
      "902:\tlearn: 0.2342081\ttest: 0.4363863\tbest: 0.4320750 (502)\n",
      "903:\tlearn: 0.2340844\ttest: 0.4364589\tbest: 0.4320750 (502)\n",
      "904:\tlearn: 0.2339348\ttest: 0.4364393\tbest: 0.4320750 (502)\n",
      "905:\tlearn: 0.2338430\ttest: 0.4364278\tbest: 0.4320750 (502)\n",
      "906:\tlearn: 0.2337371\ttest: 0.4364051\tbest: 0.4320750 (502)\n",
      "907:\tlearn: 0.2336605\ttest: 0.4363117\tbest: 0.4320750 (502)\n",
      "908:\tlearn: 0.2335006\ttest: 0.4362579\tbest: 0.4320750 (502)\n",
      "909:\tlearn: 0.2334019\ttest: 0.4362783\tbest: 0.4320750 (502)\n",
      "910:\tlearn: 0.2332697\ttest: 0.4363496\tbest: 0.4320750 (502)\n",
      "911:\tlearn: 0.2331853\ttest: 0.4363560\tbest: 0.4320750 (502)\n",
      "912:\tlearn: 0.2330791\ttest: 0.4363659\tbest: 0.4320750 (502)\n",
      "913:\tlearn: 0.2329984\ttest: 0.4363825\tbest: 0.4320750 (502)\n",
      "914:\tlearn: 0.2328680\ttest: 0.4364126\tbest: 0.4320750 (502)\n",
      "915:\tlearn: 0.2327748\ttest: 0.4364244\tbest: 0.4320750 (502)\n",
      "916:\tlearn: 0.2326802\ttest: 0.4365256\tbest: 0.4320750 (502)\n",
      "917:\tlearn: 0.2326037\ttest: 0.4365535\tbest: 0.4320750 (502)\n",
      "918:\tlearn: 0.2324572\ttest: 0.4365989\tbest: 0.4320750 (502)\n",
      "919:\tlearn: 0.2323542\ttest: 0.4365426\tbest: 0.4320750 (502)\n",
      "920:\tlearn: 0.2322407\ttest: 0.4365820\tbest: 0.4320750 (502)\n",
      "921:\tlearn: 0.2321623\ttest: 0.4365797\tbest: 0.4320750 (502)\n",
      "922:\tlearn: 0.2320462\ttest: 0.4364879\tbest: 0.4320750 (502)\n",
      "923:\tlearn: 0.2318782\ttest: 0.4365161\tbest: 0.4320750 (502)\n",
      "924:\tlearn: 0.2317914\ttest: 0.4365416\tbest: 0.4320750 (502)\n",
      "925:\tlearn: 0.2316668\ttest: 0.4364908\tbest: 0.4320750 (502)\n",
      "926:\tlearn: 0.2315536\ttest: 0.4366311\tbest: 0.4320750 (502)\n",
      "927:\tlearn: 0.2314573\ttest: 0.4367668\tbest: 0.4320750 (502)\n",
      "928:\tlearn: 0.2313688\ttest: 0.4368514\tbest: 0.4320750 (502)\n",
      "929:\tlearn: 0.2312516\ttest: 0.4368333\tbest: 0.4320750 (502)\n",
      "930:\tlearn: 0.2311513\ttest: 0.4369112\tbest: 0.4320750 (502)\n",
      "931:\tlearn: 0.2310254\ttest: 0.4369296\tbest: 0.4320750 (502)\n",
      "932:\tlearn: 0.2309196\ttest: 0.4369473\tbest: 0.4320750 (502)\n",
      "933:\tlearn: 0.2307748\ttest: 0.4369910\tbest: 0.4320750 (502)\n",
      "934:\tlearn: 0.2306652\ttest: 0.4370003\tbest: 0.4320750 (502)\n",
      "935:\tlearn: 0.2305770\ttest: 0.4370577\tbest: 0.4320750 (502)\n",
      "936:\tlearn: 0.2304783\ttest: 0.4369730\tbest: 0.4320750 (502)\n",
      "937:\tlearn: 0.2303767\ttest: 0.4368801\tbest: 0.4320750 (502)\n",
      "938:\tlearn: 0.2302891\ttest: 0.4369480\tbest: 0.4320750 (502)\n",
      "939:\tlearn: 0.2301908\ttest: 0.4369390\tbest: 0.4320750 (502)\n",
      "940:\tlearn: 0.2300818\ttest: 0.4369104\tbest: 0.4320750 (502)\n",
      "941:\tlearn: 0.2299712\ttest: 0.4367937\tbest: 0.4320750 (502)\n",
      "942:\tlearn: 0.2298599\ttest: 0.4368973\tbest: 0.4320750 (502)\n",
      "943:\tlearn: 0.2297393\ttest: 0.4368782\tbest: 0.4320750 (502)\n",
      "944:\tlearn: 0.2296448\ttest: 0.4369313\tbest: 0.4320750 (502)\n",
      "945:\tlearn: 0.2295000\ttest: 0.4368974\tbest: 0.4320750 (502)\n",
      "946:\tlearn: 0.2294146\ttest: 0.4368577\tbest: 0.4320750 (502)\n",
      "947:\tlearn: 0.2293159\ttest: 0.4367697\tbest: 0.4320750 (502)\n",
      "948:\tlearn: 0.2292184\ttest: 0.4367638\tbest: 0.4320750 (502)\n",
      "949:\tlearn: 0.2291002\ttest: 0.4368164\tbest: 0.4320750 (502)\n",
      "950:\tlearn: 0.2290379\ttest: 0.4368351\tbest: 0.4320750 (502)\n",
      "951:\tlearn: 0.2289591\ttest: 0.4367690\tbest: 0.4320750 (502)\n",
      "952:\tlearn: 0.2288514\ttest: 0.4367459\tbest: 0.4320750 (502)\n",
      "953:\tlearn: 0.2287614\ttest: 0.4367754\tbest: 0.4320750 (502)\n",
      "954:\tlearn: 0.2287026\ttest: 0.4367845\tbest: 0.4320750 (502)\n",
      "955:\tlearn: 0.2286226\ttest: 0.4367678\tbest: 0.4320750 (502)\n",
      "956:\tlearn: 0.2285453\ttest: 0.4367747\tbest: 0.4320750 (502)\n",
      "957:\tlearn: 0.2284268\ttest: 0.4368523\tbest: 0.4320750 (502)\n",
      "958:\tlearn: 0.2283121\ttest: 0.4369213\tbest: 0.4320750 (502)\n",
      "959:\tlearn: 0.2282274\ttest: 0.4369488\tbest: 0.4320750 (502)\n",
      "960:\tlearn: 0.2281434\ttest: 0.4369285\tbest: 0.4320750 (502)\n",
      "961:\tlearn: 0.2280355\ttest: 0.4368997\tbest: 0.4320750 (502)\n",
      "962:\tlearn: 0.2279637\ttest: 0.4368655\tbest: 0.4320750 (502)\n",
      "963:\tlearn: 0.2278576\ttest: 0.4368054\tbest: 0.4320750 (502)\n",
      "964:\tlearn: 0.2277688\ttest: 0.4368781\tbest: 0.4320750 (502)\n",
      "965:\tlearn: 0.2276667\ttest: 0.4367777\tbest: 0.4320750 (502)\n",
      "966:\tlearn: 0.2275555\ttest: 0.4368342\tbest: 0.4320750 (502)\n",
      "967:\tlearn: 0.2274429\ttest: 0.4368897\tbest: 0.4320750 (502)\n",
      "968:\tlearn: 0.2273245\ttest: 0.4370361\tbest: 0.4320750 (502)\n",
      "969:\tlearn: 0.2272243\ttest: 0.4370849\tbest: 0.4320750 (502)\n",
      "970:\tlearn: 0.2271267\ttest: 0.4370678\tbest: 0.4320750 (502)\n",
      "971:\tlearn: 0.2270430\ttest: 0.4370956\tbest: 0.4320750 (502)\n",
      "972:\tlearn: 0.2269282\ttest: 0.4371070\tbest: 0.4320750 (502)\n",
      "973:\tlearn: 0.2268766\ttest: 0.4371520\tbest: 0.4320750 (502)\n",
      "974:\tlearn: 0.2267883\ttest: 0.4371684\tbest: 0.4320750 (502)\n",
      "975:\tlearn: 0.2267055\ttest: 0.4371231\tbest: 0.4320750 (502)\n",
      "976:\tlearn: 0.2265914\ttest: 0.4371696\tbest: 0.4320750 (502)\n",
      "977:\tlearn: 0.2264661\ttest: 0.4373275\tbest: 0.4320750 (502)\n",
      "978:\tlearn: 0.2263260\ttest: 0.4374216\tbest: 0.4320750 (502)\n",
      "979:\tlearn: 0.2262412\ttest: 0.4373731\tbest: 0.4320750 (502)\n",
      "980:\tlearn: 0.2261256\ttest: 0.4373425\tbest: 0.4320750 (502)\n",
      "981:\tlearn: 0.2259895\ttest: 0.4373218\tbest: 0.4320750 (502)\n",
      "982:\tlearn: 0.2258660\ttest: 0.4373298\tbest: 0.4320750 (502)\n",
      "983:\tlearn: 0.2257740\ttest: 0.4373625\tbest: 0.4320750 (502)\n",
      "984:\tlearn: 0.2256780\ttest: 0.4374106\tbest: 0.4320750 (502)\n",
      "985:\tlearn: 0.2255904\ttest: 0.4374640\tbest: 0.4320750 (502)\n",
      "986:\tlearn: 0.2254298\ttest: 0.4373695\tbest: 0.4320750 (502)\n",
      "987:\tlearn: 0.2253439\ttest: 0.4374049\tbest: 0.4320750 (502)\n",
      "988:\tlearn: 0.2252628\ttest: 0.4374450\tbest: 0.4320750 (502)\n",
      "989:\tlearn: 0.2251728\ttest: 0.4375035\tbest: 0.4320750 (502)\n",
      "990:\tlearn: 0.2249700\ttest: 0.4375048\tbest: 0.4320750 (502)\n",
      "991:\tlearn: 0.2248979\ttest: 0.4375301\tbest: 0.4320750 (502)\n",
      "992:\tlearn: 0.2247888\ttest: 0.4374754\tbest: 0.4320750 (502)\n",
      "993:\tlearn: 0.2246296\ttest: 0.4374720\tbest: 0.4320750 (502)\n",
      "994:\tlearn: 0.2245236\ttest: 0.4375650\tbest: 0.4320750 (502)\n",
      "995:\tlearn: 0.2244531\ttest: 0.4376206\tbest: 0.4320750 (502)\n",
      "996:\tlearn: 0.2243685\ttest: 0.4375864\tbest: 0.4320750 (502)\n",
      "997:\tlearn: 0.2242730\ttest: 0.4376085\tbest: 0.4320750 (502)\n",
      "998:\tlearn: 0.2241963\ttest: 0.4376383\tbest: 0.4320750 (502)\n",
      "999:\tlearn: 0.2241275\ttest: 0.4377127\tbest: 0.4320750 (502)\ttotal: 42.5s\tremaining: 0us\n"
     ]
    }
   ],
   "source": [
    "# How long will this take?\n",
    "start_time = time.time()\n",
    "\n",
    "# Set params for cross-validation as same as initial model\n",
    "cv_params = catboost_model.get_params()\n",
    "\n",
    "# Run the cross-validation for 10-folds (same as the other models)\n",
    "cv_data = cv(train_pool,\n",
    "             cv_params,\n",
    "             fold_count=10,\n",
    "             plot=True)\n",
    "\n",
    "# How long did it take?\n",
    "catboost_time = (time.time() - start_time)\n",
    "\n",
    "# CatBoost CV results save into a dataframe (cv_data), let's withdraw the maximum accuracy score\n",
    "acc_cv_catboost = round(np.max(cv_data['test-Accuracy-mean']) * 100, 2)"
   ],
   "metadata": {
    "collapsed": false,
    "pycharm": {
     "name": "#%%\n"
    }
   }
  },
  {
   "cell_type": "code",
   "execution_count": 775,
   "outputs": [
    {
     "name": "stdout",
     "output_type": "stream",
     "text": [
      "---CatBoost Metrics---\n",
      "Accuracy: 83.91\n",
      "Accuracy cross-validation 10-Fold: 81.32\n",
      "Running Time: 0:00:42.593679\n"
     ]
    }
   ],
   "source": [
    "# Print out the CatBoost model metrics\n",
    "print(\"---CatBoost Metrics---\")\n",
    "print(f\"Accuracy: {acc_catboost}\")\n",
    "print(f\"Accuracy cross-validation 10-Fold: {acc_cv_catboost}\")\n",
    "print(f\"Running Time: {datetime.timedelta(seconds=catboost_time)}\")"
   ],
   "metadata": {
    "collapsed": false,
    "pycharm": {
     "name": "#%%\n"
    }
   }
  },
  {
   "cell_type": "markdown",
   "source": [
    "## Model Results\n",
    "hich model had the best cross-validation accuracy?\n",
    "\n",
    "**Note:** We care most about cross-validation metrics because the metrics we get from .fit() can randomly score higher than usual."
   ],
   "metadata": {
    "collapsed": false,
    "pycharm": {
     "name": "#%% md\n"
    }
   }
  },
  {
   "cell_type": "code",
   "execution_count": 776,
   "outputs": [
    {
     "name": "stdout",
     "output_type": "stream",
     "text": [
      "---Reuglar Accuracy Scores---\n"
     ]
    },
    {
     "data": {
      "text/plain": "                        Model  Score\n5               Decision Tree  92.46\n6     Gradient Boosting Trees  86.61\n7                    CatBoost  83.91\n0                         KNN  83.69\n1         Logistic Regression  79.98\n2                 Naive Bayes  78.52\n4                  Linear SVC  68.95\n3  Stochastic Gradient Decent  61.75",
      "text/html": "<div>\n<style scoped>\n    .dataframe tbody tr th:only-of-type {\n        vertical-align: middle;\n    }\n\n    .dataframe tbody tr th {\n        vertical-align: top;\n    }\n\n    .dataframe thead th {\n        text-align: right;\n    }\n</style>\n<table border=\"1\" class=\"dataframe\">\n  <thead>\n    <tr style=\"text-align: right;\">\n      <th></th>\n      <th>Model</th>\n      <th>Score</th>\n    </tr>\n  </thead>\n  <tbody>\n    <tr>\n      <th>5</th>\n      <td>Decision Tree</td>\n      <td>92.46</td>\n    </tr>\n    <tr>\n      <th>6</th>\n      <td>Gradient Boosting Trees</td>\n      <td>86.61</td>\n    </tr>\n    <tr>\n      <th>7</th>\n      <td>CatBoost</td>\n      <td>83.91</td>\n    </tr>\n    <tr>\n      <th>0</th>\n      <td>KNN</td>\n      <td>83.69</td>\n    </tr>\n    <tr>\n      <th>1</th>\n      <td>Logistic Regression</td>\n      <td>79.98</td>\n    </tr>\n    <tr>\n      <th>2</th>\n      <td>Naive Bayes</td>\n      <td>78.52</td>\n    </tr>\n    <tr>\n      <th>4</th>\n      <td>Linear SVC</td>\n      <td>68.95</td>\n    </tr>\n    <tr>\n      <th>3</th>\n      <td>Stochastic Gradient Decent</td>\n      <td>61.75</td>\n    </tr>\n  </tbody>\n</table>\n</div>"
     },
     "execution_count": 776,
     "metadata": {},
     "output_type": "execute_result"
    }
   ],
   "source": [
    "models = pd.DataFrame({\n",
    "    'Model': ['KNN', 'Logistic Regression', 'Naive Bayes',\n",
    "              'Stochastic Gradient Decent', 'Linear SVC',\n",
    "              'Decision Tree', 'Gradient Boosting Trees',\n",
    "              'CatBoost'],\n",
    "    'Score': [\n",
    "        acc_knn,\n",
    "        acc_log,\n",
    "        acc_gaussian,\n",
    "        acc_sgd,\n",
    "        acc_linear_svc,\n",
    "        acc_dt,\n",
    "        acc_gbt,\n",
    "        acc_catboost\n",
    "    ]})\n",
    "print(\"---Regular Accuracy Scores---\")\n",
    "models.sort_values(by='Score', ascending=False)"
   ],
   "metadata": {
    "collapsed": false,
    "pycharm": {
     "name": "#%%\n"
    }
   }
  },
  {
   "cell_type": "code",
   "execution_count": 778,
   "outputs": [
    {
     "name": "stdout",
     "output_type": "stream",
     "text": [
      "---Cross-Validation Accuracy Scores---\n"
     ]
    },
    {
     "data": {
      "text/plain": "                        Model  Score\n7                    CatBoost  81.32\n6     Gradient Boosting Trees  80.65\n5               Decision Tree  79.98\n1         Logistic Regression  79.42\n2                 Naive Bayes  77.95\n4                  Linear SVC  77.95\n0                         KNN  76.38\n3  Stochastic Gradient Decent  72.55",
      "text/html": "<div>\n<style scoped>\n    .dataframe tbody tr th:only-of-type {\n        vertical-align: middle;\n    }\n\n    .dataframe tbody tr th {\n        vertical-align: top;\n    }\n\n    .dataframe thead th {\n        text-align: right;\n    }\n</style>\n<table border=\"1\" class=\"dataframe\">\n  <thead>\n    <tr style=\"text-align: right;\">\n      <th></th>\n      <th>Model</th>\n      <th>Score</th>\n    </tr>\n  </thead>\n  <tbody>\n    <tr>\n      <th>7</th>\n      <td>CatBoost</td>\n      <td>81.32</td>\n    </tr>\n    <tr>\n      <th>6</th>\n      <td>Gradient Boosting Trees</td>\n      <td>80.65</td>\n    </tr>\n    <tr>\n      <th>5</th>\n      <td>Decision Tree</td>\n      <td>79.98</td>\n    </tr>\n    <tr>\n      <th>1</th>\n      <td>Logistic Regression</td>\n      <td>79.42</td>\n    </tr>\n    <tr>\n      <th>2</th>\n      <td>Naive Bayes</td>\n      <td>77.95</td>\n    </tr>\n    <tr>\n      <th>4</th>\n      <td>Linear SVC</td>\n      <td>77.95</td>\n    </tr>\n    <tr>\n      <th>0</th>\n      <td>KNN</td>\n      <td>76.38</td>\n    </tr>\n    <tr>\n      <th>3</th>\n      <td>Stochastic Gradient Decent</td>\n      <td>72.55</td>\n    </tr>\n  </tbody>\n</table>\n</div>"
     },
     "execution_count": 778,
     "metadata": {},
     "output_type": "execute_result"
    }
   ],
   "source": [
    "cv_models = pd.DataFrame({\n",
    "    'Model': ['KNN', 'Logistic Regression', 'Naive Bayes',\n",
    "              'Stochastic Gradient Decent', 'Linear SVC',\n",
    "              'Decision Tree', 'Gradient Boosting Trees',\n",
    "              'CatBoost'],\n",
    "    'Score': [\n",
    "        acc_cv_knn,\n",
    "        acc_cv_log,\n",
    "        acc_cv_gaussian,\n",
    "        acc_cv_sgd,\n",
    "        acc_cv_linear_svc,\n",
    "        acc_cv_dt,\n",
    "        acc_cv_gbt,\n",
    "        acc_cv_catboost\n",
    "    ]})\n",
    "\n",
    "print(\"---Cross-Validation Accuracy Scores---\")\n",
    "cv_models.sort_values(by='Score', ascending=False)"
   ],
   "metadata": {
    "collapsed": false,
    "pycharm": {
     "name": "#%%\n"
    }
   }
  },
  {
   "cell_type": "markdown",
   "source": [
    "We can see from the tables, the CatBoost model had the best results. Getting just under 82% is pretty good considering guessing would result in about 50% accuracy (0 or 1).\n",
    "\n",
    "We'll pay more attention to the cross-validation figure.\n",
    "\n",
    "Cross-validation is more robust than just the `.fit()` models as it does multiple passes over the data instead of one.\n",
    "\n",
    "Because the CatBoost model got the best results, we'll use it for the next steps.\n",
    "\n",
    "**Challenge:** How could you improve the CatBoost model?"
   ],
   "metadata": {
    "collapsed": false,
    "pycharm": {
     "name": "#%% md\n"
    }
   }
  },
  {
   "cell_type": "markdown",
   "source": [
    "## Feature Importance\n",
    "\n",
    "Which features of the best model were most important for making predictions?"
   ],
   "metadata": {
    "collapsed": false,
    "pycharm": {
     "name": "#%% md\n"
    }
   }
  },
  {
   "cell_type": "code",
   "execution_count": 782,
   "outputs": [],
   "source": [
    "# Feature Importance\n",
    "def feature_importance(model, data):\n",
    "    \"\"\"\n",
    "    Function to show which features are most important in the model.\n",
    "    :param model: Which model to use?\n",
    "    :param data: What data to use?\n",
    "    \"\"\"\n",
    "    fea_imp = pd.DataFrame({'imp': model.feature_importances_, 'col': data.columns})\n",
    "    fea_imp = fea_imp.sort_values(['imp', 'col'], ascending=[True, False]).iloc[-30:]\n",
    "    _ = fea_imp.plot(kind='barh', x='col', y='imp', figsize=(20, 10))\n",
    "    return fea_imp"
   ],
   "metadata": {
    "collapsed": false,
    "pycharm": {
     "name": "#%%\n"
    }
   }
  },
  {
   "cell_type": "code",
   "execution_count": 783,
   "outputs": [
    {
     "data": {
      "text/plain": "          imp         col\n4    0.992061  embarked_Q\n3    1.213711  embarked_C\n5    1.677219  embarked_S\n9    2.178083    pclass_2\n8    3.243021    pclass_1\n0   10.797435       SibSp\n10  11.205450    pclass_3\n1   13.988886       Parch\n2   15.753218        Fare\n6   17.695520  sex_female\n7   21.255397    sex_male",
      "text/html": "<div>\n<style scoped>\n    .dataframe tbody tr th:only-of-type {\n        vertical-align: middle;\n    }\n\n    .dataframe tbody tr th {\n        vertical-align: top;\n    }\n\n    .dataframe thead th {\n        text-align: right;\n    }\n</style>\n<table border=\"1\" class=\"dataframe\">\n  <thead>\n    <tr style=\"text-align: right;\">\n      <th></th>\n      <th>imp</th>\n      <th>col</th>\n    </tr>\n  </thead>\n  <tbody>\n    <tr>\n      <th>4</th>\n      <td>0.992061</td>\n      <td>embarked_Q</td>\n    </tr>\n    <tr>\n      <th>3</th>\n      <td>1.213711</td>\n      <td>embarked_C</td>\n    </tr>\n    <tr>\n      <th>5</th>\n      <td>1.677219</td>\n      <td>embarked_S</td>\n    </tr>\n    <tr>\n      <th>9</th>\n      <td>2.178083</td>\n      <td>pclass_2</td>\n    </tr>\n    <tr>\n      <th>8</th>\n      <td>3.243021</td>\n      <td>pclass_1</td>\n    </tr>\n    <tr>\n      <th>0</th>\n      <td>10.797435</td>\n      <td>SibSp</td>\n    </tr>\n    <tr>\n      <th>10</th>\n      <td>11.205450</td>\n      <td>pclass_3</td>\n    </tr>\n    <tr>\n      <th>1</th>\n      <td>13.988886</td>\n      <td>Parch</td>\n    </tr>\n    <tr>\n      <th>2</th>\n      <td>15.753218</td>\n      <td>Fare</td>\n    </tr>\n    <tr>\n      <th>6</th>\n      <td>17.695520</td>\n      <td>sex_female</td>\n    </tr>\n    <tr>\n      <th>7</th>\n      <td>21.255397</td>\n      <td>sex_male</td>\n    </tr>\n  </tbody>\n</table>\n</div>"
     },
     "execution_count": 783,
     "metadata": {},
     "output_type": "execute_result"
    },
    {
     "data": {
      "text/plain": "<Figure size 1440x720 with 1 Axes>",
      "image/png": "[encoded data removed]"
     },
     "metadata": {},
     "output_type": "display_data"
    }
   ],
   "source": [
    "# Plot the feature importance scores\n",
    "feature_importance(catboost_model, X_train)"
   ],
   "metadata": {
    "collapsed": false,
    "pycharm": {
     "name": "#%%\n"
    }
   }
  },
  {
   "cell_type": "markdown",
   "source": [
    "#### Why would you want feature importance?\n",
    "\n",
    "Featrue importance shows how much each feature contributed to the model.\n",
    "\n",
    "You could take this information and remove features which don't contribute much to reduce dimenstionality (and save compute).\n",
    "\n",
    "You could improve features which don't offer much to the overall model.\n",
    "\n",
    "Or you could improve features which offer more to the model. In this case, there aren't many ways you could improve sex as it's already a binary.\n",
    "\n",
    "Feature importance figures also show people who may not be familiar with the problem what features of their data are most important when it comes to making predictions with machine learning models."
   ],
   "metadata": {
    "collapsed": false,
    "pycharm": {
     "name": "#%% md\n"
    }
   }
  },
  {
   "cell_type": "markdown",
   "source": [
    "## Precision and Recall\n",
    "\n",
    "Precision and recall are two metrics which are used for cases where you have have an imbalanced classification problem.\n",
    "\n",
    "For example, you may have 100,000 people and only 1 of them gets a certain disease. If your model predicts that all people don't have the disease, it only misses 1 in 100,000 so its accuracy is 99.999%. But this isn't really helpful.\n",
    "\n",
    "This is where precision an recall come in.\n",
    "\n",
    "**Recall** = a metric which measures a models ability to find all the relevant cases in a dataset.\n",
    "\n",
    "Recall would be the models ability to find the 1 person in 100,000 who has the disease.\n",
    "\n",
    "**Precision** = a metric which measures a models ability to correctly identify only relevant instances.\n",
    "\n",
    "In our example, Precision would be if the model found the 1 person who had the disease, did they actually have the disease.\n",
    "\n",
    "Combining the precision and recall, gives an **F1 score**.\n",
    "\n",
    "These metrics will all fall between 0 and 1, with a higher value being better.\n",
    "\n",
    "Although, they don't necessarily need to come into play for our Titantic problem, they're worth remembering for your future work."
   ],
   "metadata": {
    "collapsed": false,
    "pycharm": {
     "name": "#%% md\n"
    }
   }
  },
  {
   "cell_type": "code",
   "execution_count": 788,
   "outputs": [
    {
     "name": "stderr",
     "output_type": "stream",
     "text": [
      "Custom logger is already specified. Specify more than one logger at same time is not thread safe."
     ]
    },
    {
     "data": {
      "text/plain": "MetricVisualizer(layout=Layout(align_self='stretch', height='500px'))",
      "application/vnd.jupyter.widget-view+json": {
       "version_major": 2,
       "version_minor": 0,
       "model_id": "e6ba13bfe0ab40718b1cbdfdbd9e274f"
      }
     },
     "metadata": {},
     "output_type": "display_data"
    },
    {
     "name": "stdout",
     "output_type": "stream",
     "text": [
      "Precision: 0.8286662683284687\n",
      "Recall: 0.6833382352941176\n",
      "F1: 0.7489789466084935\n",
      "AUC: 0.8842839467480982\n"
     ]
    }
   ],
   "source": [
    "metrics = ['Precision', 'Recall', 'F1', 'AUC']\n",
    "\n",
    "eval_metrics = catboost_model.eval_metrics(train_pool,\n",
    "                                           metrics=metrics,\n",
    "                                           plot=True)\n",
    "\n",
    "for metric in metrics:\n",
    "    print(str(metric)+\": {}\".format(np.mean(eval_metrics[metric])))"
   ],
   "metadata": {
    "collapsed": false,
    "pycharm": {
     "name": "#%%\n"
    }
   }
  },
  {
   "cell_type": "markdown",
   "source": [
    "Recall is low, this means there's a higher amount of false negatives (predicting Did not survive when it was actually Survived).\n",
    "\n",
    "Precision is higher therefore there's less false positives (predicting Survived, when it was actually Did not survive).\n",
    "\n",
    "**Challenge:** What are some ways to visualise precision and recall? Hint: You may want to look into what a confusion matrix is, you can find much more information in this blog post: Beyond Accuracy: Precision and Recall"
   ],
   "metadata": {
    "collapsed": false,
    "pycharm": {
     "name": "#%% md\n"
    }
   }
  },
  {
   "cell_type": "markdown",
   "source": [
    "## Submission\n",
    "et's use the model with the highest cross-validation accuracy score to make a prediction on the test dataset and then submit our predictions to Kaggle.\n",
    "\n",
    "We want to make predictions on the same kind of columnns our model is trained on.\n",
    "\n",
    "So we have to select the subset of right columns of the `test` dateframe, encode them and make a prediciton with our model."
   ],
   "metadata": {
    "collapsed": false,
    "pycharm": {
     "name": "#%% md\n"
    }
   }
  },
  {
   "cell_type": "code",
   "execution_count": 789,
   "outputs": [
    {
     "data": {
      "text/plain": "   SibSp  Parch     Fare  embarked_C  embarked_Q  embarked_S  sex_female  \\\n0      1      0   7.2500           0           0           1           0   \n1      1      0  71.2833           1           0           0           1   \n2      0      0   7.9250           0           0           1           1   \n3      1      0  53.1000           0           0           1           1   \n4      0      0   8.0500           0           0           1           0   \n\n   sex_male  pclass_1  pclass_2  pclass_3  \n0         1         0         0         1  \n1         0         1         0         0  \n2         0         0         0         1  \n3         0         1         0         0  \n4         1         0         0         1  ",
      "text/html": "<div>\n<style scoped>\n    .dataframe tbody tr th:only-of-type {\n        vertical-align: middle;\n    }\n\n    .dataframe tbody tr th {\n        vertical-align: top;\n    }\n\n    .dataframe thead th {\n        text-align: right;\n    }\n</style>\n<table border=\"1\" class=\"dataframe\">\n  <thead>\n    <tr style=\"text-align: right;\">\n      <th></th>\n      <th>SibSp</th>\n      <th>Parch</th>\n      <th>Fare</th>\n      <th>embarked_C</th>\n      <th>embarked_Q</th>\n      <th>embarked_S</th>\n      <th>sex_female</th>\n      <th>sex_male</th>\n      <th>pclass_1</th>\n      <th>pclass_2</th>\n      <th>pclass_3</th>\n    </tr>\n  </thead>\n  <tbody>\n    <tr>\n      <th>0</th>\n      <td>1</td>\n      <td>0</td>\n      <td>7.2500</td>\n      <td>0</td>\n      <td>0</td>\n      <td>1</td>\n      <td>0</td>\n      <td>1</td>\n      <td>0</td>\n      <td>0</td>\n      <td>1</td>\n    </tr>\n    <tr>\n      <th>1</th>\n      <td>1</td>\n      <td>0</td>\n      <td>71.2833</td>\n      <td>1</td>\n      <td>0</td>\n      <td>0</td>\n      <td>1</td>\n      <td>0</td>\n      <td>1</td>\n      <td>0</td>\n      <td>0</td>\n    </tr>\n    <tr>\n      <th>2</th>\n      <td>0</td>\n      <td>0</td>\n      <td>7.9250</td>\n      <td>0</td>\n      <td>0</td>\n      <td>1</td>\n      <td>1</td>\n      <td>0</td>\n      <td>0</td>\n      <td>0</td>\n      <td>1</td>\n    </tr>\n    <tr>\n      <th>3</th>\n      <td>1</td>\n      <td>0</td>\n      <td>53.1000</td>\n      <td>0</td>\n      <td>0</td>\n      <td>1</td>\n      <td>1</td>\n      <td>0</td>\n      <td>1</td>\n      <td>0</td>\n      <td>0</td>\n    </tr>\n    <tr>\n      <th>4</th>\n      <td>0</td>\n      <td>0</td>\n      <td>8.0500</td>\n      <td>0</td>\n      <td>0</td>\n      <td>1</td>\n      <td>0</td>\n      <td>1</td>\n      <td>0</td>\n      <td>0</td>\n      <td>1</td>\n    </tr>\n  </tbody>\n</table>\n</div>"
     },
     "execution_count": 789,
     "metadata": {},
     "output_type": "execute_result"
    }
   ],
   "source": [
    "# We need our test dataframe to look like this one\n",
    "X_train.head()"
   ],
   "metadata": {
    "collapsed": false,
    "pycharm": {
     "name": "#%%\n"
    }
   }
  },
  {
   "cell_type": "code",
   "execution_count": 790,
   "outputs": [
    {
     "data": {
      "text/plain": "   PassengerId  Pclass                                          Name     Sex  \\\n0          892       3                              Kelly, Mr. James    male   \n1          893       3              Wilkes, Mrs. James (Ellen Needs)  female   \n2          894       2                     Myles, Mr. Thomas Francis    male   \n3          895       3                              Wirz, Mr. Albert    male   \n4          896       3  Hirvonen, Mrs. Alexander (Helga E Lindqvist)  female   \n\n    Age  SibSp  Parch   Ticket     Fare Cabin Embarked  \n0  34.5      0      0   330911   7.8292   NaN        Q  \n1  47.0      1      0   363272   7.0000   NaN        S  \n2  62.0      0      0   240276   9.6875   NaN        Q  \n3  27.0      0      0   315154   8.6625   NaN        S  \n4  22.0      1      1  3101298  12.2875   NaN        S  ",
      "text/html": "<div>\n<style scoped>\n    .dataframe tbody tr th:only-of-type {\n        vertical-align: middle;\n    }\n\n    .dataframe tbody tr th {\n        vertical-align: top;\n    }\n\n    .dataframe thead th {\n        text-align: right;\n    }\n</style>\n<table border=\"1\" class=\"dataframe\">\n  <thead>\n    <tr style=\"text-align: right;\">\n      <th></th>\n      <th>PassengerId</th>\n      <th>Pclass</th>\n      <th>Name</th>\n      <th>Sex</th>\n      <th>Age</th>\n      <th>SibSp</th>\n      <th>Parch</th>\n      <th>Ticket</th>\n      <th>Fare</th>\n      <th>Cabin</th>\n      <th>Embarked</th>\n    </tr>\n  </thead>\n  <tbody>\n    <tr>\n      <th>0</th>\n      <td>892</td>\n      <td>3</td>\n      <td>Kelly, Mr. James</td>\n      <td>male</td>\n      <td>34.5</td>\n      <td>0</td>\n      <td>0</td>\n      <td>330911</td>\n      <td>7.8292</td>\n      <td>NaN</td>\n      <td>Q</td>\n    </tr>\n    <tr>\n      <th>1</th>\n      <td>893</td>\n      <td>3</td>\n      <td>Wilkes, Mrs. James (Ellen Needs)</td>\n      <td>female</td>\n      <td>47.0</td>\n      <td>1</td>\n      <td>0</td>\n      <td>363272</td>\n      <td>7.0000</td>\n      <td>NaN</td>\n      <td>S</td>\n    </tr>\n    <tr>\n      <th>2</th>\n      <td>894</td>\n      <td>2</td>\n      <td>Myles, Mr. Thomas Francis</td>\n      <td>male</td>\n      <td>62.0</td>\n      <td>0</td>\n      <td>0</td>\n      <td>240276</td>\n      <td>9.6875</td>\n      <td>NaN</td>\n      <td>Q</td>\n    </tr>\n    <tr>\n      <th>3</th>\n      <td>895</td>\n      <td>3</td>\n      <td>Wirz, Mr. Albert</td>\n      <td>male</td>\n      <td>27.0</td>\n      <td>0</td>\n      <td>0</td>\n      <td>315154</td>\n      <td>8.6625</td>\n      <td>NaN</td>\n      <td>S</td>\n    </tr>\n    <tr>\n      <th>4</th>\n      <td>896</td>\n      <td>3</td>\n      <td>Hirvonen, Mrs. Alexander (Helga E Lindqvist)</td>\n      <td>female</td>\n      <td>22.0</td>\n      <td>1</td>\n      <td>1</td>\n      <td>3101298</td>\n      <td>12.2875</td>\n      <td>NaN</td>\n      <td>S</td>\n    </tr>\n  </tbody>\n</table>\n</div>"
     },
     "execution_count": 790,
     "metadata": {},
     "output_type": "execute_result"
    }
   ],
   "source": [
    "# Our test dataframe has some columns our model hasn't been trained on\n",
    "test.head()"
   ],
   "metadata": {
    "collapsed": false,
    "pycharm": {
     "name": "#%%\n"
    }
   }
  },
  {
   "cell_type": "code",
   "execution_count": 791,
   "outputs": [],
   "source": [
    "# One hot encode the columns in the test data frame (like X_train)\n",
    "test_embarked_one_hot = pd.get_dummies(test['Embarked'],\n",
    "                                       prefix='embarked')\n",
    "\n",
    "test_sex_one_hot = pd.get_dummies(test['Sex'],\n",
    "                                  prefix='sex')\n",
    "\n",
    "test_plcass_one_hot = pd.get_dummies(test['Pclass'],\n",
    "                                     prefix='pclass')"
   ],
   "metadata": {
    "collapsed": false,
    "pycharm": {
     "name": "#%%\n"
    }
   }
  },
  {
   "cell_type": "code",
   "execution_count": 792,
   "outputs": [],
   "source": [
    "# Combine the test one hot encoded columns with test\n",
    "test = pd.concat([test,\n",
    "                  test_embarked_one_hot,\n",
    "                  test_sex_one_hot,\n",
    "                  test_plcass_one_hot], axis=1)"
   ],
   "metadata": {
    "collapsed": false,
    "pycharm": {
     "name": "#%%\n"
    }
   }
  },
  {
   "cell_type": "code",
   "execution_count": 794,
   "outputs": [
    {
     "data": {
      "text/plain": "   PassengerId  Pclass                                          Name     Sex  \\\n0          892       3                              Kelly, Mr. James    male   \n1          893       3              Wilkes, Mrs. James (Ellen Needs)  female   \n2          894       2                     Myles, Mr. Thomas Francis    male   \n3          895       3                              Wirz, Mr. Albert    male   \n4          896       3  Hirvonen, Mrs. Alexander (Helga E Lindqvist)  female   \n\n    Age  SibSp  Parch   Ticket     Fare Cabin Embarked  embarked_C  \\\n0  34.5      0      0   330911   7.8292   NaN        Q           0   \n1  47.0      1      0   363272   7.0000   NaN        S           0   \n2  62.0      0      0   240276   9.6875   NaN        Q           0   \n3  27.0      0      0   315154   8.6625   NaN        S           0   \n4  22.0      1      1  3101298  12.2875   NaN        S           0   \n\n   embarked_Q  embarked_S  sex_female  sex_male  pclass_1  pclass_2  pclass_3  \n0           1           0           0         1         0         0         1  \n1           0           1           1         0         0         0         1  \n2           1           0           0         1         0         1         0  \n3           0           1           0         1         0         0         1  \n4           0           1           1         0         0         0         1  ",
      "text/html": "<div>\n<style scoped>\n    .dataframe tbody tr th:only-of-type {\n        vertical-align: middle;\n    }\n\n    .dataframe tbody tr th {\n        vertical-align: top;\n    }\n\n    .dataframe thead th {\n        text-align: right;\n    }\n</style>\n<table border=\"1\" class=\"dataframe\">\n  <thead>\n    <tr style=\"text-align: right;\">\n      <th></th>\n      <th>PassengerId</th>\n      <th>Pclass</th>\n      <th>Name</th>\n      <th>Sex</th>\n      <th>Age</th>\n      <th>SibSp</th>\n      <th>Parch</th>\n      <th>Ticket</th>\n      <th>Fare</th>\n      <th>Cabin</th>\n      <th>Embarked</th>\n      <th>embarked_C</th>\n      <th>embarked_Q</th>\n      <th>embarked_S</th>\n      <th>sex_female</th>\n      <th>sex_male</th>\n      <th>pclass_1</th>\n      <th>pclass_2</th>\n      <th>pclass_3</th>\n    </tr>\n  </thead>\n  <tbody>\n    <tr>\n      <th>0</th>\n      <td>892</td>\n      <td>3</td>\n      <td>Kelly, Mr. James</td>\n      <td>male</td>\n      <td>34.5</td>\n      <td>0</td>\n      <td>0</td>\n      <td>330911</td>\n      <td>7.8292</td>\n      <td>NaN</td>\n      <td>Q</td>\n      <td>0</td>\n      <td>1</td>\n      <td>0</td>\n      <td>0</td>\n      <td>1</td>\n      <td>0</td>\n      <td>0</td>\n      <td>1</td>\n    </tr>\n    <tr>\n      <th>1</th>\n      <td>893</td>\n      <td>3</td>\n      <td>Wilkes, Mrs. James (Ellen Needs)</td>\n      <td>female</td>\n      <td>47.0</td>\n      <td>1</td>\n      <td>0</td>\n      <td>363272</td>\n      <td>7.0000</td>\n      <td>NaN</td>\n      <td>S</td>\n      <td>0</td>\n      <td>0</td>\n      <td>1</td>\n      <td>1</td>\n      <td>0</td>\n      <td>0</td>\n      <td>0</td>\n      <td>1</td>\n    </tr>\n    <tr>\n      <th>2</th>\n      <td>894</td>\n      <td>2</td>\n      <td>Myles, Mr. Thomas Francis</td>\n      <td>male</td>\n      <td>62.0</td>\n      <td>0</td>\n      <td>0</td>\n      <td>240276</td>\n      <td>9.6875</td>\n      <td>NaN</td>\n      <td>Q</td>\n      <td>0</td>\n      <td>1</td>\n      <td>0</td>\n      <td>0</td>\n      <td>1</td>\n      <td>0</td>\n      <td>1</td>\n      <td>0</td>\n    </tr>\n    <tr>\n      <th>3</th>\n      <td>895</td>\n      <td>3</td>\n      <td>Wirz, Mr. Albert</td>\n      <td>male</td>\n      <td>27.0</td>\n      <td>0</td>\n      <td>0</td>\n      <td>315154</td>\n      <td>8.6625</td>\n      <td>NaN</td>\n      <td>S</td>\n      <td>0</td>\n      <td>0</td>\n      <td>1</td>\n      <td>0</td>\n      <td>1</td>\n      <td>0</td>\n      <td>0</td>\n      <td>1</td>\n    </tr>\n    <tr>\n      <th>4</th>\n      <td>896</td>\n      <td>3</td>\n      <td>Hirvonen, Mrs. Alexander (Helga E Lindqvist)</td>\n      <td>female</td>\n      <td>22.0</td>\n      <td>1</td>\n      <td>1</td>\n      <td>3101298</td>\n      <td>12.2875</td>\n      <td>NaN</td>\n      <td>S</td>\n      <td>0</td>\n      <td>0</td>\n      <td>1</td>\n      <td>1</td>\n      <td>0</td>\n      <td>0</td>\n      <td>0</td>\n      <td>1</td>\n    </tr>\n  </tbody>\n</table>\n</div>"
     },
     "execution_count": 794,
     "metadata": {},
     "output_type": "execute_result"
    }
   ],
   "source": [
    "# Let's look at test, it should have one hot encoded columns now\n",
    "test.head()"
   ],
   "metadata": {
    "collapsed": false,
    "pycharm": {
     "name": "#%%\n"
    }
   }
  },
  {
   "cell_type": "markdown",
   "source": [
    "The columns in `test` have been converted to the same format at df_con_enc. Now we can make predictions on the `test` dataframe columns we built a model on.\n",
    "\n",
    "We can find the columns we made predictions on with `X_train.columns`."
   ],
   "metadata": {
    "collapsed": false,
    "pycharm": {
     "name": "#%% md\n"
    }
   }
  },
  {
   "cell_type": "code",
   "execution_count": 796,
   "outputs": [
    {
     "data": {
      "text/plain": "Index(['SibSp', 'Parch', 'Fare', 'embarked_C', 'embarked_Q', 'embarked_S',\n       'sex_female', 'sex_male', 'pclass_1', 'pclass_2', 'pclass_3'],\n      dtype='object')"
     },
     "execution_count": 796,
     "metadata": {},
     "output_type": "execute_result"
    }
   ],
   "source": [
    "# Create a list of columns to be used for the predictions\n",
    "wanted_test_columns = X_train.columns\n",
    "wanted_test_columns"
   ],
   "metadata": {
    "collapsed": false,
    "pycharm": {
     "name": "#%%\n"
    }
   }
  },
  {
   "cell_type": "code",
   "execution_count": 797,
   "outputs": [],
   "source": [
    "# Make a prediction using the CatBoost model on the wanted columns\n",
    "predictions = catboost_model.predict(test[wanted_test_columns])"
   ],
   "metadata": {
    "collapsed": false,
    "pycharm": {
     "name": "#%%\n"
    }
   }
  },
  {
   "cell_type": "code",
   "execution_count": 798,
   "outputs": [
    {
     "data": {
      "text/plain": "array([0, 0, 0, 0, 1, 0, 1, 0, 1, 0, 0, 0, 1, 0, 1, 1, 0, 0, 0, 1])"
     },
     "execution_count": 798,
     "metadata": {},
     "output_type": "execute_result"
    }
   ],
   "source": [
    "# Our predictions array is comprised of 0's and 1's (Survived or Did Not Survive)\n",
    "predictions[:20]"
   ],
   "metadata": {
    "collapsed": false,
    "pycharm": {
     "name": "#%%\n"
    }
   }
  },
  {
   "cell_type": "code",
   "execution_count": 799,
   "outputs": [
    {
     "data": {
      "text/plain": "   PassengerId  Survived\n0          892         0\n1          893         0\n2          894         0\n3          895         0\n4          896         1",
      "text/html": "<div>\n<style scoped>\n    .dataframe tbody tr th:only-of-type {\n        vertical-align: middle;\n    }\n\n    .dataframe tbody tr th {\n        vertical-align: top;\n    }\n\n    .dataframe thead th {\n        text-align: right;\n    }\n</style>\n<table border=\"1\" class=\"dataframe\">\n  <thead>\n    <tr style=\"text-align: right;\">\n      <th></th>\n      <th>PassengerId</th>\n      <th>Survived</th>\n    </tr>\n  </thead>\n  <tbody>\n    <tr>\n      <th>0</th>\n      <td>892</td>\n      <td>0</td>\n    </tr>\n    <tr>\n      <th>1</th>\n      <td>893</td>\n      <td>0</td>\n    </tr>\n    <tr>\n      <th>2</th>\n      <td>894</td>\n      <td>0</td>\n    </tr>\n    <tr>\n      <th>3</th>\n      <td>895</td>\n      <td>0</td>\n    </tr>\n    <tr>\n      <th>4</th>\n      <td>896</td>\n      <td>1</td>\n    </tr>\n  </tbody>\n</table>\n</div>"
     },
     "execution_count": 799,
     "metadata": {},
     "output_type": "execute_result"
    }
   ],
   "source": [
    "# Create a submisison dataframe and append the relevant columns\n",
    "submission = pd.DataFrame()\n",
    "submission['PassengerId'] = test['PassengerId']\n",
    "submission['Survived'] = predictions # our model predictions on the test dataset\n",
    "submission.head()"
   ],
   "metadata": {
    "collapsed": false,
    "pycharm": {
     "name": "#%%\n"
    }
   }
  },
  {
   "cell_type": "code",
   "execution_count": 800,
   "outputs": [
    {
     "data": {
      "text/plain": "   PassengerId  Survived\n0          892         0\n1          893         1\n2          894         0\n3          895         0\n4          896         1",
      "text/html": "<div>\n<style scoped>\n    .dataframe tbody tr th:only-of-type {\n        vertical-align: middle;\n    }\n\n    .dataframe tbody tr th {\n        vertical-align: top;\n    }\n\n    .dataframe thead th {\n        text-align: right;\n    }\n</style>\n<table border=\"1\" class=\"dataframe\">\n  <thead>\n    <tr style=\"text-align: right;\">\n      <th></th>\n      <th>PassengerId</th>\n      <th>Survived</th>\n    </tr>\n  </thead>\n  <tbody>\n    <tr>\n      <th>0</th>\n      <td>892</td>\n      <td>0</td>\n    </tr>\n    <tr>\n      <th>1</th>\n      <td>893</td>\n      <td>1</td>\n    </tr>\n    <tr>\n      <th>2</th>\n      <td>894</td>\n      <td>0</td>\n    </tr>\n    <tr>\n      <th>3</th>\n      <td>895</td>\n      <td>0</td>\n    </tr>\n    <tr>\n      <th>4</th>\n      <td>896</td>\n      <td>1</td>\n    </tr>\n  </tbody>\n</table>\n</div>"
     },
     "execution_count": 800,
     "metadata": {},
     "output_type": "execute_result"
    }
   ],
   "source": [
    "# What does our submission have to look like?\n",
    "gender_submission.head()"
   ],
   "metadata": {
    "collapsed": false,
    "pycharm": {
     "name": "#%%\n"
    }
   }
  },
  {
   "cell_type": "code",
   "execution_count": 802,
   "outputs": [
    {
     "name": "stdout",
     "output_type": "stream",
     "text": [
      "Submission dataframe is the same length as test (418 rows).\n"
     ]
    }
   ],
   "source": [
    "# Are our test and submission dataframes the same length?\n",
    "if len(submission) == len(test):\n",
    "    print(\"Submission dataframe is the same length as test ({} rows).\".format(len(submission)))\n",
    "else:\n",
    "    print(\"Dataframes mismatched, won't be able to submit to Kaggle.\")"
   ],
   "metadata": {
    "collapsed": false,
    "pycharm": {
     "name": "#%%\n"
    }
   }
  },
  {
   "cell_type": "code",
   "execution_count": 807,
   "outputs": [
    {
     "name": "stdout",
     "output_type": "stream",
     "text": [
      "Submission CSV is ready!\n"
     ]
    }
   ],
   "source": [
    "# Convert submission dataframe to csv for submission to csv for Kaggle submission\n",
    "submission.to_csv('catboost_submission.csv', index=False)\n",
    "print('Submission CSV is ready!')"
   ],
   "metadata": {
    "collapsed": false,
    "pycharm": {
     "name": "#%%\n"
    }
   }
  },
  {
   "cell_type": "code",
   "execution_count": 810,
   "outputs": [
    {
     "data": {
      "text/plain": "   PassengerId  Survived\n0          892         0\n1          893         0\n2          894         0\n3          895         0\n4          896         1",
      "text/html": "<div>\n<style scoped>\n    .dataframe tbody tr th:only-of-type {\n        vertical-align: middle;\n    }\n\n    .dataframe tbody tr th {\n        vertical-align: top;\n    }\n\n    .dataframe thead th {\n        text-align: right;\n    }\n</style>\n<table border=\"1\" class=\"dataframe\">\n  <thead>\n    <tr style=\"text-align: right;\">\n      <th></th>\n      <th>PassengerId</th>\n      <th>Survived</th>\n    </tr>\n  </thead>\n  <tbody>\n    <tr>\n      <th>0</th>\n      <td>892</td>\n      <td>0</td>\n    </tr>\n    <tr>\n      <th>1</th>\n      <td>893</td>\n      <td>0</td>\n    </tr>\n    <tr>\n      <th>2</th>\n      <td>894</td>\n      <td>0</td>\n    </tr>\n    <tr>\n      <th>3</th>\n      <td>895</td>\n      <td>0</td>\n    </tr>\n    <tr>\n      <th>4</th>\n      <td>896</td>\n      <td>1</td>\n    </tr>\n  </tbody>\n</table>\n</div>"
     },
     "execution_count": 810,
     "metadata": {},
     "output_type": "execute_result"
    }
   ],
   "source": [
    "# Check the submission csv to make sure it's in the right format\n",
    "submissions_check = pd.read_csv(\"catboost_submission.csv\")\n",
    "submissions_check.head()"
   ],
   "metadata": {
    "collapsed": false,
    "pycharm": {
     "name": "#%%\n"
    }
   }
  }
 ],
 "metadata": {
  "kernelspec": {
   "display_name": "Python 3",
   "language": "python",
   "name": "python3"
  },
  "language_info": {
   "codemirror_mode": {
    "name": "ipython",
    "version": 2
   },
   "file_extension": ".py",
   "mimetype": "text/x-python",
   "name": "python",
   "nbconvert_exporter": "python",
   "pygments_lexer": "ipython2",
   "version": "2.7.6"
  }
 },
 "nbformat": 4,
 "nbformat_minor": 0
}